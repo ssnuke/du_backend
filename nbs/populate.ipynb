{
 "cells": [
  {
   "cell_type": "code",
   "execution_count": 28,
   "id": "4b3a4378",
   "metadata": {},
   "outputs": [
    {
     "name": "stdout",
     "output_type": "stream",
     "text": [
      "Defaulting to user installation because normal site-packages is not writeable\n",
      "Requirement already satisfied: requests in /Users/snehith/Library/Python/3.9/lib/python/site-packages (2.32.5)\n",
      "Requirement already satisfied: charset_normalizer<4,>=2 in /Users/snehith/Library/Python/3.9/lib/python/site-packages (from requests) (3.4.3)\n",
      "Requirement already satisfied: idna<4,>=2.5 in /Users/snehith/Library/Python/3.9/lib/python/site-packages (from requests) (3.10)\n",
      "Requirement already satisfied: urllib3<3,>=1.21.1 in /Users/snehith/Library/Python/3.9/lib/python/site-packages (from requests) (2.5.0)\n",
      "Requirement already satisfied: certifi>=2017.4.17 in /Users/snehith/Library/Python/3.9/lib/python/site-packages (from requests) (2025.8.3)\n"
     ]
    }
   ],
   "source": [
    "!pip3 install requests"
   ]
  },
  {
   "cell_type": "code",
   "execution_count": 32,
   "id": "c338f5b9",
   "metadata": {},
   "outputs": [],
   "source": [
    "import requests \n",
    "import random\n",
    "import string\n",
    "import json\n",
    "from datetime import datetime\n",
    "\n",
    "base_url = \"https://du-backend-t437.onrender.com/\"\n",
    "# base_url = \"http://localhost:8002\"\n",
    "\n",
    "ir_ids = [\n",
    "    \"IM7216\", \"IM6599\", \"IM1579\", \"IM9252\", \"IM2004\", \"IM4230\", \"IM7990\", \"IM0262\",\n",
    "    \"IM1781\", \"IM1332\", \"IM9002\", \"IM4546\", \"IM4927\", \"IM6392\", \"IM2779\", \"IM9215\",\n",
    "    \"IM8947\", \"IM8361\", \"IM2499\", \"IM0424\", \"IM6678\", \"IM9375\", \"IM8657\", \"IM5852\", \"IM1530\"\n",
    "]"
   ]
  },
  {
   "cell_type": "code",
   "execution_count": 33,
   "id": "c5f3d4d2",
   "metadata": {},
   "outputs": [
    {
     "name": "stdout",
     "output_type": "stream",
     "text": [
      "{'ir_id': 'IM7216'}\n",
      "{'ir_id': 'IM6599'}\n",
      "{'ir_id': 'IM1579'}\n",
      "{'ir_id': 'IM9252'}\n",
      "{'ir_id': 'IM2004'}\n",
      "{'ir_id': 'IM4230'}\n",
      "{'ir_id': 'IM7990'}\n",
      "{'ir_id': 'IM0262'}\n",
      "{'ir_id': 'IM1781'}\n",
      "{'ir_id': 'IM1332'}\n",
      "{'ir_id': 'IM9002'}\n",
      "{'ir_id': 'IM4546'}\n",
      "{'ir_id': 'IM4927'}\n",
      "{'ir_id': 'IM6392'}\n",
      "{'ir_id': 'IM2779'}\n",
      "{'ir_id': 'IM9215'}\n",
      "{'ir_id': 'IM8947'}\n",
      "{'ir_id': 'IM8361'}\n",
      "{'ir_id': 'IM2499'}\n",
      "{'ir_id': 'IM0424'}\n",
      "{'ir_id': 'IM6678'}\n",
      "{'ir_id': 'IM9375'}\n",
      "{'ir_id': 'IM8657'}\n",
      "{'ir_id': 'IM5852'}\n",
      "{'ir_id': 'IM1530'}\n"
     ]
    }
   ],
   "source": [
    "\n",
    "def createIr(new_id):  # Make sure this is defined\n",
    "    path = \"/api/add_ir_id\"\n",
    "    end_point = f\"{base_url}{path}\"\n",
    "    payload = {\"ir_id\": new_id}\n",
    "\n",
    "    try:\n",
    "        response = requests.post(end_point, json=payload, timeout=10)\n",
    "        response.raise_for_status()\n",
    "        print(response.json())\n",
    "    except requests.exceptions.Timeout:\n",
    "        print(\"Request timed out.\")\n",
    "    except requests.exceptions.ConnectionError:\n",
    "        print(\"Failed to connect to the server.\")\n",
    "    except requests.exceptions.HTTPError as err:\n",
    "        print(f\"HTTP error occurred: {err.response.text}\")\n",
    "    except Exception as e:\n",
    "        print(f\"An error occurred: {e}\")\n",
    "\n",
    "\n",
    "for ir_id in ir_ids:\n",
    "    createIr(ir_id)\n"
   ]
  },
  {
   "cell_type": "code",
   "execution_count": 34,
   "id": "a3c4871c",
   "metadata": {},
   "outputs": [
    {
     "name": "stdout",
     "output_type": "stream",
     "text": [
      "✅ Registered IM7216 (Access: 1)\n",
      "✅ Registered IM6599 (Access: 2)\n",
      "✅ Registered IM1579 (Access: 2)\n",
      "✅ Registered IM9252 (Access: 2)\n",
      "✅ Registered IM2004 (Access: 2)\n",
      "✅ Registered IM4230 (Access: 2)\n",
      "✅ Registered IM7990 (Access: 3)\n",
      "✅ Registered IM0262 (Access: 3)\n",
      "✅ Registered IM1781 (Access: 3)\n",
      "✅ Registered IM1332 (Access: 3)\n",
      "✅ Registered IM9002 (Access: 3)\n",
      "✅ Registered IM4546 (Access: 3)\n",
      "✅ Registered IM4927 (Access: 3)\n",
      "✅ Registered IM6392 (Access: 3)\n",
      "✅ Registered IM2779 (Access: 4)\n",
      "✅ Registered IM9215 (Access: 4)\n",
      "✅ Registered IM8947 (Access: 4)\n",
      "✅ Registered IM8361 (Access: 4)\n",
      "✅ Registered IM2499 (Access: 4)\n",
      "✅ Registered IM0424 (Access: 4)\n",
      "✅ Registered IM6678 (Access: 4)\n",
      "✅ Registered IM9375 (Access: 4)\n",
      "✅ Registered IM8657 (Access: 4)\n",
      "✅ Registered IM5852 (Access: 4)\n",
      "✅ Registered IM1530 (Access: 4)\n"
     ]
    }
   ],
   "source": [
    "access_distribution = (\n",
    "    [1] +                  # Admin (1 user)\n",
    "    [2] * 5 +              # LDC (5 users)\n",
    "    [3] * 8 +              # LS (8 users)\n",
    "    [4] * (len(ir_ids) - (1 + 5 + 8))  # GC (Remaining users)\n",
    ")\n",
    "\n",
    "def register_ir(ir_id, access_level):\n",
    "    path = \"/api/register_new_ir\"\n",
    "    end_point = f\"{base_url}{path}\"\n",
    "    data = {\n",
    "        \"ir_id\": ir_id,\n",
    "        \"ir_name\": f\"Test User {ir_id}\",\n",
    "        \"ir_email\": f\"{ir_id.lower()}@example.com\",\n",
    "        \"ir_password\": \"TestPass123\",\n",
    "        \"ir_access_level\": access_level\n",
    "    }\n",
    "    \n",
    "    try:\n",
    "        response = requests.post(\n",
    "            end_point,\n",
    "            json=data,\n",
    "            timeout=10\n",
    "        )\n",
    "        \n",
    "        if response.ok:\n",
    "            print(f\"✅ Registered {ir_id} (Access: {access_level})\")\n",
    "        else:\n",
    "            try:\n",
    "                print(f\"❌ Error {ir_id} (Access: {access_level}) → {response.status_code} | {response.json()}\")\n",
    "            except ValueError:\n",
    "                print(f\"❌ Error {ir_id} (Access: {access_level}) → {response.status_code} | {response.text}\")\n",
    "    \n",
    "    except requests.exceptions.RequestException as e:\n",
    "        print(f\"🚫 Failed {ir_id}: {e}\")\n",
    "\n",
    "def populate_test_irs():\n",
    "    for ir_id, access_level in zip(ir_ids, access_distribution):\n",
    "        register_ir(ir_id, access_level)\n",
    "\n",
    "\n",
    "populate_test_irs()"
   ]
  },
  {
   "cell_type": "code",
   "execution_count": 36,
   "id": "312d23e8",
   "metadata": {},
   "outputs": [
    {
     "name": "stdout",
     "output_type": "stream",
     "text": [
      "Result: {'data': [{'ir_access_level': 1, 'ir_name': 'Test User IM7216', 'status': True, 'dr_count': 0, 'started_date': '04-10-2025', 'weekly_info_target': 0, 'weekly_uv_target': None, 'ir_id': 'IM7216', 'ir_email': 'im7216@example.com', 'ir_password': '$2b$12$yqv3YuIeT.65tZD00XdK.Ohh1PCfR5E8serx5S7evqWiDc8U48Kmm', 'plan_count': 0, 'info_count': 0, 'name_list': 0, 'weekly_plan_target': 0}, {'ir_access_level': 2, 'ir_name': 'Test User IM6599', 'status': True, 'dr_count': 0, 'started_date': '04-10-2025', 'weekly_info_target': 0, 'weekly_uv_target': None, 'ir_id': 'IM6599', 'ir_email': 'im6599@example.com', 'ir_password': '$2b$12$kPvOqjn2oKW5gErwISHF..GkDdGewz.AtLtukugbcWG9tDskC3Rdq', 'plan_count': 0, 'info_count': 0, 'name_list': 0, 'weekly_plan_target': 0}, {'ir_access_level': 2, 'ir_name': 'Test User IM1579', 'status': True, 'dr_count': 0, 'started_date': '04-10-2025', 'weekly_info_target': 0, 'weekly_uv_target': None, 'ir_id': 'IM1579', 'ir_email': 'im1579@example.com', 'ir_password': '$2b$12$2ZciYjxRkqF7.AUGIPrK6.gPP1LeUZCLbXHzwlkwtL1skTfp0GU1m', 'plan_count': 0, 'info_count': 0, 'name_list': 0, 'weekly_plan_target': 0}, {'ir_access_level': 2, 'ir_name': 'Test User IM9252', 'status': True, 'dr_count': 0, 'started_date': '04-10-2025', 'weekly_info_target': 0, 'weekly_uv_target': None, 'ir_id': 'IM9252', 'ir_email': 'im9252@example.com', 'ir_password': '$2b$12$rcCC4ox.gVefcPZN2bgnGevyhnGmK4JM5vgW6jTu/tuMi74u9Q70S', 'plan_count': 0, 'info_count': 0, 'name_list': 0, 'weekly_plan_target': 0}, {'ir_access_level': 2, 'ir_name': 'Test User IM2004', 'status': True, 'dr_count': 0, 'started_date': '04-10-2025', 'weekly_info_target': 0, 'weekly_uv_target': None, 'ir_id': 'IM2004', 'ir_email': 'im2004@example.com', 'ir_password': '$2b$12$2zJJQC8NkkdpTGJAk7D8ZOYPvD7esCHbSGKh.yhi91WfTGdPwJNke', 'plan_count': 0, 'info_count': 0, 'name_list': 0, 'weekly_plan_target': 0}, {'ir_access_level': 2, 'ir_name': 'Test User IM4230', 'status': True, 'dr_count': 0, 'started_date': '04-10-2025', 'weekly_info_target': 0, 'weekly_uv_target': None, 'ir_id': 'IM4230', 'ir_email': 'im4230@example.com', 'ir_password': '$2b$12$b5YQsB47YPYXizV/8Uto3egA/9yXyX59KT0iy6TffR1gitBZBCoia', 'plan_count': 0, 'info_count': 0, 'name_list': 0, 'weekly_plan_target': 0}, {'ir_access_level': 3, 'ir_name': 'Test User IM7990', 'status': True, 'dr_count': 0, 'started_date': '04-10-2025', 'weekly_info_target': 0, 'weekly_uv_target': None, 'ir_id': 'IM7990', 'ir_email': 'im7990@example.com', 'ir_password': '$2b$12$1uWJJyvNeiDPPhgkgjd.P.UzrE9SUidSjkvfGrS1ypwuxJHlk7C6u', 'plan_count': 0, 'info_count': 0, 'name_list': 0, 'weekly_plan_target': 0}, {'ir_access_level': 3, 'ir_name': 'Test User IM0262', 'status': True, 'dr_count': 0, 'started_date': '04-10-2025', 'weekly_info_target': 0, 'weekly_uv_target': None, 'ir_id': 'IM0262', 'ir_email': 'im0262@example.com', 'ir_password': '$2b$12$vA1QL6mAjpBH.7wYuLzP6OIoxDbZm0pU8UKjVsd3rGGXz7Ynctxem', 'plan_count': 0, 'info_count': 0, 'name_list': 0, 'weekly_plan_target': 0}, {'ir_access_level': 3, 'ir_name': 'Test User IM1781', 'status': True, 'dr_count': 0, 'started_date': '04-10-2025', 'weekly_info_target': 0, 'weekly_uv_target': None, 'ir_id': 'IM1781', 'ir_email': 'im1781@example.com', 'ir_password': '$2b$12$EIU.q5mYgk7MYO4Nr9faIOYYEWzO/CWknD.ZEg/ABgHeFgjt115Ou', 'plan_count': 0, 'info_count': 0, 'name_list': 0, 'weekly_plan_target': 0}, {'ir_access_level': 3, 'ir_name': 'Test User IM1332', 'status': True, 'dr_count': 0, 'started_date': '04-10-2025', 'weekly_info_target': 0, 'weekly_uv_target': None, 'ir_id': 'IM1332', 'ir_email': 'im1332@example.com', 'ir_password': '$2b$12$K8pccX092xCiQqEGBGtQOu87eLl/RgWX5WRYZ2X5Yf29nbsxJevLC', 'plan_count': 0, 'info_count': 0, 'name_list': 0, 'weekly_plan_target': 0}, {'ir_access_level': 3, 'ir_name': 'Test User IM9002', 'status': True, 'dr_count': 0, 'started_date': '04-10-2025', 'weekly_info_target': 0, 'weekly_uv_target': None, 'ir_id': 'IM9002', 'ir_email': 'im9002@example.com', 'ir_password': '$2b$12$lPSff72l4EHhAmzGuVjhq.bl/Fbc.IIjVbpDqyrTx7Gqnvw/86RiS', 'plan_count': 0, 'info_count': 0, 'name_list': 0, 'weekly_plan_target': 0}, {'ir_access_level': 3, 'ir_name': 'Test User IM4546', 'status': True, 'dr_count': 0, 'started_date': '04-10-2025', 'weekly_info_target': 0, 'weekly_uv_target': None, 'ir_id': 'IM4546', 'ir_email': 'im4546@example.com', 'ir_password': '$2b$12$8pl0MeNkhZp8Y2MPJnQuFOXucaQmI5UtLRkcdiDAXdVPRxfCt8pYS', 'plan_count': 0, 'info_count': 0, 'name_list': 0, 'weekly_plan_target': 0}, {'ir_access_level': 3, 'ir_name': 'Test User IM4927', 'status': True, 'dr_count': 0, 'started_date': '04-10-2025', 'weekly_info_target': 0, 'weekly_uv_target': None, 'ir_id': 'IM4927', 'ir_email': 'im4927@example.com', 'ir_password': '$2b$12$ySMCCNS4GOS79OkUZBhVVOX302f/oWbB1A3YpU/SDqgSEC733uihS', 'plan_count': 0, 'info_count': 0, 'name_list': 0, 'weekly_plan_target': 0}, {'ir_access_level': 3, 'ir_name': 'Test User IM6392', 'status': True, 'dr_count': 0, 'started_date': '04-10-2025', 'weekly_info_target': 0, 'weekly_uv_target': None, 'ir_id': 'IM6392', 'ir_email': 'im6392@example.com', 'ir_password': '$2b$12$8draXpkPXB0zQSX7n8oJ7.td1Rvr9PAmRpIPyiJqspFtMeAf1Mvje', 'plan_count': 0, 'info_count': 0, 'name_list': 0, 'weekly_plan_target': 0}, {'ir_access_level': 4, 'ir_name': 'Test User IM2779', 'status': True, 'dr_count': 0, 'started_date': '04-10-2025', 'weekly_info_target': 0, 'weekly_uv_target': None, 'ir_id': 'IM2779', 'ir_email': 'im2779@example.com', 'ir_password': '$2b$12$IIdmyMTky29QUa9hhV5Sq.XEhEZY0btq4K.B8i8W5uNsh7pwPmrRe', 'plan_count': 0, 'info_count': 0, 'name_list': 0, 'weekly_plan_target': 0}, {'ir_access_level': 4, 'ir_name': 'Test User IM9215', 'status': True, 'dr_count': 0, 'started_date': '04-10-2025', 'weekly_info_target': 0, 'weekly_uv_target': None, 'ir_id': 'IM9215', 'ir_email': 'im9215@example.com', 'ir_password': '$2b$12$MJhUbMrijUOAdPh18HXDo.2a.VFZ08b.AgckIn3RG4A8l0Se0WXRe', 'plan_count': 0, 'info_count': 0, 'name_list': 0, 'weekly_plan_target': 0}, {'ir_access_level': 4, 'ir_name': 'Test User IM8947', 'status': True, 'dr_count': 0, 'started_date': '04-10-2025', 'weekly_info_target': 0, 'weekly_uv_target': None, 'ir_id': 'IM8947', 'ir_email': 'im8947@example.com', 'ir_password': '$2b$12$zhP4KftxcP6HLhpJA8KAauvChBf1ThmkyP8LulPrgU1rxsg3T6itu', 'plan_count': 0, 'info_count': 0, 'name_list': 0, 'weekly_plan_target': 0}, {'ir_access_level': 4, 'ir_name': 'Test User IM8361', 'status': True, 'dr_count': 0, 'started_date': '04-10-2025', 'weekly_info_target': 0, 'weekly_uv_target': None, 'ir_id': 'IM8361', 'ir_email': 'im8361@example.com', 'ir_password': '$2b$12$YbDaIaEHI7n3LwqsxO9eI.FnelbU7ICpriJuVmB5Wd.wUYJ1r945m', 'plan_count': 0, 'info_count': 0, 'name_list': 0, 'weekly_plan_target': 0}, {'ir_access_level': 4, 'ir_name': 'Test User IM2499', 'status': True, 'dr_count': 0, 'started_date': '04-10-2025', 'weekly_info_target': 0, 'weekly_uv_target': None, 'ir_id': 'IM2499', 'ir_email': 'im2499@example.com', 'ir_password': '$2b$12$jTo.N4r1XTgsXaT/f5bRHus5rklgR7LZVPMi56l7HGc0Y1h9BY7Ti', 'plan_count': 0, 'info_count': 0, 'name_list': 0, 'weekly_plan_target': 0}, {'ir_access_level': 4, 'ir_name': 'Test User IM0424', 'status': True, 'dr_count': 0, 'started_date': '04-10-2025', 'weekly_info_target': 0, 'weekly_uv_target': None, 'ir_id': 'IM0424', 'ir_email': 'im0424@example.com', 'ir_password': '$2b$12$Vdo4avnIv03wlgB2apZZhuLfpbS4x2OrtiNaHaDfkn1lCSmCRF7RW', 'plan_count': 0, 'info_count': 0, 'name_list': 0, 'weekly_plan_target': 0}, {'ir_access_level': 4, 'ir_name': 'Test User IM6678', 'status': True, 'dr_count': 0, 'started_date': '04-10-2025', 'weekly_info_target': 0, 'weekly_uv_target': None, 'ir_id': 'IM6678', 'ir_email': 'im6678@example.com', 'ir_password': '$2b$12$UF4Z54zq5e8g3/eFAJrgk.fpJGdEV2IsiruMPnIragy9YhqKkppK6', 'plan_count': 0, 'info_count': 0, 'name_list': 0, 'weekly_plan_target': 0}, {'ir_access_level': 4, 'ir_name': 'Test User IM9375', 'status': True, 'dr_count': 0, 'started_date': '04-10-2025', 'weekly_info_target': 0, 'weekly_uv_target': None, 'ir_id': 'IM9375', 'ir_email': 'im9375@example.com', 'ir_password': '$2b$12$786ot1RUz6BVrxLsPLZpXeUhg6pOg7xWsIfcmD2.ZGu3.LCXIrgJC', 'plan_count': 0, 'info_count': 0, 'name_list': 0, 'weekly_plan_target': 0}, {'ir_access_level': 4, 'ir_name': 'Test User IM8657', 'status': True, 'dr_count': 0, 'started_date': '04-10-2025', 'weekly_info_target': 0, 'weekly_uv_target': None, 'ir_id': 'IM8657', 'ir_email': 'im8657@example.com', 'ir_password': '$2b$12$ZIT401GY9qRWqK4uNKR6aO0grRb3NyZvg1HIosiaMS4KiGkxhrQNW', 'plan_count': 0, 'info_count': 0, 'name_list': 0, 'weekly_plan_target': 0}, {'ir_access_level': 4, 'ir_name': 'Test User IM5852', 'status': True, 'dr_count': 0, 'started_date': '04-10-2025', 'weekly_info_target': 0, 'weekly_uv_target': None, 'ir_id': 'IM5852', 'ir_email': 'im5852@example.com', 'ir_password': '$2b$12$DR/G2EeslNVAAOjZqEiQi.bE5U5ofE7.lJsNh12rQsC9QR3.ROPNO', 'plan_count': 0, 'info_count': 0, 'name_list': 0, 'weekly_plan_target': 0}, {'ir_access_level': 4, 'ir_name': 'Test User IM1530', 'status': True, 'dr_count': 0, 'started_date': '04-10-2025', 'weekly_info_target': 0, 'weekly_uv_target': None, 'ir_id': 'IM1530', 'ir_email': 'im1530@example.com', 'ir_password': '$2b$12$D8LrWQOq0qGDgRJkzH59B.yEJtFuvQjP8XclqKf1vCqIlFN4L8g0y', 'plan_count': 0, 'info_count': 0, 'name_list': 0, 'weekly_plan_target': 0}], 'count': 25}\n"
     ]
    }
   ],
   "source": [
    "def getAllRegisteredIr():\n",
    "    path = \"/api/irs\"\n",
    "    end_point = f\"{base_url}{path}\"\n",
    "    response = requests.get(end_point)\n",
    "    \n",
    "    if response.ok:\n",
    "        try:\n",
    "            print(\"Result:\", response.json())\n",
    "        except ValueError:\n",
    "            print(\"Result (non-JSON):\", response.text)\n",
    "    else:\n",
    "        try:\n",
    "            print(\"Error:\", response.json())\n",
    "        except ValueError:\n",
    "            print(\"Error (non-JSON):\", response.text)\n",
    "\n",
    "getAllRegisteredIr()\n"
   ]
  },
  {
   "cell_type": "code",
   "execution_count": 39,
   "id": "3b2a7cee",
   "metadata": {},
   "outputs": [
    {
     "name": "stdout",
     "output_type": "stream",
     "text": [
      "Success  {'message': 'Team created', 'team_id': 3, 'team_name': 'Wolfpacks'}\n"
     ]
    }
   ],
   "source": [
    "def createTeam():\n",
    "    path = \"/api/create_team\"\n",
    "    end_point = f\"{base_url}{path}\"\n",
    "    data = {\"name\":\"Wolfpacks\"}\n",
    "    data = json.dumps(data)\n",
    "    response = requests.post(end_point,data=data,headers={\"Content-type\":\"application/json\"})\n",
    "    if response.ok:\n",
    "        print(\"Success \", response.json())\n",
    "    else:\n",
    "        print(\"Failure \", response.json())\n",
    "\n",
    "createTeam()"
   ]
  },
  {
   "cell_type": "code",
   "execution_count": 49,
   "id": "fd3a4005",
   "metadata": {},
   "outputs": [
    {
     "name": "stdout",
     "output_type": "stream",
     "text": [
      "Success  [{'weekly_info_target': 0, 'id': 1, 'weekly_plan_target': 0, 'name': 'Dreamers'}, {'weekly_info_target': 0, 'id': 2, 'weekly_plan_target': 0, 'name': 'Relentless'}, {'weekly_info_target': 0, 'id': 3, 'weekly_plan_target': 0, 'name': 'Wolfpacks'}]\n"
     ]
    }
   ],
   "source": [
    "def getAllTeams():\n",
    "    path = \"/api/teams\"\n",
    "    end_point = f\"{base_url}{path}\"\n",
    "    response = requests.get(end_point)\n",
    "    if response.ok:\n",
    "        print(\"Success \", response.json())\n",
    "    else:\n",
    "        print(\"Failure \", response.json())\n",
    "\n",
    "getAllTeams()"
   ]
  },
  {
   "cell_type": "code",
   "execution_count": null,
   "id": "d23fae0d",
   "metadata": {},
   "outputs": [],
   "source": [
    "def update_team_name(team_id, new_name):\n",
    "    path = f\"/api/update_team_name/{team_id}\"  # <-- f-string here\n",
    "    end_point = f\"{base_url}{path}\"\n",
    "    payload = {\"name\": new_name}\n",
    "    headers = {\"Content-Type\": \"application/json\"}\n",
    "\n",
    "    try:\n",
    "        response = requests.patch(end_point, json=payload, headers=headers)\n",
    "        response.raise_for_status()\n",
    "        print(\"Success:\", response.json())\n",
    "        return response.json()\n",
    "    except requests.exceptions.HTTPError as http_err:\n",
    "        print(f\"HTTP error occurred: {http_err} - {response.text}\")\n",
    "    except requests.exceptions.ConnectionError as conn_err:\n",
    "        print(f\"Connection error occurred: {conn_err}\")\n",
    "    except requests.exceptions.Timeout as timeout_err:\n",
    "        print(f\"Timeout error occurred: {timeout_err}\")\n",
    "    except requests.exceptions.RequestException as req_err:\n",
    "        print(f\"An error occurred: {req_err}\")\n",
    "\n",
    "update_team_name(3, \"Dreame Relentless\")"
   ]
  },
  {
   "cell_type": "code",
   "execution_count": 48,
   "id": "5341afc3",
   "metadata": {},
   "outputs": [
    {
     "name": "stdout",
     "output_type": "stream",
     "text": [
      "Failure  {'detail': 'Unexpected Error: (psycopg2.errors.NotNullViolation) null value in column \"team_id\" of relation \"teammemberlink\" violates not-null constraint\\nDETAIL:  Failing row contains (3, null, IM7216, LDC).\\n\\n[SQL: UPDATE teammemberlink SET team_id=%(team_id)s WHERE teammemberlink.id = %(teammemberlink_id)s]\\n[parameters: [{\\'team_id\\': None, \\'teammemberlink_id\\': 3}, {\\'team_id\\': None, \\'teammemberlink_id\\': 8}, {\\'team_id\\': None, \\'teammemberlink_id\\': 11}]]\\n(Background on this error at: https://sqlalche.me/e/20/gkpj)'}\n"
     ]
    }
   ],
   "source": [
    "def deleteTeam(team_id):\n",
    "    path = f\"/api/delete_team/{team_id}\"\n",
    "    end_point = f\"{base_url}{path}\"\n",
    "    response = requests.delete(end_point)\n",
    "    if response.ok:\n",
    "        print(\"Success \", response.json())\n",
    "    else:\n",
    "        print(\"Failure \", response.json())\n",
    "\n",
    "deleteTeam(3)"
   ]
  },
  {
   "cell_type": "code",
   "execution_count": null,
   "id": "82fc4fbe",
   "metadata": {},
   "outputs": [
    {
     "name": "stdout",
     "output_type": "stream",
     "text": [
      "Not enough LSs for team 3\n",
      "Success: {'message': 'LDC assigned to team 1'}\n",
      "Success: {'message': 'LDC assigned to team 2'}\n",
      "Success: {'message': 'LDC assigned to team 3'}\n",
      "Success: {'message': 'LS assigned to team 1'}\n",
      "Success: {'message': 'LS assigned to team 1'}\n",
      "Success: {'message': 'LS assigned to team 2'}\n",
      "Success: {'message': 'LS assigned to team 2'}\n",
      "Success: {'message': 'LS assigned to team 3'}\n",
      "Success: {'message': 'GC assigned to team 1'}\n",
      "Success: {'message': 'IR assigned to team 2'}\n",
      "Success: {'message': 'IR assigned to team 3'}\n"
     ]
    }
   ],
   "source": [
    "def add_ir_to_team(ir_id, team_id, role):\n",
    "    url = f\"{base_url}/api/add_ir_to_team\"\n",
    "    payload = {\n",
    "        \"ir_id\": ir_id,\n",
    "        \"team_id\": team_id,\n",
    "        \"role\": role\n",
    "    }\n",
    "    headers = {\"Content-Type\": \"application/json\"}\n",
    "\n",
    "    try:\n",
    "        response = requests.post(url, json=payload, headers=headers, timeout=10)\n",
    "        response.raise_for_status()\n",
    "        print(\"Success:\", response.json())\n",
    "        return response.json()\n",
    "    except requests.exceptions.HTTPError as http_err:\n",
    "        try:\n",
    "            print(f\"HTTP error occurred: {http_err} - {response.json()}\")\n",
    "        except Exception:\n",
    "            print(f\"HTTP error occurred: {http_err} - {response.text}\")\n",
    "    except requests.exceptions.ConnectionError as conn_err:\n",
    "        print(f\"Connection error occurred: {conn_err}\")\n",
    "    except requests.exceptions.Timeout as timeout_err:\n",
    "        print(f\"Timeout error occurred: {timeout_err}\")\n",
    "    except requests.exceptions.RequestException as req_err:\n",
    "        print(f\"An error occurred: {req_err}\")\n",
    "\n",
    "# Example usage:\n",
    "\n",
    "import random\n",
    "\n",
    "def assign_irs_to_teams(ir_ids, team_ids, ir_access_map):\n",
    "    \"\"\"\n",
    "    Assigns 1 LDC, 1 LS, and 1 GC/IR to each team.\n",
    "    \"\"\"\n",
    "    random.shuffle(ir_ids)\n",
    "\n",
    "    # Separate IRs by access level\n",
    "    ldc_ids = [ir for ir in ir_ids if ir_access_map[ir] == 2]\n",
    "    ls_ids = [ir for ir in ir_ids if ir_access_map[ir] == 3]\n",
    "    gc_ids = [ir for ir in ir_ids if ir_access_map[ir] == 4]\n",
    "    ir_only_ids = [ir for ir in ir_ids if ir_access_map[ir] not in [2, 3, 4]]\n",
    "\n",
    "    assignments = []\n",
    "\n",
    "    for i, team_id in enumerate(team_ids):\n",
    "        # Assign LDC\n",
    "        if i < len(ldc_ids):\n",
    "            assignments.append((ldc_ids[i], team_id, \"LDC\"))\n",
    "        else:\n",
    "            print(f\"Not enough LDCs for team {team_id}\")\n",
    "\n",
    "        # Assign LS\n",
    "        if i < len(ls_ids):\n",
    "            assignments.append((ls_ids[i], team_id, \"LS\"))\n",
    "        else:\n",
    "            print(f\"Not enough LSs for team {team_id}\")\n",
    "\n",
    "        # Assign GC (or IR if not enough GCs)\n",
    "        if i < len(gc_ids):\n",
    "            assignments.append((gc_ids[i], team_id, \"GC\"))\n",
    "        elif i < len(ir_only_ids):\n",
    "            assignments.append((ir_only_ids[i], team_id, \"IR\"))\n",
    "        else:\n",
    "            print(f\"Not enough GC/IRs for team {team_id}\")\n",
    "\n",
    "    return assignments\n",
    "\n",
    "# Example usage:\n",
    "team_ids = [1, 2, 3]\n",
    "ir_access_map = {\n",
    "    \"IM7216\": 2, \"IM6599\": 3, \"IM1579\": 3, \"IM9252\": 2, \"IM2004\": 4, \"IM4230\": 4, \"IM7990\": 4, \"IM0262\": 4,\n",
    "    \"IM1781\": 3, \"IM1332\": 3, \"IM9002\": 2, \"IM4546\": 3, \"IM4927\": 4, \"IM6392\": 4, \"IM2779\": 4, \"IM9215\": 4,\n",
    "    \"IM8947\": 4, \"IM8361\": 4, \"IM2499\": 4, \"IM0424\": 4, \"IM6678\": 4, \"IM9375\": 4, \"IM8657\": 4, \"IM5852\": 4, \"IM1530\": 4\n",
    "}\n",
    "ir_ids = list(ir_access_map.keys())\n",
    "\n",
    "assignments = assign_irs_to_teams(ir_ids, team_ids, ir_access_map)\n",
    "\n",
    "for ir_id, team_id, role in assignments:\n",
    "    add_ir_to_team(ir_id, team_id, role)  # Call your API function here\n",
    "\n",
    "for ir_id, team_id, role in assignments:\n",
    "    add_ir_to_team(ir_id, team_id, role)  # Call your API function here"
   ]
  },
  {
   "cell_type": "code",
   "execution_count": 42,
   "id": "0c965cf2",
   "metadata": {},
   "outputs": [
    {
     "name": "stdout",
     "output_type": "stream",
     "text": [
      "Success: [{'team_id': 1, 'id': 1, 'role': 'LDC', 'ir_id': 'IM9252', 'role_num': 2}, {'team_id': 1, 'id': 4, 'role': 'LS', 'ir_id': 'IM1579', 'role_num': 3}, {'team_id': 1, 'id': 5, 'role': 'LS', 'ir_id': 'IM1332', 'role_num': 3}, {'team_id': 1, 'id': 9, 'role': 'GC', 'ir_id': 'IM1530', 'role_num': 4}]\n"
     ]
    },
    {
     "data": {
      "text/plain": [
       "[{'team_id': 1, 'id': 1, 'role': 'LDC', 'ir_id': 'IM9252', 'role_num': 2},\n",
       " {'team_id': 1, 'id': 4, 'role': 'LS', 'ir_id': 'IM1579', 'role_num': 3},\n",
       " {'team_id': 1, 'id': 5, 'role': 'LS', 'ir_id': 'IM1332', 'role_num': 3},\n",
       " {'team_id': 1, 'id': 9, 'role': 'GC', 'ir_id': 'IM1530', 'role_num': 4}]"
      ]
     },
     "execution_count": 42,
     "metadata": {},
     "output_type": "execute_result"
    }
   ],
   "source": [
    "def get_team_members(team_id):\n",
    "    url = f\"{base_url}/api/team_members/{team_id}\"\n",
    "    try:\n",
    "        response = requests.get(url, timeout=10)\n",
    "        response.raise_for_status()\n",
    "        print(\"Success:\", response.json())\n",
    "        return response.json()\n",
    "    except requests.exceptions.HTTPError as http_err:\n",
    "        try:\n",
    "            print(f\"HTTP error occurred: {http_err} - {response.json()}\")\n",
    "        except Exception:\n",
    "            print(f\"HTTP error occurred: {http_err} - {response.text}\")\n",
    "    except requests.exceptions.ConnectionError as conn_err:\n",
    "        print(f\"Connection error occurred: {conn_err}\")\n",
    "    except requests.exceptions.Timeout as timeout_err:\n",
    "        print(f\"Timeout error occurred: {timeout_err}\")\n",
    "    except requests.exceptions.RequestException as req_err:\n",
    "        print(f\"An error occurred: {req_err}\")\n",
    "\n",
    "get_team_members(1) "
   ]
  },
  {
   "cell_type": "code",
   "execution_count": null,
   "id": "6c5b5799",
   "metadata": {},
   "outputs": [],
   "source": [
    "def remove_ir_from_team(base_url, team_id, ir_id):\n",
    "    url = f\"{base_url}/api/remove_ir_from_team/{team_id}/{ir_id}\"\n",
    "    try:\n",
    "        response = requests.delete(url, timeout=10)\n",
    "        response.raise_for_status()\n",
    "        print(\"Success:\", response.json())\n",
    "        return response.json()\n",
    "    except requests.exceptions.HTTPError as http_err:\n",
    "        try:\n",
    "            print(f\"HTTP error occurred: {http_err} - {response.json()}\")\n",
    "        except Exception:\n",
    "            print(f\"HTTP error occurred: {http_err} - {response.text}\")\n",
    "    except requests.exceptions.ConnectionError as conn_err:\n",
    "        print(f\"Connection error occurred: {conn_err}\")\n",
    "    except requests.exceptions.Timeout as timeout_err:\n",
    "        print(f\"Timeout error occurred: {timeout_err}\")\n",
    "    except requests.exceptions.RequestException as req_err:\n",
    "        print(f\"An error occurred: {req_err}\")\n",
    "\n",
    "remove_ir_from_team(base_url, 1, \"IM1332\")"
   ]
  },
  {
   "cell_type": "code",
   "execution_count": 49,
   "id": "1242da3f",
   "metadata": {},
   "outputs": [
    {
     "name": "stdout",
     "output_type": "stream",
     "text": [
      "Success: {'message': 'Info detail added', 'info_id': 5}\n"
     ]
    },
    {
     "data": {
      "text/plain": [
       "{'message': 'Info detail added', 'info_id': 5}"
      ]
     },
     "execution_count": 49,
     "metadata": {},
     "output_type": "execute_result"
    }
   ],
   "source": [
    "\n",
    "def add_info_detail(base_url, ir_id, info_date, response, comments, info_name):\n",
    "    url = f\"{base_url}/api/add_info_detail/{ir_id}\"\n",
    "    payload = {\n",
    "        \"ir_id\": ir_id,\n",
    "        \"info_date\": info_date,  # Should be ISO format string, e.g. \"2025-08-26T12:00:00+05:30\"\n",
    "        \"response\": response,    # Should be one of \"A\", \"B\", \"C\"\n",
    "        \"comments\": comments,\n",
    "        \"info_name\": info_name\n",
    "    }\n",
    "    headers = {\"Content-Type\": \"application/json\"}\n",
    "\n",
    "    try:\n",
    "        response = requests.post(url, json=payload, headers=headers, timeout=10)\n",
    "        response.raise_for_status()\n",
    "        print(\"Success:\", response.json())\n",
    "        return response.json()\n",
    "    except requests.exceptions.HTTPError as http_err:\n",
    "        try:\n",
    "            print(f\"HTTP error occurred: {http_err} - {response.json()}\")\n",
    "        except Exception:\n",
    "            print(f\"HTTP error occurred: {http_err} - {response.text}\")\n",
    "    except requests.exceptions.ConnectionError as conn_err:\n",
    "        print(f\"Connection error occurred: {conn_err}\")\n",
    "    except requests.exceptions.Timeout as timeout_err:\n",
    "        print(f\"Timeout error occurred: {timeout_err}\")\n",
    "    except requests.exceptions.RequestException as req_err:\n",
    "        print(f\"An error occurred: {req_err}\")\n",
    "\n",
    "# Example usage:\n",
    "ir_id = \"IM9252\"\n",
    "info_date = datetime.now().isoformat()  # Or use your preferred datetime string\n",
    "response_option = \"A\"                   # Must be \"A\", \"B\", or \"C\"\n",
    "comments = \"Football tourment\"\n",
    "info_name = \"Kiran A\"\n",
    "\n",
    "add_info_detail(base_url, ir_id, info_date, response_option, comments, info_name)"
   ]
  },
  {
   "cell_type": "code",
   "execution_count": 73,
   "id": "e0303c9a",
   "metadata": {},
   "outputs": [
    {
     "name": "stdout",
     "output_type": "stream",
     "text": [
      "Success: {'message': 'Info details added', 'info_ids': [48, 49, 50, 51]}\n"
     ]
    },
    {
     "data": {
      "text/plain": [
       "{'message': 'Info details added', 'info_ids': [48, 49, 50, 51]}"
      ]
     },
     "execution_count": 73,
     "metadata": {},
     "output_type": "execute_result"
    }
   ],
   "source": [
    "def add_info_details(base_url, ir_id, info_list):\n",
    "    url = f\"{base_url}/api/add_info_detail/{ir_id}\"\n",
    "    headers = {\"Content-Type\": \"application/json\"}\n",
    "\n",
    "    try:\n",
    "        response = requests.post(url, json=info_list, headers=headers, timeout=10)\n",
    "        response.raise_for_status()\n",
    "        print(\"Success:\", response.json())\n",
    "        return response.json()\n",
    "    except requests.exceptions.HTTPError as http_err:\n",
    "        try:\n",
    "            print(f\"HTTP error occurred: {http_err} - {response.json()}\")\n",
    "        except Exception:\n",
    "            print(f\"HTTP error occurred: {http_err} - {response.text}\")\n",
    "    except requests.exceptions.ConnectionError as conn_err:\n",
    "        print(f\"Connection error occurred: {conn_err}\")\n",
    "    except requests.exceptions.Timeout as timeout_err:\n",
    "        print(f\"Timeout error occurred: {timeout_err}\")\n",
    "    except requests.exceptions.RequestException as req_err:\n",
    "        print(f\"An error occurred: {req_err}\")\n",
    "\n",
    "# Example usage:\n",
    "ir_id = \"IM7216\"\n",
    "\n",
    "info_list = [\n",
    "    {\n",
    "        \"info_date\": datetime.now().isoformat(),\n",
    "        \"response\": \"A\",\n",
    "        \"comments\": \"First info went well.\",\n",
    "        \"info_name\": \"John Doe\"\n",
    "    },\n",
    "    {\n",
    "        \"info_date\": datetime.now().isoformat(),\n",
    "        \"response\": \"B\",\n",
    "        \"comments\": \"Second info, some issues.\",\n",
    "        \"info_name\": \"Jane Smith\"\n",
    "    },\n",
    "        {\n",
    "        \"info_date\": datetime.now().isoformat(),\n",
    "        \"response\": \"A\",\n",
    "        \"comments\": \"Second info, some issues.\",\n",
    "        \"info_name\": \"Smith\"\n",
    "    },\n",
    "    {\n",
    "        \"info_date\": datetime.now().isoformat(),\n",
    "        \"response\": \"B\",\n",
    "        \"comments\": \"Second info, some issues.\",\n",
    "        \"info_name\": \"Jenith\"\n",
    "    }\n",
    "]\n",
    "\n",
    "add_info_details(base_url, ir_id, info_list)"
   ]
  },
  {
   "cell_type": "code",
   "execution_count": 90,
   "id": "9b791716",
   "metadata": {},
   "outputs": [
    {
     "name": "stdout",
     "output_type": "stream",
     "text": [
      "Result: [{'info_date': '2025-09-09T01:40:36.705390', 'comments': 'First info went well.', 'id': 48, 'response': 'A', 'ir_id': 'IM7216', 'info_name': 'John Doe'}, {'info_date': '2025-09-09T01:40:36.705418', 'comments': 'Second info, some issues.', 'id': 49, 'response': 'B', 'ir_id': 'IM7216', 'info_name': 'Jane Smith'}, {'info_date': '2025-09-09T01:40:36.705420', 'comments': 'Second info, some issues.', 'id': 50, 'response': 'A', 'ir_id': 'IM7216', 'info_name': 'Smith'}, {'info_date': '2025-09-09T01:40:36.705421', 'comments': 'Second info, some issues.', 'id': 51, 'response': 'B', 'ir_id': 'IM7216', 'info_name': 'Jenith'}]\n"
     ]
    }
   ],
   "source": [
    "def getAllInfoData(ir_id):\n",
    "    path = f\"/api/info_details/{ir_id}\"\n",
    "    end_point = f\"{base_url}{path}\"\n",
    "    try:\n",
    "        response = requests.get(end_point, timeout=10)\n",
    "        response.raise_for_status()\n",
    "        try:\n",
    "            print(\"Result:\", response.json())\n",
    "        except ValueError:\n",
    "            print(\"Result (non-JSON):\", response.text)\n",
    "    except requests.exceptions.HTTPError as http_err:\n",
    "        try:\n",
    "            print(f\"HTTP error occurred: {http_err} - {response.json()}\")\n",
    "        except Exception:\n",
    "            print(f\"HTTP error occurred: {http_err} - {response.text}\")\n",
    "    except requests.exceptions.ConnectionError as conn_err:\n",
    "        print(f\"Connection error occurred: {conn_err}\")\n",
    "    except requests.exceptions.Timeout as timeout_err:\n",
    "        print(f\"Timeout error occurred: {timeout_err}\")\n",
    "    except requests.exceptions.RequestException as req_err:\n",
    "        print(f\"An error occurred: {req_err}\")\n",
    "\n",
    "getAllInfoData(\"IM7216\")"
   ]
  },
  {
   "cell_type": "code",
   "execution_count": 100,
   "id": "c9f50751",
   "metadata": {},
   "outputs": [
    {
     "name": "stdout",
     "output_type": "stream",
     "text": [
      "Success: [{'info_date': '2025-09-09T01:22:05.223760', 'comments': 'Info went well', 'id': 1, 'response': 'A', 'ir_id': 'IM6599', 'info_name': 'Vinay'}, {'info_date': '2025-09-09T01:22:23.493321', 'comments': 'Went well', 'id': 2, 'response': 'B', 'ir_id': 'IM6599', 'info_name': 'Ajay'}]\n"
     ]
    },
    {
     "data": {
      "text/plain": [
       "[{'info_date': '2025-09-09T01:22:05.223760',\n",
       "  'comments': 'Info went well',\n",
       "  'id': 1,\n",
       "  'response': 'A',\n",
       "  'ir_id': 'IM6599',\n",
       "  'info_name': 'Vinay'},\n",
       " {'info_date': '2025-09-09T01:22:23.493321',\n",
       "  'comments': 'Went well',\n",
       "  'id': 2,\n",
       "  'response': 'B',\n",
       "  'ir_id': 'IM6599',\n",
       "  'info_name': 'Ajay'}]"
      ]
     },
     "execution_count": 100,
     "metadata": {},
     "output_type": "execute_result"
    }
   ],
   "source": [
    "def get_info_details(base_url, ir_id, from_date=None, to_date=None):\n",
    "    url = f\"{base_url}/api/info_details/{ir_id}\"\n",
    "    params = {}\n",
    "    if from_date:\n",
    "        params[\"from_date\"] = from_date\n",
    "    if to_date:\n",
    "        params[\"to_date\"] = to_date\n",
    "\n",
    "    try:\n",
    "        response = requests.get(url, params=params, timeout=10)\n",
    "        response.raise_for_status()\n",
    "        print(\"Success:\", response.json())\n",
    "        return response.json()\n",
    "    except requests.exceptions.HTTPError as http_err:\n",
    "        try:\n",
    "            print(f\"HTTP error occurred: {http_err} - {response.json()}\")\n",
    "        except Exception:\n",
    "            print(f\"HTTP error occurred: {http_err} - {response.text}\")\n",
    "    except requests.exceptions.ConnectionError as conn_err:\n",
    "        print(f\"Connection error occurred: {conn_err}\")\n",
    "    except requests.exceptions.Timeout as timeout_err:\n",
    "        print(f\"Timeout error occurred: {timeout_err}\")\n",
    "    except requests.exceptions.RequestException as req_err:\n",
    "        print(f\"An error occurred: {req_err}\")\n",
    "\n",
    "# Example usage:\n",
    "ir_id = \"IM6599\"\n",
    "get_info_details(base_url, ir_id,\"2025-09-09\",\"2025-09-10\")  # Optionally add from_date, to_date"
   ]
  },
  {
   "cell_type": "code",
   "execution_count": null,
   "id": "18f602fe",
   "metadata": {},
   "outputs": [],
   "source": [
    "def update_ir_info_data(info_id):\n",
    "    path = f\"/api/update_info_detail/{info_id}\"\n",
    "    end_point = f\"{base_url}{path}\"\n",
    "    payload = {\"info_name\":\"Snehith\",\"comments\":\"Updated via script\",\"response\":\"A\"}\n",
    "    headers = {\"Content-Type\": \"application/json\"}\n",
    "\n",
    "    try:\n",
    "        response = requests.put(end_point, json=payload, headers=headers)\n",
    "        response.raise_for_status()\n",
    "        print(\"Success:\", response.json())\n",
    "        return response.json()\n",
    "    except requests.exceptions.HTTPError as http_err:\n",
    "        print(f\"HTTP error occurred: {http_err} - {response.text}\")\n",
    "    except requests.exceptions.ConnectionError as conn_err:\n",
    "        print(f\"Connection error occurred: {conn_err}\")\n",
    "    except requests.exceptions.Timeout as timeout_err:\n",
    "        print(f\"Timeout error occurred: {timeout_err}\")\n",
    "    except requests.exceptions.RequestException as req_err:\n",
    "        print(f\"An error occurred: {req_err}\")\n",
    "\n",
    "update_ir_info_data(3)"
   ]
  },
  {
   "cell_type": "code",
   "execution_count": null,
   "id": "7520f194",
   "metadata": {},
   "outputs": [],
   "source": [
    "def delete_info(info_id):\n",
    "    path =f\"/api/delete_info_detail/{info_id}\"\n",
    "    end_point = f\"{base_url}{path}\"\n",
    "    try:\n",
    "        response = requests.delete(end_point, timeout=10)\n",
    "        response.raise_for_status()\n",
    "        print(\"Success:\", response.json())\n",
    "        return response.json()\n",
    "    except Exception as e:\n",
    "        print(f\"An error occurred: {e}\")\n",
    "\n",
    "delete_info(3)"
   ]
  },
  {
   "cell_type": "code",
   "execution_count": 99,
   "id": "f4247fdd",
   "metadata": {},
   "outputs": [
    {
     "name": "stdout",
     "output_type": "stream",
     "text": [
      "Success  [{'ir_id': 'IM6599', 'ir_name': 'Test User IM6599', 'id': 'IM6599'}, {'ir_id': 'IM1579', 'ir_name': 'Test User IM1579', 'id': 'IM1579'}, {'ir_id': 'IM9252', 'ir_name': 'Test User IM9252', 'id': 'IM9252'}, {'ir_id': 'IM2004', 'ir_name': 'Test User IM2004', 'id': 'IM2004'}, {'ir_id': 'IM4230', 'ir_name': 'Test User IM4230', 'id': 'IM4230'}, {'ir_id': 'IM7990', 'ir_name': 'Test User IM7990', 'id': 'IM7990'}]\n"
     ]
    }
   ],
   "source": [
    "def getLdc():\n",
    "    path = \"/api/ldcs\"\n",
    "    end_point =f\"{base_url}{path}\"\n",
    "    response = requests.get(end_point)\n",
    "    if response.ok:\n",
    "        print(\"Success \", response.json())\n",
    "    else:\n",
    "        print(\"Failure \", response.json())\n",
    "\n",
    "getLdc()"
   ]
  },
  {
   "cell_type": "code",
   "execution_count": 98,
   "id": "09f7113f",
   "metadata": {},
   "outputs": [
    {
     "name": "stdout",
     "output_type": "stream",
     "text": [
      "Success  [{'id': 1, 'name': 'Relentless'}]\n"
     ]
    }
   ],
   "source": [
    "def getLdcTeamsManaged():\n",
    "    path = \"/api/teams_by_ldc/IM2004\"\n",
    "    end_point = f\"{base_url}{path}\"\n",
    "    response = requests.get(end_point)\n",
    "    if response.ok:\n",
    "        print(\"Success \", response.json())\n",
    "    else:\n",
    "        print(\"Failure \", response.json())\n",
    "\n",
    "getLdcTeamsManaged()"
   ]
  },
  {
   "cell_type": "code",
   "execution_count": null,
   "id": "28c0a2ea",
   "metadata": {},
   "outputs": [],
   "source": [
    "def set_targets(\n",
    "    base_url,\n",
    "    acting_ir_id,\n",
    "    ir_id=None,\n",
    "    weekly_info_target=None,\n",
    "    weekly_plan_target=None,\n",
    "    weekly_uv_target=None,\n",
    "    team_id=None,\n",
    "    team_weekly_info_target=None,\n",
    "    team_weekly_plan_target=None\n",
    "):\n",
    "    path = \"/api/set_targets\"\n",
    "    url = f\"{base_url}{path}\"\n",
    "    payload = {\n",
    "        \"acting_ir_id\": acting_ir_id,\n",
    "        \"ir_id\": ir_id,\n",
    "        \"weekly_info_target\": weekly_info_target,\n",
    "        \"weekly_plan_target\": weekly_plan_target,\n",
    "        \"weekly_uv_target\": weekly_uv_target,\n",
    "        \"team_id\": team_id,\n",
    "        \"team_weekly_info_target\": team_weekly_info_target,\n",
    "        \"team_weekly_plan_target\": team_weekly_plan_target\n",
    "    }\n",
    "    # Remove keys with None values\n",
    "    payload = {k: v for k, v in payload.items() if v is not None}\n",
    "    headers = {\"Content-Type\": \"application/json\"}\n",
    "\n",
    "    try:\n",
    "        response = requests.put(url, json=payload, headers=headers, timeout=10)\n",
    "        response.raise_for_status()\n",
    "        print(\"Success:\", response.json())\n",
    "        return response.json()\n",
    "    except requests.exceptions.HTTPError as http_err:\n",
    "        try:\n",
    "            print(f\"HTTP error occurred: {http_err} - {response.json()}\")\n",
    "        except Exception:\n",
    "            print(f\"HTTP error occurred: {http_err} - {response.text}\")\n",
    "    except requests.exceptions.ConnectionError as conn_err:\n",
    "        print(f\"Connection error occurred: {conn_err}\")\n",
    "    except requests.exceptions.Timeout as timeout_err:\n",
    "        print(f\"Timeout error occurred: {timeout_err}\")\n",
    "    except requests.exceptions.RequestException as req_err:\n",
    "        print(f\"An error occurred: {req_err}\")\n",
    "\n",
    "# Example call\n",
    "set_targets(\n",
    "    base_url,\n",
    "    acting_ir_id=\"IM9252\",\n",
    "    team_id=3,\n",
    "    team_weekly_info_target=30,\n",
    "    team_weekly_plan_target=15\n",
    ")"
   ]
  }
 ],
 "metadata": {
  "kernelspec": {
   "display_name": "Python 3",
   "language": "python",
   "name": "python3"
  },
  "language_info": {
   "codemirror_mode": {
    "name": "ipython",
    "version": 3
   },
   "file_extension": ".py",
   "mimetype": "text/x-python",
   "name": "python",
   "nbconvert_exporter": "python",
   "pygments_lexer": "ipython3",
   "version": "3.9.6"
  }
 },
 "nbformat": 4,
 "nbformat_minor": 5
}
