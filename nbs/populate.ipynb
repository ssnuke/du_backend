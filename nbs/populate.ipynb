{
 "cells": [
  {
   "cell_type": "code",
   "execution_count": 16,
   "id": "4b3a4378",
   "metadata": {},
   "outputs": [
    {
     "name": "stdout",
     "output_type": "stream",
     "text": [
      "Requirement already satisfied: requests in /Users/snehith/PycharmProjects/du_backend/.venv/lib/python3.9/site-packages (2.32.4)\n",
      "Requirement already satisfied: charset_normalizer<4,>=2 in /Users/snehith/PycharmProjects/du_backend/.venv/lib/python3.9/site-packages (from requests) (3.4.2)\n",
      "Requirement already satisfied: idna<4,>=2.5 in /Users/snehith/PycharmProjects/du_backend/.venv/lib/python3.9/site-packages (from requests) (3.10)\n",
      "Requirement already satisfied: urllib3<3,>=1.21.1 in /Users/snehith/PycharmProjects/du_backend/.venv/lib/python3.9/site-packages (from requests) (2.5.0)\n",
      "Requirement already satisfied: certifi>=2017.4.17 in /Users/snehith/PycharmProjects/du_backend/.venv/lib/python3.9/site-packages (from requests) (2025.8.3)\n",
      "\n",
      "\u001b[1m[\u001b[0m\u001b[34;49mnotice\u001b[0m\u001b[1;39;49m]\u001b[0m\u001b[39;49m A new release of pip is available: \u001b[0m\u001b[31;49m25.1.1\u001b[0m\u001b[39;49m -> \u001b[0m\u001b[32;49m25.2\u001b[0m\n",
      "\u001b[1m[\u001b[0m\u001b[34;49mnotice\u001b[0m\u001b[1;39;49m]\u001b[0m\u001b[39;49m To update, run: \u001b[0m\u001b[32;49mpip install --upgrade pip\u001b[0m\n"
     ]
    }
   ],
   "source": [
    "!pip3 install requests"
   ]
  },
  {
   "cell_type": "code",
   "execution_count": 17,
   "id": "c338f5b9",
   "metadata": {},
   "outputs": [],
   "source": [
    "import requests \n",
    "import random\n",
    "import string\n",
    "\n",
    "base_url = \"https://du-backend-t437.onrender.com/\"\n",
    "\n",
    "\n",
    "ir_ids = [\n",
    "    \"IM7216\", \"IM6599\", \"IM1579\", \"IM9252\", \"IM2004\", \"IM4230\", \"IM7990\", \"IM0262\",\n",
    "    \"IM1781\", \"IM1332\", \"IM9002\", \"IM4546\", \"IM4927\", \"IM6392\", \"IM2779\", \"IM9215\",\n",
    "    \"IM8947\", \"IM8361\", \"IM2499\", \"IM0424\", \"IM6678\", \"IM9375\", \"IM8657\", \"IM5852\", \"IM1530\"\n",
    "]"
   ]
  },
  {
   "cell_type": "code",
   "execution_count": null,
   "id": "c5f3d4d2",
   "metadata": {},
   "outputs": [],
   "source": [
    "\n",
    "def create_ir(ir_id):\n",
    "    \"\"\"Send IR ID to the API.\"\"\"\n",
    "    path = \"/api/add_ir_id\"\n",
    "    end_point = f\"{base_url}{path}\"\n",
    "    payload = {\"ir_id\": ir_id}\n",
    "\n",
    "    try:\n",
    "        response = requests.post(end_point, json=payload, timeout=10)\n",
    "        response.raise_for_status()\n",
    "        print(f\"Created {ir_id}: {response.json()}\")\n",
    "    except requests.exceptions.Timeout:\n",
    "        print(f\"{ir_id}: Request timed out.\")\n",
    "    except requests.exceptions.ConnectionError:\n",
    "        print(f\"{ir_id}: Failed to connect to the server.\")\n",
    "    except requests.exceptions.HTTPError as err:\n",
    "        print(f\"{ir_id}: HTTP error occurred: {err.response.text}\")\n",
    "    except Exception as e:\n",
    "        print(f\"{ir_id}: An error occurred: {e}\")\n",
    "\n",
    "\n",
    "for ir_id in ir_ids:\n",
    "    create_ir(ir_id)\n"
   ]
  },
  {
   "cell_type": "code",
   "execution_count": null,
   "id": "a3c4871c",
   "metadata": {},
   "outputs": [],
   "source": [
    "access_distribution = (\n",
    "    [1] +                  # Admin (1 user)\n",
    "    [2] * 5 +              # LDC (5 users)\n",
    "    [3] * 8 +              # LS (8 users)\n",
    "    [4] * (len(ir_ids) - (1 + 5 + 8))  # GC (Remaining users)\n",
    ")\n",
    "\n",
    "def register_ir(ir_id, access_level):\n",
    "    path = \"/api/register_new_ir\"\n",
    "    end_point = f\"{base_url}{path}\"\n",
    "    data = {\n",
    "        \"ir_id\": ir_id,\n",
    "        \"ir_name\": f\"Test User {ir_id}\",\n",
    "        \"ir_email\": f\"{ir_id.lower()}@example.com\",\n",
    "        \"ir_password\": \"TestPass123\",\n",
    "        \"ir_access_level\": access_level\n",
    "    }\n",
    "    \n",
    "    try:\n",
    "        response = requests.post(\n",
    "            end_point,\n",
    "            json=data,\n",
    "            timeout=10\n",
    "        )\n",
    "        \n",
    "        if response.ok:\n",
    "            print(f\"✅ Registered {ir_id} (Access: {access_level})\")\n",
    "        else:\n",
    "            try:\n",
    "                print(f\"❌ Error {ir_id} (Access: {access_level}) → {response.status_code} | {response.json()}\")\n",
    "            except ValueError:\n",
    "                print(f\"❌ Error {ir_id} (Access: {access_level}) → {response.status_code} | {response.text}\")\n",
    "    \n",
    "    except requests.exceptions.RequestException as e:\n",
    "        print(f\"🚫 Failed {ir_id}: {e}\")\n",
    "\n",
    "def populate_test_irs():\n",
    "    for ir_id, access_level in zip(ir_ids, access_distribution):\n",
    "        register_ir(ir_id, access_level)\n",
    "\n",
    "\n",
    "populate_test_irs()"
   ]
  },
  {
   "cell_type": "code",
   "execution_count": 21,
   "id": "312d23e8",
   "metadata": {},
   "outputs": [
    {
     "name": "stdout",
     "output_type": "stream",
     "text": [
      "Result: {'data': [{'ir_access_level': 1, 'ir_id': 'IM7216', 'status': True, 'dr_count': 0, 'started_date': '20-08-2025', 'ir_email': 'im7216@example.com', 'ir_name': 'Test User IM7216', 'ir_password': '$2b$12$5et2rfeHbZmMh44ORUqwm.yS/qADo.iBqSPmf1dzzbpQDiDPp2xOO', 'plan_count': 0, 'info_count': 0, 'name_list': 0}, {'ir_access_level': 2, 'ir_id': 'IM6599', 'status': True, 'dr_count': 0, 'started_date': '20-08-2025', 'ir_email': 'im6599@example.com', 'ir_name': 'Test User IM6599', 'ir_password': '$2b$12$eeOxCZ9/7lVQqs1mb8JX.uRq.QgSqsjnUZNPoXtp28sphMaHZ86mK', 'plan_count': 0, 'info_count': 0, 'name_list': 0}, {'ir_access_level': 2, 'ir_id': 'IM1579', 'status': True, 'dr_count': 0, 'started_date': '20-08-2025', 'ir_email': 'im1579@example.com', 'ir_name': 'Test User IM1579', 'ir_password': '$2b$12$T/6kY8TkzW4SsIqPzQZnRe6kmfpVlcb.i7cg1ISYOBhFwLfHH.Ple', 'plan_count': 0, 'info_count': 0, 'name_list': 0}, {'ir_access_level': 2, 'ir_id': 'IM9252', 'status': True, 'dr_count': 0, 'started_date': '20-08-2025', 'ir_email': 'im9252@example.com', 'ir_name': 'Test User IM9252', 'ir_password': '$2b$12$O7MRDBUineQjgl/uoIQebOIIG8Rhlo/Ag8ZRv6qGUHY.Z103QiENK', 'plan_count': 0, 'info_count': 0, 'name_list': 0}, {'ir_access_level': 2, 'ir_id': 'IM2004', 'status': True, 'dr_count': 0, 'started_date': '20-08-2025', 'ir_email': 'im2004@example.com', 'ir_name': 'Test User IM2004', 'ir_password': '$2b$12$uB5ZJmqy7dceZDiTATnq6OFklvdC9QFvwZTQMgn8zg.CAMb6XfzN6', 'plan_count': 0, 'info_count': 0, 'name_list': 0}, {'ir_access_level': 2, 'ir_id': 'IM4230', 'status': True, 'dr_count': 0, 'started_date': '20-08-2025', 'ir_email': 'im4230@example.com', 'ir_name': 'Test User IM4230', 'ir_password': '$2b$12$UHWEs.MI9Llkx5uv17mzXurMIuMnU7rWPpP4NbLasH6SYahFhlJNe', 'plan_count': 0, 'info_count': 0, 'name_list': 0}, {'ir_access_level': 3, 'ir_id': 'IM7990', 'status': True, 'dr_count': 0, 'started_date': '20-08-2025', 'ir_email': 'im7990@example.com', 'ir_name': 'Test User IM7990', 'ir_password': '$2b$12$HbejILWBCbFctG0SCBGeO.GNy3IEjjEISSEK5emunY6zbZ00AjygK', 'plan_count': 0, 'info_count': 0, 'name_list': 0}, {'ir_access_level': 3, 'ir_id': 'IM0262', 'status': True, 'dr_count': 0, 'started_date': '20-08-2025', 'ir_email': 'im0262@example.com', 'ir_name': 'Test User IM0262', 'ir_password': '$2b$12$ffDvgURdihirTgqZ46as2OqnnlMkoy3B6SOiKoiTVI8Gta1ksG2ia', 'plan_count': 0, 'info_count': 0, 'name_list': 0}, {'ir_access_level': 3, 'ir_id': 'IM1781', 'status': True, 'dr_count': 0, 'started_date': '20-08-2025', 'ir_email': 'im1781@example.com', 'ir_name': 'Test User IM1781', 'ir_password': '$2b$12$h4EkoO4wXW4m7Ced1YoJDOBZH0B4kvwAFd.2mte/DiA0rf7ZF4uL6', 'plan_count': 0, 'info_count': 0, 'name_list': 0}, {'ir_access_level': 3, 'ir_id': 'IM1332', 'status': True, 'dr_count': 0, 'started_date': '20-08-2025', 'ir_email': 'im1332@example.com', 'ir_name': 'Test User IM1332', 'ir_password': '$2b$12$SHVl19g5lXP0t8YN70YNyeu4kyJeMWwDFzWX1mRqCNFmqPcIXE4m6', 'plan_count': 0, 'info_count': 0, 'name_list': 0}, {'ir_access_level': 3, 'ir_id': 'IM9002', 'status': True, 'dr_count': 0, 'started_date': '20-08-2025', 'ir_email': 'im9002@example.com', 'ir_name': 'Test User IM9002', 'ir_password': '$2b$12$0POFMy4f/9PWCd3oN4B73.3Io06sGyOJyU3HZDXOCS62ap3Fs.jxm', 'plan_count': 0, 'info_count': 0, 'name_list': 0}, {'ir_access_level': 3, 'ir_id': 'IM4546', 'status': True, 'dr_count': 0, 'started_date': '20-08-2025', 'ir_email': 'im4546@example.com', 'ir_name': 'Test User IM4546', 'ir_password': '$2b$12$WxDYbV0dCkhqjH9TVgAfo.aJyqRTTW1HZ8JzwPYnKvQFdeMjMfDVu', 'plan_count': 0, 'info_count': 0, 'name_list': 0}, {'ir_access_level': 3, 'ir_id': 'IM4927', 'status': True, 'dr_count': 0, 'started_date': '20-08-2025', 'ir_email': 'im4927@example.com', 'ir_name': 'Test User IM4927', 'ir_password': '$2b$12$G/pQIYqcgQ9z20/n51oGB.xrSLS.Kk2YWnxr.sKQ4CYjB6K8pbPg6', 'plan_count': 0, 'info_count': 0, 'name_list': 0}, {'ir_access_level': 3, 'ir_id': 'IM6392', 'status': True, 'dr_count': 0, 'started_date': '20-08-2025', 'ir_email': 'im6392@example.com', 'ir_name': 'Test User IM6392', 'ir_password': '$2b$12$UFI5WAqkorI3VIi5IwXfjugMbvlL2v8hi/dIf9mvLACxSsTU0A6a2', 'plan_count': 0, 'info_count': 0, 'name_list': 0}, {'ir_access_level': 4, 'ir_id': 'IM2779', 'status': True, 'dr_count': 0, 'started_date': '20-08-2025', 'ir_email': 'im2779@example.com', 'ir_name': 'Test User IM2779', 'ir_password': '$2b$12$4cp1ujofDVoz8NYR24zT3ehhlnlZ1dS.LR9lXgLnScoZWor14XiNu', 'plan_count': 0, 'info_count': 0, 'name_list': 0}, {'ir_access_level': 4, 'ir_id': 'IM9215', 'status': True, 'dr_count': 0, 'started_date': '20-08-2025', 'ir_email': 'im9215@example.com', 'ir_name': 'Test User IM9215', 'ir_password': '$2b$12$jRF9h.hmhh2WYOVYUHlNh.b2uV5lHhSn49.PEA8kfwIeKifNE.WQq', 'plan_count': 0, 'info_count': 0, 'name_list': 0}, {'ir_access_level': 4, 'ir_id': 'IM8947', 'status': True, 'dr_count': 0, 'started_date': '20-08-2025', 'ir_email': 'im8947@example.com', 'ir_name': 'Test User IM8947', 'ir_password': '$2b$12$P90fdQ3EEtQLK5bUAg464OPRXmZlfVHMnrBk7zP4i0mmMv.6GYgHm', 'plan_count': 0, 'info_count': 0, 'name_list': 0}, {'ir_access_level': 4, 'ir_id': 'IM8361', 'status': True, 'dr_count': 0, 'started_date': '20-08-2025', 'ir_email': 'im8361@example.com', 'ir_name': 'Test User IM8361', 'ir_password': '$2b$12$mMb1KmbfBQpEYTHNvZf3rugiJJnbA3K7mpHbnPfYBSPPIZKQFJL0O', 'plan_count': 0, 'info_count': 0, 'name_list': 0}, {'ir_access_level': 4, 'ir_id': 'IM2499', 'status': True, 'dr_count': 0, 'started_date': '20-08-2025', 'ir_email': 'im2499@example.com', 'ir_name': 'Test User IM2499', 'ir_password': '$2b$12$W6iVq3B2itkgxdGzPZcHS.ooNU.tiXHlGIFpbHegQpWY/CWJjTTTm', 'plan_count': 0, 'info_count': 0, 'name_list': 0}, {'ir_access_level': 4, 'ir_id': 'IM0424', 'status': True, 'dr_count': 0, 'started_date': '20-08-2025', 'ir_email': 'im0424@example.com', 'ir_name': 'Test User IM0424', 'ir_password': '$2b$12$U8kX5Dnz1RGeVB6d3aMkAuXpIKQHhx9tvSj1sh8F8.tEduX8UbfCq', 'plan_count': 0, 'info_count': 0, 'name_list': 0}, {'ir_access_level': 4, 'ir_id': 'IM6678', 'status': True, 'dr_count': 0, 'started_date': '20-08-2025', 'ir_email': 'im6678@example.com', 'ir_name': 'Test User IM6678', 'ir_password': '$2b$12$fzePu5OImSb8AAsK9JvDCOvDFThdcam1s78Y21GsmoR2QRquLbsay', 'plan_count': 0, 'info_count': 0, 'name_list': 0}, {'ir_access_level': 4, 'ir_id': 'IM9375', 'status': True, 'dr_count': 0, 'started_date': '20-08-2025', 'ir_email': 'im9375@example.com', 'ir_name': 'Test User IM9375', 'ir_password': '$2b$12$jEhc5ja5hxZrz26CtLHGA.JYFD0.ZNbkXUYQweF1bf3kYBfFEwPsG', 'plan_count': 0, 'info_count': 0, 'name_list': 0}, {'ir_access_level': 4, 'ir_id': 'IM8657', 'status': True, 'dr_count': 0, 'started_date': '20-08-2025', 'ir_email': 'im8657@example.com', 'ir_name': 'Test User IM8657', 'ir_password': '$2b$12$wAKPYH6Z9vhwpKa75wKCUefINSNKV4iKC5R6jhIwlqH9I6GMxIEQq', 'plan_count': 0, 'info_count': 0, 'name_list': 0}, {'ir_access_level': 4, 'ir_id': 'IM5852', 'status': True, 'dr_count': 0, 'started_date': '20-08-2025', 'ir_email': 'im5852@example.com', 'ir_name': 'Test User IM5852', 'ir_password': '$2b$12$HH7jqukRbEarZK5UkrZfPOU6gpUKoj1DEgQ24lJzu9JVy3/rHx6R.', 'plan_count': 0, 'info_count': 0, 'name_list': 0}, {'ir_access_level': 4, 'ir_id': 'IM1530', 'status': True, 'dr_count': 0, 'started_date': '20-08-2025', 'ir_email': 'im1530@example.com', 'ir_name': 'Test User IM1530', 'ir_password': '$2b$12$MqwIDr004rlkUe00R3FX4OAGB1Y4yvqY8vj7X6gIHNgjbGzxDL9Mi', 'plan_count': 0, 'info_count': 0, 'name_list': 0}], 'count': 25}\n"
     ]
    }
   ],
   "source": [
    "def getAllRegisteredIr():\n",
    "    path = \"/api/irs\"\n",
    "    end_point = f\"{base_url}{path}\"\n",
    "    response = requests.get(end_point)\n",
    "    \n",
    "    if response.ok:\n",
    "        try:\n",
    "            print(\"Result:\", response.json())\n",
    "        except ValueError:\n",
    "            print(\"Result (non-JSON):\", response.text)\n",
    "    else:\n",
    "        try:\n",
    "            print(\"Error:\", response.json())\n",
    "        except ValueError:\n",
    "            print(\"Error (non-JSON):\", response.text)\n",
    "\n",
    "getAllRegisteredIr()\n"
   ]
  },
  {
   "cell_type": "code",
   "execution_count": null,
   "id": "e94b8af5",
   "metadata": {},
   "outputs": [],
   "source": [
    "\n",
    "def reset_database():\n",
    "    url = f\"{base_url}/api/reset_database\"\n",
    "    try:\n",
    "        response = requests.post(url, timeout=20)\n",
    "        if response.ok:\n",
    "            print(\"✅ Database reset successfully!\")\n",
    "        else:\n",
    "            print(f\"❌ Reset failed → {response.status_code} | {response.text}\")\n",
    "    except requests.exceptions.RequestException as e:\n",
    "        print(f\"🚫 Error while resetting database: {e}\")"
   ]
  }
 ],
 "metadata": {
  "kernelspec": {
   "display_name": ".venv",
   "language": "python",
   "name": "python3"
  },
  "language_info": {
   "codemirror_mode": {
    "name": "ipython",
    "version": 3
   },
   "file_extension": ".py",
   "mimetype": "text/x-python",
   "name": "python",
   "nbconvert_exporter": "python",
   "pygments_lexer": "ipython3",
   "version": "3.9.6"
  }
 },
 "nbformat": 4,
 "nbformat_minor": 5
}
