{
 "cells": [
  {
   "cell_type": "code",
   "execution_count": null,
   "id": "4b3a4378",
   "metadata": {},
   "outputs": [],
   "source": [
    "!pip3 install requests"
   ]
  },
  {
   "cell_type": "code",
   "execution_count": 7,
   "id": "c338f5b9",
   "metadata": {},
   "outputs": [],
   "source": [
    "import requests \n",
    "import random\n",
    "import string\n",
    "import json\n",
    "from datetime import datetime\n",
    "\n",
    "base_url = \"https://du-backend-t437.onrender.com/\"\n",
    "# base_url = \"http://localhost:8002\"\n",
    "\n",
    "ir_ids = [\n",
    "    \"IM7216\", \"IM6599\", \"IM1579\", \"IM9252\", \"IM2004\", \"IM4230\", \"IM7990\", \"IM0262\",\n",
    "    \"IM1781\", \"IM1332\", \"IM9002\", \"IM4546\", \"IM4927\", \"IM6392\", \"IM2779\", \"IM9215\",\n",
    "    \"IM8947\", \"IM8361\", \"IM2499\", \"IM0424\", \"IM6678\", \"IM9375\", \"IM8657\", \"IM5852\", \"IM1530\"\n",
    "]"
   ]
  },
  {
   "cell_type": "code",
   "execution_count": null,
   "id": "c5f3d4d2",
   "metadata": {},
   "outputs": [],
   "source": [
    "\n",
    "def createIr(new_id):  # Make sure this is defined\n",
    "    path = \"/api/add_ir_id\"\n",
    "    end_point = f\"{base_url}{path}\"\n",
    "    payload = {\"ir_id\": new_id}\n",
    "\n",
    "    try:\n",
    "        response = requests.post(end_point, json=payload, timeout=10)\n",
    "        response.raise_for_status()\n",
    "        print(response.json())\n",
    "    except requests.exceptions.Timeout:\n",
    "        print(\"Request timed out.\")\n",
    "    except requests.exceptions.ConnectionError:\n",
    "        print(\"Failed to connect to the server.\")\n",
    "    except requests.exceptions.HTTPError as err:\n",
    "        print(f\"HTTP error occurred: {err.response.text}\")\n",
    "    except Exception as e:\n",
    "        print(f\"An error occurred: {e}\")\n",
    "\n",
    "\n",
    "for ir_id in ir_ids:\n",
    "    createIr(ir_id)\n"
   ]
  },
  {
   "cell_type": "code",
   "execution_count": null,
   "id": "a3c4871c",
   "metadata": {},
   "outputs": [],
   "source": [
    "access_distribution = (\n",
    "    [1] +                  # Admin (1 user)\n",
    "    [2] * 5 +              # LDC (5 users)\n",
    "    [3] * 8 +              # LS (8 users)\n",
    "    [4] * (len(ir_ids) - (1 + 5 + 8))  # GC (Remaining users)\n",
    ")\n",
    "\n",
    "def register_ir(ir_id, access_level):\n",
    "    path = \"/api/register_new_ir\"\n",
    "    end_point = f\"{base_url}{path}\"\n",
    "    data = {\n",
    "        \"ir_id\": ir_id,\n",
    "        \"ir_name\": f\"Test User {ir_id}\",\n",
    "        \"ir_email\": f\"{ir_id.lower()}@example.com\",\n",
    "        \"ir_password\": \"TestPass123\",\n",
    "        \"ir_access_level\": access_level\n",
    "    }\n",
    "    \n",
    "    try:\n",
    "        response = requests.post(\n",
    "            end_point,\n",
    "            json=data,\n",
    "            timeout=10\n",
    "        )\n",
    "        \n",
    "        if response.ok:\n",
    "            print(f\"✅ Registered {ir_id} (Access: {access_level})\")\n",
    "        else:\n",
    "            try:\n",
    "                print(f\"❌ Error {ir_id} (Access: {access_level}) → {response.status_code} | {response.json()}\")\n",
    "            except ValueError:\n",
    "                print(f\"❌ Error {ir_id} (Access: {access_level}) → {response.status_code} | {response.text}\")\n",
    "    \n",
    "    except requests.exceptions.RequestException as e:\n",
    "        print(f\"🚫 Failed {ir_id}: {e}\")\n",
    "\n",
    "def populate_test_irs():\n",
    "    for ir_id, access_level in zip(ir_ids, access_distribution):\n",
    "        register_ir(ir_id, access_level)\n",
    "\n",
    "\n",
    "populate_test_irs()"
   ]
  },
  {
   "cell_type": "code",
   "execution_count": 44,
   "id": "312d23e8",
   "metadata": {},
   "outputs": [
    {
     "name": "stdout",
     "output_type": "stream",
     "text": [
      "Result: {'data': [{'ir_name': 'Test User IM7216', 'ir_access_level': 1, 'ir_password': '$2b$12$5et2rfeHbZmMh44ORUqwm.yS/qADo.iBqSPmf1dzzbpQDiDPp2xOO', 'plan_count': 0, 'info_count': 0, 'name_list': 0, 'ir_email': 'im7216@example.com', 'ir_id': 'IM7216', 'status': True, 'dr_count': 0, 'started_date': '20-08-2025'}, {'ir_name': 'Test User IM6599', 'ir_access_level': 2, 'ir_password': '$2b$12$eeOxCZ9/7lVQqs1mb8JX.uRq.QgSqsjnUZNPoXtp28sphMaHZ86mK', 'plan_count': 0, 'info_count': 0, 'name_list': 0, 'ir_email': 'im6599@example.com', 'ir_id': 'IM6599', 'status': True, 'dr_count': 0, 'started_date': '20-08-2025'}, {'ir_name': 'Test User IM1579', 'ir_access_level': 2, 'ir_password': '$2b$12$T/6kY8TkzW4SsIqPzQZnRe6kmfpVlcb.i7cg1ISYOBhFwLfHH.Ple', 'plan_count': 0, 'info_count': 0, 'name_list': 0, 'ir_email': 'im1579@example.com', 'ir_id': 'IM1579', 'status': True, 'dr_count': 0, 'started_date': '20-08-2025'}, {'ir_name': 'Test User IM9252', 'ir_access_level': 2, 'ir_password': '$2b$12$O7MRDBUineQjgl/uoIQebOIIG8Rhlo/Ag8ZRv6qGUHY.Z103QiENK', 'plan_count': 0, 'info_count': 0, 'name_list': 0, 'ir_email': 'im9252@example.com', 'ir_id': 'IM9252', 'status': True, 'dr_count': 0, 'started_date': '20-08-2025'}, {'ir_name': 'Test User IM2004', 'ir_access_level': 2, 'ir_password': '$2b$12$uB5ZJmqy7dceZDiTATnq6OFklvdC9QFvwZTQMgn8zg.CAMb6XfzN6', 'plan_count': 0, 'info_count': 0, 'name_list': 0, 'ir_email': 'im2004@example.com', 'ir_id': 'IM2004', 'status': True, 'dr_count': 0, 'started_date': '20-08-2025'}, {'ir_name': 'Test User IM4230', 'ir_access_level': 2, 'ir_password': '$2b$12$UHWEs.MI9Llkx5uv17mzXurMIuMnU7rWPpP4NbLasH6SYahFhlJNe', 'plan_count': 0, 'info_count': 0, 'name_list': 0, 'ir_email': 'im4230@example.com', 'ir_id': 'IM4230', 'status': True, 'dr_count': 0, 'started_date': '20-08-2025'}, {'ir_name': 'Test User IM7990', 'ir_access_level': 3, 'ir_password': '$2b$12$HbejILWBCbFctG0SCBGeO.GNy3IEjjEISSEK5emunY6zbZ00AjygK', 'plan_count': 0, 'info_count': 0, 'name_list': 0, 'ir_email': 'im7990@example.com', 'ir_id': 'IM7990', 'status': True, 'dr_count': 0, 'started_date': '20-08-2025'}, {'ir_name': 'Test User IM0262', 'ir_access_level': 3, 'ir_password': '$2b$12$ffDvgURdihirTgqZ46as2OqnnlMkoy3B6SOiKoiTVI8Gta1ksG2ia', 'plan_count': 0, 'info_count': 0, 'name_list': 0, 'ir_email': 'im0262@example.com', 'ir_id': 'IM0262', 'status': True, 'dr_count': 0, 'started_date': '20-08-2025'}, {'ir_name': 'Test User IM1781', 'ir_access_level': 3, 'ir_password': '$2b$12$h4EkoO4wXW4m7Ced1YoJDOBZH0B4kvwAFd.2mte/DiA0rf7ZF4uL6', 'plan_count': 0, 'info_count': 0, 'name_list': 0, 'ir_email': 'im1781@example.com', 'ir_id': 'IM1781', 'status': True, 'dr_count': 0, 'started_date': '20-08-2025'}, {'ir_name': 'Test User IM1332', 'ir_access_level': 3, 'ir_password': '$2b$12$SHVl19g5lXP0t8YN70YNyeu4kyJeMWwDFzWX1mRqCNFmqPcIXE4m6', 'plan_count': 0, 'info_count': 0, 'name_list': 0, 'ir_email': 'im1332@example.com', 'ir_id': 'IM1332', 'status': True, 'dr_count': 0, 'started_date': '20-08-2025'}, {'ir_name': 'Test User IM9002', 'ir_access_level': 3, 'ir_password': '$2b$12$0POFMy4f/9PWCd3oN4B73.3Io06sGyOJyU3HZDXOCS62ap3Fs.jxm', 'plan_count': 0, 'info_count': 0, 'name_list': 0, 'ir_email': 'im9002@example.com', 'ir_id': 'IM9002', 'status': True, 'dr_count': 0, 'started_date': '20-08-2025'}, {'ir_name': 'Test User IM4546', 'ir_access_level': 3, 'ir_password': '$2b$12$WxDYbV0dCkhqjH9TVgAfo.aJyqRTTW1HZ8JzwPYnKvQFdeMjMfDVu', 'plan_count': 0, 'info_count': 0, 'name_list': 0, 'ir_email': 'im4546@example.com', 'ir_id': 'IM4546', 'status': True, 'dr_count': 0, 'started_date': '20-08-2025'}, {'ir_name': 'Test User IM4927', 'ir_access_level': 3, 'ir_password': '$2b$12$G/pQIYqcgQ9z20/n51oGB.xrSLS.Kk2YWnxr.sKQ4CYjB6K8pbPg6', 'plan_count': 0, 'info_count': 0, 'name_list': 0, 'ir_email': 'im4927@example.com', 'ir_id': 'IM4927', 'status': True, 'dr_count': 0, 'started_date': '20-08-2025'}, {'ir_name': 'Test User IM6392', 'ir_access_level': 3, 'ir_password': '$2b$12$UFI5WAqkorI3VIi5IwXfjugMbvlL2v8hi/dIf9mvLACxSsTU0A6a2', 'plan_count': 0, 'info_count': 0, 'name_list': 0, 'ir_email': 'im6392@example.com', 'ir_id': 'IM6392', 'status': True, 'dr_count': 0, 'started_date': '20-08-2025'}, {'ir_name': 'Test User IM2779', 'ir_access_level': 4, 'ir_password': '$2b$12$4cp1ujofDVoz8NYR24zT3ehhlnlZ1dS.LR9lXgLnScoZWor14XiNu', 'plan_count': 0, 'info_count': 0, 'name_list': 0, 'ir_email': 'im2779@example.com', 'ir_id': 'IM2779', 'status': True, 'dr_count': 0, 'started_date': '20-08-2025'}, {'ir_name': 'Test User IM9215', 'ir_access_level': 4, 'ir_password': '$2b$12$jRF9h.hmhh2WYOVYUHlNh.b2uV5lHhSn49.PEA8kfwIeKifNE.WQq', 'plan_count': 0, 'info_count': 0, 'name_list': 0, 'ir_email': 'im9215@example.com', 'ir_id': 'IM9215', 'status': True, 'dr_count': 0, 'started_date': '20-08-2025'}, {'ir_name': 'Test User IM8947', 'ir_access_level': 4, 'ir_password': '$2b$12$P90fdQ3EEtQLK5bUAg464OPRXmZlfVHMnrBk7zP4i0mmMv.6GYgHm', 'plan_count': 0, 'info_count': 0, 'name_list': 0, 'ir_email': 'im8947@example.com', 'ir_id': 'IM8947', 'status': True, 'dr_count': 0, 'started_date': '20-08-2025'}, {'ir_name': 'Test User IM8361', 'ir_access_level': 4, 'ir_password': '$2b$12$mMb1KmbfBQpEYTHNvZf3rugiJJnbA3K7mpHbnPfYBSPPIZKQFJL0O', 'plan_count': 0, 'info_count': 0, 'name_list': 0, 'ir_email': 'im8361@example.com', 'ir_id': 'IM8361', 'status': True, 'dr_count': 0, 'started_date': '20-08-2025'}, {'ir_name': 'Test User IM2499', 'ir_access_level': 4, 'ir_password': '$2b$12$W6iVq3B2itkgxdGzPZcHS.ooNU.tiXHlGIFpbHegQpWY/CWJjTTTm', 'plan_count': 0, 'info_count': 0, 'name_list': 0, 'ir_email': 'im2499@example.com', 'ir_id': 'IM2499', 'status': True, 'dr_count': 0, 'started_date': '20-08-2025'}, {'ir_name': 'Test User IM0424', 'ir_access_level': 4, 'ir_password': '$2b$12$U8kX5Dnz1RGeVB6d3aMkAuXpIKQHhx9tvSj1sh8F8.tEduX8UbfCq', 'plan_count': 0, 'info_count': 0, 'name_list': 0, 'ir_email': 'im0424@example.com', 'ir_id': 'IM0424', 'status': True, 'dr_count': 0, 'started_date': '20-08-2025'}, {'ir_name': 'Test User IM6678', 'ir_access_level': 4, 'ir_password': '$2b$12$fzePu5OImSb8AAsK9JvDCOvDFThdcam1s78Y21GsmoR2QRquLbsay', 'plan_count': 0, 'info_count': 0, 'name_list': 0, 'ir_email': 'im6678@example.com', 'ir_id': 'IM6678', 'status': True, 'dr_count': 0, 'started_date': '20-08-2025'}, {'ir_name': 'Test User IM9375', 'ir_access_level': 4, 'ir_password': '$2b$12$jEhc5ja5hxZrz26CtLHGA.JYFD0.ZNbkXUYQweF1bf3kYBfFEwPsG', 'plan_count': 0, 'info_count': 0, 'name_list': 0, 'ir_email': 'im9375@example.com', 'ir_id': 'IM9375', 'status': True, 'dr_count': 0, 'started_date': '20-08-2025'}, {'ir_name': 'Test User IM8657', 'ir_access_level': 4, 'ir_password': '$2b$12$wAKPYH6Z9vhwpKa75wKCUefINSNKV4iKC5R6jhIwlqH9I6GMxIEQq', 'plan_count': 0, 'info_count': 0, 'name_list': 0, 'ir_email': 'im8657@example.com', 'ir_id': 'IM8657', 'status': True, 'dr_count': 0, 'started_date': '20-08-2025'}, {'ir_name': 'Test User IM5852', 'ir_access_level': 4, 'ir_password': '$2b$12$HH7jqukRbEarZK5UkrZfPOU6gpUKoj1DEgQ24lJzu9JVy3/rHx6R.', 'plan_count': 0, 'info_count': 0, 'name_list': 0, 'ir_email': 'im5852@example.com', 'ir_id': 'IM5852', 'status': True, 'dr_count': 0, 'started_date': '20-08-2025'}, {'ir_name': 'Test User IM1530', 'ir_access_level': 4, 'ir_password': '$2b$12$MqwIDr004rlkUe00R3FX4OAGB1Y4yvqY8vj7X6gIHNgjbGzxDL9Mi', 'plan_count': 0, 'info_count': 0, 'name_list': 0, 'ir_email': 'im1530@example.com', 'ir_id': 'IM1530', 'status': True, 'dr_count': 0, 'started_date': '20-08-2025'}, {'ir_name': 'John', 'ir_access_level': 5, 'ir_password': '$2b$12$r7sS1nbNZakDpP6O0YUR3uH5/hLNhtceqgk8PeRmsA8LudoF7BKyK', 'plan_count': 0, 'info_count': 0, 'name_list': 0, 'ir_email': 'john@email.com', 'ir_id': 'IM9902', 'status': True, 'dr_count': 0, 'started_date': '07-09-2025'}, {'ir_name': 'John', 'ir_access_level': 5, 'ir_password': '$2b$12$0lrLC9BwX6KgLeCLH2R54eRDo9vz1v2E6P3/WiwXGH2MGx9wksDUG', 'plan_count': 0, 'info_count': 0, 'name_list': 0, 'ir_email': 'john@email.com', 'ir_id': 'IM9912', 'status': True, 'dr_count': 0, 'started_date': '07-09-2025'}, {'ir_name': 'sneha', 'ir_access_level': 5, 'ir_password': '$2b$12$.qjCehSS1mFeR5GL5KAb1u6f96qTs3ewFhi0qJfgr9d4oMR6KnLHW', 'plan_count': 0, 'info_count': 0, 'name_list': 0, 'ir_email': 'sneha@gmail.com', 'ir_id': 'IR2190', 'status': True, 'dr_count': 0, 'started_date': '07-09-2025'}, {'ir_name': 'sneha', 'ir_access_level': 5, 'ir_password': '$2b$12$xqnwIwsvbnzzLts9eIwabubnhj.8UI2/9tCc1okayqiBJATT.tZ4u', 'plan_count': 0, 'info_count': 0, 'name_list': 0, 'ir_email': 'sneha@gmail.com', 'ir_id': 'IR2290', 'status': True, 'dr_count': 0, 'started_date': '07-09-2025'}, {'ir_name': 'SNEHA', 'ir_access_level': 5, 'ir_password': '$2b$12$1btkWSIe7V9Da.Muvhc.8urR2abgrRg8To0TL92Uwxi1RXZGn68TO', 'plan_count': 0, 'info_count': 0, 'name_list': 0, 'ir_email': 'SNEHA@gmail.com', 'ir_id': 'IR2378', 'status': True, 'dr_count': 0, 'started_date': '07-09-2025'}], 'count': 30}\n"
     ]
    }
   ],
   "source": [
    "def getAllRegisteredIr():\n",
    "    path = \"/api/irs\"\n",
    "    end_point = f\"{base_url}{path}\"\n",
    "    response = requests.get(end_point)\n",
    "    \n",
    "    if response.ok:\n",
    "        try:\n",
    "            print(\"Result:\", response.json())\n",
    "        except ValueError:\n",
    "            print(\"Result (non-JSON):\", response.text)\n",
    "    else:\n",
    "        try:\n",
    "            print(\"Error:\", response.json())\n",
    "        except ValueError:\n",
    "            print(\"Error (non-JSON):\", response.text)\n",
    "\n",
    "getAllRegisteredIr()\n"
   ]
  },
  {
   "cell_type": "code",
   "execution_count": null,
   "id": "3b2a7cee",
   "metadata": {},
   "outputs": [],
   "source": [
    "def createTeam():\n",
    "    path = \"/api/create_team\"\n",
    "    end_point = f\"{base_url}{path}\"\n",
    "    data = {\"name\":\"Relentless\"}\n",
    "    data = json.dumps(data)\n",
    "    response = requests.post(end_point,data=data,headers={\"Content-type\":\"application/json\"})\n",
    "    if response.ok:\n",
    "        print(\"Success \", response.json())\n",
    "    else:\n",
    "        print(\"Failure \", response.json())\n",
    "\n",
    "createTeam()"
   ]
  },
  {
   "cell_type": "code",
   "execution_count": 37,
   "id": "fd3a4005",
   "metadata": {},
   "outputs": [
    {
     "name": "stdout",
     "output_type": "stream",
     "text": [
      "Success  [{'name': 'Relentless', 'id': 1}, {'name': 'Dreamers United', 'id': 2}, {'name': 'Wolfpacks', 'id': 3}, {'name': 'Dreamers', 'id': 4}]\n"
     ]
    }
   ],
   "source": [
    "def getAllTeams():\n",
    "    path = \"/api/teams\"\n",
    "    end_point = f\"{base_url}{path}\"\n",
    "    response = requests.get(end_point)\n",
    "    if response.ok:\n",
    "        print(\"Success \", response.json())\n",
    "    else:\n",
    "        print(\"Failure \", response.json())\n",
    "\n",
    "getAllTeams()"
   ]
  },
  {
   "cell_type": "code",
   "execution_count": null,
   "id": "d23fae0d",
   "metadata": {},
   "outputs": [],
   "source": [
    "def update_team_name(team_id, new_name):\n",
    "    path = f\"/api/update_team_name/{team_id}\"  # <-- f-string here\n",
    "    end_point = f\"{base_url}{path}\"\n",
    "    payload = {\"name\": new_name}\n",
    "    headers = {\"Content-Type\": \"application/json\"}\n",
    "\n",
    "    try:\n",
    "        response = requests.patch(end_point, json=payload, headers=headers)\n",
    "        response.raise_for_status()\n",
    "        print(\"Success:\", response.json())\n",
    "        return response.json()\n",
    "    except requests.exceptions.HTTPError as http_err:\n",
    "        print(f\"HTTP error occurred: {http_err} - {response.text}\")\n",
    "    except requests.exceptions.ConnectionError as conn_err:\n",
    "        print(f\"Connection error occurred: {conn_err}\")\n",
    "    except requests.exceptions.Timeout as timeout_err:\n",
    "        print(f\"Timeout error occurred: {timeout_err}\")\n",
    "    except requests.exceptions.RequestException as req_err:\n",
    "        print(f\"An error occurred: {req_err}\")\n",
    "\n",
    "update_team_name(3, \"Dreame Relentless\")"
   ]
  },
  {
   "cell_type": "code",
   "execution_count": null,
   "id": "5341afc3",
   "metadata": {},
   "outputs": [],
   "source": [
    "def deleteTeam(team_id):\n",
    "    path = f\"/api/delete_team/{team_id}\"\n",
    "    end_point = f\"{base_url}{path}\"\n",
    "    response = requests.delete(end_point)\n",
    "    if response.ok:\n",
    "        print(\"Success \", response.json())\n",
    "    else:\n",
    "        print(\"Failure \", response.json())\n",
    "\n",
    "deleteTeam()"
   ]
  },
  {
   "cell_type": "code",
   "execution_count": 36,
   "id": "82fc4fbe",
   "metadata": {},
   "outputs": [
    {
     "name": "stdout",
     "output_type": "stream",
     "text": [
      "Success: {'message': 'TeamRole.IR assigned to team 1'}\n"
     ]
    },
    {
     "data": {
      "text/plain": [
       "{'message': 'TeamRole.IR assigned to team 1'}"
      ]
     },
     "execution_count": 36,
     "metadata": {},
     "output_type": "execute_result"
    }
   ],
   "source": [
    "def add_ir_to_team(ir_id, team_id, role):\n",
    "    url = f\"{base_url}/api/add_ir_to_team\"\n",
    "    payload = {\n",
    "        \"ir_id\": ir_id,\n",
    "        \"team_id\": team_id,\n",
    "        \"role\": role\n",
    "    }\n",
    "    headers = {\"Content-Type\": \"application/json\"}\n",
    "\n",
    "    try:\n",
    "        response = requests.post(url, json=payload, headers=headers, timeout=10)\n",
    "        response.raise_for_status()\n",
    "        print(\"Success:\", response.json())\n",
    "        return response.json()\n",
    "    except requests.exceptions.HTTPError as http_err:\n",
    "        try:\n",
    "            print(f\"HTTP error occurred: {http_err} - {response.json()}\")\n",
    "        except Exception:\n",
    "            print(f\"HTTP error occurred: {http_err} - {response.text}\")\n",
    "    except requests.exceptions.ConnectionError as conn_err:\n",
    "        print(f\"Connection error occurred: {conn_err}\")\n",
    "    except requests.exceptions.Timeout as timeout_err:\n",
    "        print(f\"Timeout error occurred: {timeout_err}\")\n",
    "    except requests.exceptions.RequestException as req_err:\n",
    "        print(f\"An error occurred: {req_err}\")\n",
    "\n",
    "# Example usage:\n",
    "\n",
    "add_ir_to_team(\"IM1530\", 1, \"IR\")"
   ]
  },
  {
   "cell_type": "code",
   "execution_count": 39,
   "id": "0c965cf2",
   "metadata": {},
   "outputs": [
    {
     "name": "stdout",
     "output_type": "stream",
     "text": [
      "Success: [{'ir_id': 'IM9252', 'id': 3, 'team_id': 1, 'role': 'LDC'}, {'ir_id': 'IM2004', 'id': 4, 'team_id': 1, 'role': 'LDC'}, {'ir_id': 'IM0262', 'id': 7, 'team_id': 1, 'role': 'LS'}, {'ir_id': 'IM1781', 'id': 8, 'team_id': 1, 'role': 'LS'}, {'ir_id': 'IM6392', 'id': 13, 'team_id': 1, 'role': 'GC'}, {'ir_id': 'IM2779', 'id': 14, 'team_id': 1, 'role': 'GC'}, {'ir_id': 'IM9375', 'id': 20, 'team_id': 1, 'role': 'IR'}, {'ir_id': 'IM1530', 'id': 23, 'team_id': 1, 'role': 'IR'}]\n"
     ]
    },
    {
     "data": {
      "text/plain": [
       "[{'ir_id': 'IM9252', 'id': 3, 'team_id': 1, 'role': 'LDC'},\n",
       " {'ir_id': 'IM2004', 'id': 4, 'team_id': 1, 'role': 'LDC'},\n",
       " {'ir_id': 'IM0262', 'id': 7, 'team_id': 1, 'role': 'LS'},\n",
       " {'ir_id': 'IM1781', 'id': 8, 'team_id': 1, 'role': 'LS'},\n",
       " {'ir_id': 'IM6392', 'id': 13, 'team_id': 1, 'role': 'GC'},\n",
       " {'ir_id': 'IM2779', 'id': 14, 'team_id': 1, 'role': 'GC'},\n",
       " {'ir_id': 'IM9375', 'id': 20, 'team_id': 1, 'role': 'IR'},\n",
       " {'ir_id': 'IM1530', 'id': 23, 'team_id': 1, 'role': 'IR'}]"
      ]
     },
     "execution_count": 39,
     "metadata": {},
     "output_type": "execute_result"
    }
   ],
   "source": [
    "def get_team_members(team_id):\n",
    "    url = f\"{base_url}/api/team_members/{team_id}\"\n",
    "    try:\n",
    "        response = requests.get(url, timeout=10)\n",
    "        response.raise_for_status()\n",
    "        print(\"Success:\", response.json())\n",
    "        return response.json()\n",
    "    except requests.exceptions.HTTPError as http_err:\n",
    "        try:\n",
    "            print(f\"HTTP error occurred: {http_err} - {response.json()}\")\n",
    "        except Exception:\n",
    "            print(f\"HTTP error occurred: {http_err} - {response.text}\")\n",
    "    except requests.exceptions.ConnectionError as conn_err:\n",
    "        print(f\"Connection error occurred: {conn_err}\")\n",
    "    except requests.exceptions.Timeout as timeout_err:\n",
    "        print(f\"Timeout error occurred: {timeout_err}\")\n",
    "    except requests.exceptions.RequestException as req_err:\n",
    "        print(f\"An error occurred: {req_err}\")\n",
    "\n",
    "get_team_members(1) "
   ]
  },
  {
   "cell_type": "code",
   "execution_count": null,
   "id": "6c5b5799",
   "metadata": {},
   "outputs": [],
   "source": [
    "def remove_ir_from_team(base_url, team_id, ir_id):\n",
    "    url = f\"{base_url}/api/remove_ir_from_team/{team_id}/{ir_id}\"\n",
    "    try:\n",
    "        response = requests.delete(url, timeout=10)\n",
    "        response.raise_for_status()\n",
    "        print(\"Success:\", response.json())\n",
    "        return response.json()\n",
    "    except requests.exceptions.HTTPError as http_err:\n",
    "        try:\n",
    "            print(f\"HTTP error occurred: {http_err} - {response.json()}\")\n",
    "        except Exception:\n",
    "            print(f\"HTTP error occurred: {http_err} - {response.text}\")\n",
    "    except requests.exceptions.ConnectionError as conn_err:\n",
    "        print(f\"Connection error occurred: {conn_err}\")\n",
    "    except requests.exceptions.Timeout as timeout_err:\n",
    "        print(f\"Timeout error occurred: {timeout_err}\")\n",
    "    except requests.exceptions.RequestException as req_err:\n",
    "        print(f\"An error occurred: {req_err}\")\n",
    "\n",
    "remove_ir_from_team(base_url, 1, \"IM1332\")"
   ]
  },
  {
   "cell_type": "code",
   "execution_count": 49,
   "id": "1242da3f",
   "metadata": {},
   "outputs": [
    {
     "name": "stdout",
     "output_type": "stream",
     "text": [
      "Success: {'message': 'Info detail added', 'info_id': 5}\n"
     ]
    },
    {
     "data": {
      "text/plain": [
       "{'message': 'Info detail added', 'info_id': 5}"
      ]
     },
     "execution_count": 49,
     "metadata": {},
     "output_type": "execute_result"
    }
   ],
   "source": [
    "\n",
    "def add_info_detail(base_url, ir_id, info_date, response, comments, info_name):\n",
    "    url = f\"{base_url}/api/add_info_detail/{ir_id}\"\n",
    "    payload = {\n",
    "        \"ir_id\": ir_id,\n",
    "        \"info_date\": info_date,  # Should be ISO format string, e.g. \"2025-08-26T12:00:00+05:30\"\n",
    "        \"response\": response,    # Should be one of \"A\", \"B\", \"C\"\n",
    "        \"comments\": comments,\n",
    "        \"info_name\": info_name\n",
    "    }\n",
    "    headers = {\"Content-Type\": \"application/json\"}\n",
    "\n",
    "    try:\n",
    "        response = requests.post(url, json=payload, headers=headers, timeout=10)\n",
    "        response.raise_for_status()\n",
    "        print(\"Success:\", response.json())\n",
    "        return response.json()\n",
    "    except requests.exceptions.HTTPError as http_err:\n",
    "        try:\n",
    "            print(f\"HTTP error occurred: {http_err} - {response.json()}\")\n",
    "        except Exception:\n",
    "            print(f\"HTTP error occurred: {http_err} - {response.text}\")\n",
    "    except requests.exceptions.ConnectionError as conn_err:\n",
    "        print(f\"Connection error occurred: {conn_err}\")\n",
    "    except requests.exceptions.Timeout as timeout_err:\n",
    "        print(f\"Timeout error occurred: {timeout_err}\")\n",
    "    except requests.exceptions.RequestException as req_err:\n",
    "        print(f\"An error occurred: {req_err}\")\n",
    "\n",
    "# Example usage:\n",
    "ir_id = \"IM9252\"\n",
    "info_date = datetime.now().isoformat()  # Or use your preferred datetime string\n",
    "response_option = \"A\"                   # Must be \"A\", \"B\", or \"C\"\n",
    "comments = \"Football tourment\"\n",
    "info_name = \"Kiran A\"\n",
    "\n",
    "add_info_detail(base_url, ir_id, info_date, response_option, comments, info_name)"
   ]
  },
  {
   "cell_type": "code",
   "execution_count": 73,
   "id": "e0303c9a",
   "metadata": {},
   "outputs": [
    {
     "name": "stdout",
     "output_type": "stream",
     "text": [
      "Success: {'message': 'Info details added', 'info_ids': [48, 49, 50, 51]}\n"
     ]
    },
    {
     "data": {
      "text/plain": [
       "{'message': 'Info details added', 'info_ids': [48, 49, 50, 51]}"
      ]
     },
     "execution_count": 73,
     "metadata": {},
     "output_type": "execute_result"
    }
   ],
   "source": [
    "def add_info_details(base_url, ir_id, info_list):\n",
    "    url = f\"{base_url}/api/add_info_detail/{ir_id}\"\n",
    "    headers = {\"Content-Type\": \"application/json\"}\n",
    "\n",
    "    try:\n",
    "        response = requests.post(url, json=info_list, headers=headers, timeout=10)\n",
    "        response.raise_for_status()\n",
    "        print(\"Success:\", response.json())\n",
    "        return response.json()\n",
    "    except requests.exceptions.HTTPError as http_err:\n",
    "        try:\n",
    "            print(f\"HTTP error occurred: {http_err} - {response.json()}\")\n",
    "        except Exception:\n",
    "            print(f\"HTTP error occurred: {http_err} - {response.text}\")\n",
    "    except requests.exceptions.ConnectionError as conn_err:\n",
    "        print(f\"Connection error occurred: {conn_err}\")\n",
    "    except requests.exceptions.Timeout as timeout_err:\n",
    "        print(f\"Timeout error occurred: {timeout_err}\")\n",
    "    except requests.exceptions.RequestException as req_err:\n",
    "        print(f\"An error occurred: {req_err}\")\n",
    "\n",
    "# Example usage:\n",
    "ir_id = \"IM7216\"\n",
    "\n",
    "info_list = [\n",
    "    {\n",
    "        \"info_date\": datetime.now().isoformat(),\n",
    "        \"response\": \"A\",\n",
    "        \"comments\": \"First info went well.\",\n",
    "        \"info_name\": \"John Doe\"\n",
    "    },\n",
    "    {\n",
    "        \"info_date\": datetime.now().isoformat(),\n",
    "        \"response\": \"B\",\n",
    "        \"comments\": \"Second info, some issues.\",\n",
    "        \"info_name\": \"Jane Smith\"\n",
    "    },\n",
    "        {\n",
    "        \"info_date\": datetime.now().isoformat(),\n",
    "        \"response\": \"A\",\n",
    "        \"comments\": \"Second info, some issues.\",\n",
    "        \"info_name\": \"Smith\"\n",
    "    },\n",
    "    {\n",
    "        \"info_date\": datetime.now().isoformat(),\n",
    "        \"response\": \"B\",\n",
    "        \"comments\": \"Second info, some issues.\",\n",
    "        \"info_name\": \"Jenith\"\n",
    "    }\n",
    "]\n",
    "\n",
    "add_info_details(base_url, ir_id, info_list)"
   ]
  },
  {
   "cell_type": "code",
   "execution_count": 74,
   "id": "9b791716",
   "metadata": {},
   "outputs": [
    {
     "name": "stdout",
     "output_type": "stream",
     "text": [
      "Result: [{'info_date': '2025-09-09T01:40:36.705390', 'id': 48, 'comments': 'First info went well.', 'response': 'A', 'ir_id': 'IM7216', 'info_name': 'John Doe'}, {'info_date': '2025-09-09T01:40:36.705418', 'id': 49, 'comments': 'Second info, some issues.', 'response': 'B', 'ir_id': 'IM7216', 'info_name': 'Jane Smith'}, {'info_date': '2025-09-09T01:40:36.705420', 'id': 50, 'comments': 'Second info, some issues.', 'response': 'A', 'ir_id': 'IM7216', 'info_name': 'Smith'}, {'info_date': '2025-09-09T01:40:36.705421', 'id': 51, 'comments': 'Second info, some issues.', 'response': 'B', 'ir_id': 'IM7216', 'info_name': 'Jenith'}]\n"
     ]
    }
   ],
   "source": [
    "def getAllInfoData(ir_id):\n",
    "    path = f\"/api/info_details/{ir_id}\"\n",
    "    end_point = f\"{base_url}{path}\"\n",
    "    try:\n",
    "        response = requests.get(end_point, timeout=10)\n",
    "        response.raise_for_status()\n",
    "        try:\n",
    "            print(\"Result:\", response.json())\n",
    "        except ValueError:\n",
    "            print(\"Result (non-JSON):\", response.text)\n",
    "    except requests.exceptions.HTTPError as http_err:\n",
    "        try:\n",
    "            print(f\"HTTP error occurred: {http_err} - {response.json()}\")\n",
    "        except Exception:\n",
    "            print(f\"HTTP error occurred: {http_err} - {response.text}\")\n",
    "    except requests.exceptions.ConnectionError as conn_err:\n",
    "        print(f\"Connection error occurred: {conn_err}\")\n",
    "    except requests.exceptions.Timeout as timeout_err:\n",
    "        print(f\"Timeout error occurred: {timeout_err}\")\n",
    "    except requests.exceptions.RequestException as req_err:\n",
    "        print(f\"An error occurred: {req_err}\")\n",
    "\n",
    "getAllInfoData(\"IM7216\")"
   ]
  },
  {
   "cell_type": "code",
   "execution_count": 75,
   "id": "c9f50751",
   "metadata": {},
   "outputs": [
    {
     "name": "stdout",
     "output_type": "stream",
     "text": [
      "Success: [{'info_date': '2025-09-09T01:40:36.705390', 'id': 48, 'comments': 'First info went well.', 'response': 'A', 'ir_id': 'IM7216', 'info_name': 'John Doe'}, {'info_date': '2025-09-09T01:40:36.705418', 'id': 49, 'comments': 'Second info, some issues.', 'response': 'B', 'ir_id': 'IM7216', 'info_name': 'Jane Smith'}, {'info_date': '2025-09-09T01:40:36.705420', 'id': 50, 'comments': 'Second info, some issues.', 'response': 'A', 'ir_id': 'IM7216', 'info_name': 'Smith'}, {'info_date': '2025-09-09T01:40:36.705421', 'id': 51, 'comments': 'Second info, some issues.', 'response': 'B', 'ir_id': 'IM7216', 'info_name': 'Jenith'}]\n"
     ]
    },
    {
     "data": {
      "text/plain": [
       "[{'info_date': '2025-09-09T01:40:36.705390',\n",
       "  'id': 48,\n",
       "  'comments': 'First info went well.',\n",
       "  'response': 'A',\n",
       "  'ir_id': 'IM7216',\n",
       "  'info_name': 'John Doe'},\n",
       " {'info_date': '2025-09-09T01:40:36.705418',\n",
       "  'id': 49,\n",
       "  'comments': 'Second info, some issues.',\n",
       "  'response': 'B',\n",
       "  'ir_id': 'IM7216',\n",
       "  'info_name': 'Jane Smith'},\n",
       " {'info_date': '2025-09-09T01:40:36.705420',\n",
       "  'id': 50,\n",
       "  'comments': 'Second info, some issues.',\n",
       "  'response': 'A',\n",
       "  'ir_id': 'IM7216',\n",
       "  'info_name': 'Smith'},\n",
       " {'info_date': '2025-09-09T01:40:36.705421',\n",
       "  'id': 51,\n",
       "  'comments': 'Second info, some issues.',\n",
       "  'response': 'B',\n",
       "  'ir_id': 'IM7216',\n",
       "  'info_name': 'Jenith'}]"
      ]
     },
     "execution_count": 75,
     "metadata": {},
     "output_type": "execute_result"
    }
   ],
   "source": [
    "def get_info_details(base_url, ir_id, from_date=None, to_date=None):\n",
    "    url = f\"{base_url}/api/info_details/{ir_id}\"\n",
    "    params = {}\n",
    "    if from_date:\n",
    "        params[\"from_date\"] = from_date\n",
    "    if to_date:\n",
    "        params[\"to_date\"] = to_date\n",
    "\n",
    "    try:\n",
    "        response = requests.get(url, params=params, timeout=10)\n",
    "        response.raise_for_status()\n",
    "        print(\"Success:\", response.json())\n",
    "        return response.json()\n",
    "    except requests.exceptions.HTTPError as http_err:\n",
    "        try:\n",
    "            print(f\"HTTP error occurred: {http_err} - {response.json()}\")\n",
    "        except Exception:\n",
    "            print(f\"HTTP error occurred: {http_err} - {response.text}\")\n",
    "    except requests.exceptions.ConnectionError as conn_err:\n",
    "        print(f\"Connection error occurred: {conn_err}\")\n",
    "    except requests.exceptions.Timeout as timeout_err:\n",
    "        print(f\"Timeout error occurred: {timeout_err}\")\n",
    "    except requests.exceptions.RequestException as req_err:\n",
    "        print(f\"An error occurred: {req_err}\")\n",
    "\n",
    "# Example usage:\n",
    "ir_id = \"IM7216\"\n",
    "get_info_details(base_url, ir_id)  # Optionally add from_date, to_date"
   ]
  },
  {
   "cell_type": "code",
   "execution_count": null,
   "id": "18f602fe",
   "metadata": {},
   "outputs": [],
   "source": [
    "def update_ir_info_data(info_id):\n",
    "    path = f\"/api/update_info_detail/{info_id}\"\n",
    "    end_point = f\"{base_url}{path}\"\n",
    "    payload = {\"info_name\":\"Snehith\",\"comments\":\"Updated via script\",\"response\":\"A\"}\n",
    "    headers = {\"Content-Type\": \"application/json\"}\n",
    "\n",
    "    try:\n",
    "        response = requests.put(end_point, json=payload, headers=headers)\n",
    "        response.raise_for_status()\n",
    "        print(\"Success:\", response.json())\n",
    "        return response.json()\n",
    "    except requests.exceptions.HTTPError as http_err:\n",
    "        print(f\"HTTP error occurred: {http_err} - {response.text}\")\n",
    "    except requests.exceptions.ConnectionError as conn_err:\n",
    "        print(f\"Connection error occurred: {conn_err}\")\n",
    "    except requests.exceptions.Timeout as timeout_err:\n",
    "        print(f\"Timeout error occurred: {timeout_err}\")\n",
    "    except requests.exceptions.RequestException as req_err:\n",
    "        print(f\"An error occurred: {req_err}\")\n",
    "\n",
    "update_ir_info_data(3)"
   ]
  },
  {
   "cell_type": "code",
   "execution_count": null,
   "id": "7520f194",
   "metadata": {},
   "outputs": [],
   "source": [
    "def delete_info(info_id):\n",
    "    path =f\"/api/delete_info_detail/{info_id}\"\n",
    "    end_point = f\"{base_url}{path}\"\n",
    "    try:\n",
    "        response = requests.delete(end_point, timeout=10)\n",
    "        response.raise_for_status()\n",
    "        print(\"Success:\", response.json())\n",
    "        return response.json()\n",
    "    except Exception as e:\n",
    "        print(f\"An error occurred: {e}\")\n",
    "\n",
    "delete_info(3)"
   ]
  }
 ],
 "metadata": {
  "kernelspec": {
   "display_name": "Python 3",
   "language": "python",
   "name": "python3"
  },
  "language_info": {
   "codemirror_mode": {
    "name": "ipython",
    "version": 3
   },
   "file_extension": ".py",
   "mimetype": "text/x-python",
   "name": "python",
   "nbconvert_exporter": "python",
   "pygments_lexer": "ipython3",
   "version": "3.9.6"
  }
 },
 "nbformat": 4,
 "nbformat_minor": 5
}
