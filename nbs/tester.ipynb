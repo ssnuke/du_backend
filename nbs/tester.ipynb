{
 "cells": [
  {
   "cell_type": "code",
   "execution_count": 20,
   "metadata": {},
   "outputs": [],
   "source": [
    "import requests,json\n",
    "#base_url = \"http://localhost:8002\"\n",
    "base_url = \"https://du-backend-t437.onrender.com/\""
   ]
  },
  {
   "cell_type": "code",
   "execution_count": 7,
   "metadata": {},
   "outputs": [
    {
     "name": "stdout",
     "output_type": "stream",
     "text": [
      "<bound method Response.json of <Response [405]>>\n",
      "<bound method Response.json of <Response [404]>>\n"
     ]
    }
   ],
   "source": [
    "\n",
    "def getIRId():\n",
    "    path = \"/api/1\"\n",
    "    end_point= f\"{base_url}{path}\"\n",
    "    response = requests.get(end_point)\n",
    "    if response.ok:\n",
    "        print(response.json())\n",
    "    else:\n",
    "        print(response.json)\n",
    "\n",
    "getIRId()\n",
    "\n",
    "def getAllIds():\n",
    "    path = \"/api/\"\n",
    "    end_point= f\"{base_url}{path}\"\n",
    "    response = requests.get(end_point)\n",
    "    if response.ok:\n",
    "        print(response.json())\n",
    "    else:\n",
    "        print(response.json)\n",
    "\n",
    "getAllIds()\n"
   ]
  },
  {
   "cell_type": "code",
   "execution_count": null,
   "metadata": {},
   "outputs": [],
   "source": [
    "import requests\n",
    "import json\n",
    "\n",
    "def createIr():  # Make sure this is defined\n",
    "    path = \"/api/add_ir_id\"\n",
    "    end_point = f\"{base_url}{path}\"\n",
    "    payload = {\"ir_id\": \"IM8128\"}\n",
    "\n",
    "    try:\n",
    "        response = requests.post(end_point, json=payload, timeout=10)\n",
    "        response.raise_for_status()\n",
    "        print(response.json())\n",
    "    except requests.exceptions.Timeout:\n",
    "        print(\"Request timed out.\")\n",
    "    except requests.exceptions.ConnectionError:\n",
    "        print(\"Failed to connect to the server.\")\n",
    "    except requests.exceptions.HTTPError as err:\n",
    "        print(f\"HTTP error occurred: {err.response.text}\")\n",
    "    except Exception as e:\n",
    "        print(f\"An error occurred: {e}\")\n",
    "\n",
    "createIr()\n"
   ]
  },
  {
   "cell_type": "code",
   "execution_count": 22,
   "metadata": {},
   "outputs": [
    {
     "ename": "KeyboardInterrupt",
     "evalue": "",
     "output_type": "error",
     "traceback": [
      "\u001b[0;31m---------------------------------------------------------------------------\u001b[0m",
      "\u001b[0;31mKeyboardInterrupt\u001b[0m                         Traceback (most recent call last)",
      "Cell \u001b[0;32mIn[22], line 10\u001b[0m\n\u001b[1;32m      7\u001b[0m     \u001b[38;5;28;01melse\u001b[39;00m:\n\u001b[1;32m      8\u001b[0m         \u001b[38;5;28mprint\u001b[39m(\u001b[38;5;124m\"\u001b[39m\u001b[38;5;124mRes Error \u001b[39m\u001b[38;5;124m\"\u001b[39m, response\u001b[38;5;241m.\u001b[39mjson())\n\u001b[0;32m---> 10\u001b[0m \u001b[43mgetAllIr\u001b[49m\u001b[43m(\u001b[49m\u001b[43m)\u001b[49m\n",
      "Cell \u001b[0;32mIn[22], line 4\u001b[0m, in \u001b[0;36mgetAllIr\u001b[0;34m()\u001b[0m\n\u001b[1;32m      2\u001b[0m path \u001b[38;5;241m=\u001b[39m \u001b[38;5;124m\"\u001b[39m\u001b[38;5;124m/api/get_all_ir\u001b[39m\u001b[38;5;124m\"\u001b[39m\n\u001b[1;32m      3\u001b[0m end_point\u001b[38;5;241m=\u001b[39m \u001b[38;5;124mf\u001b[39m\u001b[38;5;124m\"\u001b[39m\u001b[38;5;132;01m{\u001b[39;00mbase_url\u001b[38;5;132;01m}\u001b[39;00m\u001b[38;5;132;01m{\u001b[39;00mpath\u001b[38;5;132;01m}\u001b[39;00m\u001b[38;5;124m\"\u001b[39m\n\u001b[0;32m----> 4\u001b[0m response \u001b[38;5;241m=\u001b[39m \u001b[43mrequests\u001b[49m\u001b[38;5;241;43m.\u001b[39;49m\u001b[43mget\u001b[49m\u001b[43m(\u001b[49m\u001b[43mend_point\u001b[49m\u001b[43m)\u001b[49m\n\u001b[1;32m      5\u001b[0m \u001b[38;5;28;01mif\u001b[39;00m response\u001b[38;5;241m.\u001b[39mok:\n\u001b[1;32m      6\u001b[0m     \u001b[38;5;28mprint\u001b[39m(response\u001b[38;5;241m.\u001b[39mjson())\n",
      "File \u001b[0;32m~/PycharmProjects/du_backend/.venv/lib/python3.9/site-packages/requests/api.py:73\u001b[0m, in \u001b[0;36mget\u001b[0;34m(url, params, **kwargs)\u001b[0m\n\u001b[1;32m     62\u001b[0m \u001b[38;5;28;01mdef\u001b[39;00m\u001b[38;5;250m \u001b[39m\u001b[38;5;21mget\u001b[39m(url, params\u001b[38;5;241m=\u001b[39m\u001b[38;5;28;01mNone\u001b[39;00m, \u001b[38;5;241m*\u001b[39m\u001b[38;5;241m*\u001b[39mkwargs):\n\u001b[1;32m     63\u001b[0m \u001b[38;5;250m    \u001b[39m\u001b[38;5;124mr\u001b[39m\u001b[38;5;124;03m\"\"\"Sends a GET request.\u001b[39;00m\n\u001b[1;32m     64\u001b[0m \n\u001b[1;32m     65\u001b[0m \u001b[38;5;124;03m    :param url: URL for the new :class:`Request` object.\u001b[39;00m\n\u001b[0;32m   (...)\u001b[0m\n\u001b[1;32m     70\u001b[0m \u001b[38;5;124;03m    :rtype: requests.Response\u001b[39;00m\n\u001b[1;32m     71\u001b[0m \u001b[38;5;124;03m    \"\"\"\u001b[39;00m\n\u001b[0;32m---> 73\u001b[0m     \u001b[38;5;28;01mreturn\u001b[39;00m \u001b[43mrequest\u001b[49m\u001b[43m(\u001b[49m\u001b[38;5;124;43m\"\u001b[39;49m\u001b[38;5;124;43mget\u001b[39;49m\u001b[38;5;124;43m\"\u001b[39;49m\u001b[43m,\u001b[49m\u001b[43m \u001b[49m\u001b[43murl\u001b[49m\u001b[43m,\u001b[49m\u001b[43m \u001b[49m\u001b[43mparams\u001b[49m\u001b[38;5;241;43m=\u001b[39;49m\u001b[43mparams\u001b[49m\u001b[43m,\u001b[49m\u001b[43m \u001b[49m\u001b[38;5;241;43m*\u001b[39;49m\u001b[38;5;241;43m*\u001b[39;49m\u001b[43mkwargs\u001b[49m\u001b[43m)\u001b[49m\n",
      "File \u001b[0;32m~/PycharmProjects/du_backend/.venv/lib/python3.9/site-packages/requests/api.py:59\u001b[0m, in \u001b[0;36mrequest\u001b[0;34m(method, url, **kwargs)\u001b[0m\n\u001b[1;32m     55\u001b[0m \u001b[38;5;66;03m# By using the 'with' statement we are sure the session is closed, thus we\u001b[39;00m\n\u001b[1;32m     56\u001b[0m \u001b[38;5;66;03m# avoid leaving sockets open which can trigger a ResourceWarning in some\u001b[39;00m\n\u001b[1;32m     57\u001b[0m \u001b[38;5;66;03m# cases, and look like a memory leak in others.\u001b[39;00m\n\u001b[1;32m     58\u001b[0m \u001b[38;5;28;01mwith\u001b[39;00m sessions\u001b[38;5;241m.\u001b[39mSession() \u001b[38;5;28;01mas\u001b[39;00m session:\n\u001b[0;32m---> 59\u001b[0m     \u001b[38;5;28;01mreturn\u001b[39;00m \u001b[43msession\u001b[49m\u001b[38;5;241;43m.\u001b[39;49m\u001b[43mrequest\u001b[49m\u001b[43m(\u001b[49m\u001b[43mmethod\u001b[49m\u001b[38;5;241;43m=\u001b[39;49m\u001b[43mmethod\u001b[49m\u001b[43m,\u001b[49m\u001b[43m \u001b[49m\u001b[43murl\u001b[49m\u001b[38;5;241;43m=\u001b[39;49m\u001b[43murl\u001b[49m\u001b[43m,\u001b[49m\u001b[43m \u001b[49m\u001b[38;5;241;43m*\u001b[39;49m\u001b[38;5;241;43m*\u001b[39;49m\u001b[43mkwargs\u001b[49m\u001b[43m)\u001b[49m\n",
      "File \u001b[0;32m~/PycharmProjects/du_backend/.venv/lib/python3.9/site-packages/requests/sessions.py:589\u001b[0m, in \u001b[0;36mSession.request\u001b[0;34m(self, method, url, params, data, headers, cookies, files, auth, timeout, allow_redirects, proxies, hooks, stream, verify, cert, json)\u001b[0m\n\u001b[1;32m    584\u001b[0m send_kwargs \u001b[38;5;241m=\u001b[39m {\n\u001b[1;32m    585\u001b[0m     \u001b[38;5;124m\"\u001b[39m\u001b[38;5;124mtimeout\u001b[39m\u001b[38;5;124m\"\u001b[39m: timeout,\n\u001b[1;32m    586\u001b[0m     \u001b[38;5;124m\"\u001b[39m\u001b[38;5;124mallow_redirects\u001b[39m\u001b[38;5;124m\"\u001b[39m: allow_redirects,\n\u001b[1;32m    587\u001b[0m }\n\u001b[1;32m    588\u001b[0m send_kwargs\u001b[38;5;241m.\u001b[39mupdate(settings)\n\u001b[0;32m--> 589\u001b[0m resp \u001b[38;5;241m=\u001b[39m \u001b[38;5;28;43mself\u001b[39;49m\u001b[38;5;241;43m.\u001b[39;49m\u001b[43msend\u001b[49m\u001b[43m(\u001b[49m\u001b[43mprep\u001b[49m\u001b[43m,\u001b[49m\u001b[43m \u001b[49m\u001b[38;5;241;43m*\u001b[39;49m\u001b[38;5;241;43m*\u001b[39;49m\u001b[43msend_kwargs\u001b[49m\u001b[43m)\u001b[49m\n\u001b[1;32m    591\u001b[0m \u001b[38;5;28;01mreturn\u001b[39;00m resp\n",
      "File \u001b[0;32m~/PycharmProjects/du_backend/.venv/lib/python3.9/site-packages/requests/sessions.py:703\u001b[0m, in \u001b[0;36mSession.send\u001b[0;34m(self, request, **kwargs)\u001b[0m\n\u001b[1;32m    700\u001b[0m start \u001b[38;5;241m=\u001b[39m preferred_clock()\n\u001b[1;32m    702\u001b[0m \u001b[38;5;66;03m# Send the request\u001b[39;00m\n\u001b[0;32m--> 703\u001b[0m r \u001b[38;5;241m=\u001b[39m \u001b[43madapter\u001b[49m\u001b[38;5;241;43m.\u001b[39;49m\u001b[43msend\u001b[49m\u001b[43m(\u001b[49m\u001b[43mrequest\u001b[49m\u001b[43m,\u001b[49m\u001b[43m \u001b[49m\u001b[38;5;241;43m*\u001b[39;49m\u001b[38;5;241;43m*\u001b[39;49m\u001b[43mkwargs\u001b[49m\u001b[43m)\u001b[49m\n\u001b[1;32m    705\u001b[0m \u001b[38;5;66;03m# Total elapsed time of the request (approximately)\u001b[39;00m\n\u001b[1;32m    706\u001b[0m elapsed \u001b[38;5;241m=\u001b[39m preferred_clock() \u001b[38;5;241m-\u001b[39m start\n",
      "File \u001b[0;32m~/PycharmProjects/du_backend/.venv/lib/python3.9/site-packages/requests/adapters.py:667\u001b[0m, in \u001b[0;36mHTTPAdapter.send\u001b[0;34m(self, request, stream, timeout, verify, cert, proxies)\u001b[0m\n\u001b[1;32m    664\u001b[0m     timeout \u001b[38;5;241m=\u001b[39m TimeoutSauce(connect\u001b[38;5;241m=\u001b[39mtimeout, read\u001b[38;5;241m=\u001b[39mtimeout)\n\u001b[1;32m    666\u001b[0m \u001b[38;5;28;01mtry\u001b[39;00m:\n\u001b[0;32m--> 667\u001b[0m     resp \u001b[38;5;241m=\u001b[39m \u001b[43mconn\u001b[49m\u001b[38;5;241;43m.\u001b[39;49m\u001b[43murlopen\u001b[49m\u001b[43m(\u001b[49m\n\u001b[1;32m    668\u001b[0m \u001b[43m        \u001b[49m\u001b[43mmethod\u001b[49m\u001b[38;5;241;43m=\u001b[39;49m\u001b[43mrequest\u001b[49m\u001b[38;5;241;43m.\u001b[39;49m\u001b[43mmethod\u001b[49m\u001b[43m,\u001b[49m\n\u001b[1;32m    669\u001b[0m \u001b[43m        \u001b[49m\u001b[43murl\u001b[49m\u001b[38;5;241;43m=\u001b[39;49m\u001b[43murl\u001b[49m\u001b[43m,\u001b[49m\n\u001b[1;32m    670\u001b[0m \u001b[43m        \u001b[49m\u001b[43mbody\u001b[49m\u001b[38;5;241;43m=\u001b[39;49m\u001b[43mrequest\u001b[49m\u001b[38;5;241;43m.\u001b[39;49m\u001b[43mbody\u001b[49m\u001b[43m,\u001b[49m\n\u001b[1;32m    671\u001b[0m \u001b[43m        \u001b[49m\u001b[43mheaders\u001b[49m\u001b[38;5;241;43m=\u001b[39;49m\u001b[43mrequest\u001b[49m\u001b[38;5;241;43m.\u001b[39;49m\u001b[43mheaders\u001b[49m\u001b[43m,\u001b[49m\n\u001b[1;32m    672\u001b[0m \u001b[43m        \u001b[49m\u001b[43mredirect\u001b[49m\u001b[38;5;241;43m=\u001b[39;49m\u001b[38;5;28;43;01mFalse\u001b[39;49;00m\u001b[43m,\u001b[49m\n\u001b[1;32m    673\u001b[0m \u001b[43m        \u001b[49m\u001b[43massert_same_host\u001b[49m\u001b[38;5;241;43m=\u001b[39;49m\u001b[38;5;28;43;01mFalse\u001b[39;49;00m\u001b[43m,\u001b[49m\n\u001b[1;32m    674\u001b[0m \u001b[43m        \u001b[49m\u001b[43mpreload_content\u001b[49m\u001b[38;5;241;43m=\u001b[39;49m\u001b[38;5;28;43;01mFalse\u001b[39;49;00m\u001b[43m,\u001b[49m\n\u001b[1;32m    675\u001b[0m \u001b[43m        \u001b[49m\u001b[43mdecode_content\u001b[49m\u001b[38;5;241;43m=\u001b[39;49m\u001b[38;5;28;43;01mFalse\u001b[39;49;00m\u001b[43m,\u001b[49m\n\u001b[1;32m    676\u001b[0m \u001b[43m        \u001b[49m\u001b[43mretries\u001b[49m\u001b[38;5;241;43m=\u001b[39;49m\u001b[38;5;28;43mself\u001b[39;49m\u001b[38;5;241;43m.\u001b[39;49m\u001b[43mmax_retries\u001b[49m\u001b[43m,\u001b[49m\n\u001b[1;32m    677\u001b[0m \u001b[43m        \u001b[49m\u001b[43mtimeout\u001b[49m\u001b[38;5;241;43m=\u001b[39;49m\u001b[43mtimeout\u001b[49m\u001b[43m,\u001b[49m\n\u001b[1;32m    678\u001b[0m \u001b[43m        \u001b[49m\u001b[43mchunked\u001b[49m\u001b[38;5;241;43m=\u001b[39;49m\u001b[43mchunked\u001b[49m\u001b[43m,\u001b[49m\n\u001b[1;32m    679\u001b[0m \u001b[43m    \u001b[49m\u001b[43m)\u001b[49m\n\u001b[1;32m    681\u001b[0m \u001b[38;5;28;01mexcept\u001b[39;00m (ProtocolError, \u001b[38;5;167;01mOSError\u001b[39;00m) \u001b[38;5;28;01mas\u001b[39;00m err:\n\u001b[1;32m    682\u001b[0m     \u001b[38;5;28;01mraise\u001b[39;00m \u001b[38;5;167;01mConnectionError\u001b[39;00m(err, request\u001b[38;5;241m=\u001b[39mrequest)\n",
      "File \u001b[0;32m~/PycharmProjects/du_backend/.venv/lib/python3.9/site-packages/urllib3/connectionpool.py:787\u001b[0m, in \u001b[0;36mHTTPConnectionPool.urlopen\u001b[0;34m(self, method, url, body, headers, retries, redirect, assert_same_host, timeout, pool_timeout, release_conn, chunked, body_pos, preload_content, decode_content, **response_kw)\u001b[0m\n\u001b[1;32m    784\u001b[0m response_conn \u001b[38;5;241m=\u001b[39m conn \u001b[38;5;28;01mif\u001b[39;00m \u001b[38;5;129;01mnot\u001b[39;00m release_conn \u001b[38;5;28;01melse\u001b[39;00m \u001b[38;5;28;01mNone\u001b[39;00m\n\u001b[1;32m    786\u001b[0m \u001b[38;5;66;03m# Make the request on the HTTPConnection object\u001b[39;00m\n\u001b[0;32m--> 787\u001b[0m response \u001b[38;5;241m=\u001b[39m \u001b[38;5;28;43mself\u001b[39;49m\u001b[38;5;241;43m.\u001b[39;49m\u001b[43m_make_request\u001b[49m\u001b[43m(\u001b[49m\n\u001b[1;32m    788\u001b[0m \u001b[43m    \u001b[49m\u001b[43mconn\u001b[49m\u001b[43m,\u001b[49m\n\u001b[1;32m    789\u001b[0m \u001b[43m    \u001b[49m\u001b[43mmethod\u001b[49m\u001b[43m,\u001b[49m\n\u001b[1;32m    790\u001b[0m \u001b[43m    \u001b[49m\u001b[43murl\u001b[49m\u001b[43m,\u001b[49m\n\u001b[1;32m    791\u001b[0m \u001b[43m    \u001b[49m\u001b[43mtimeout\u001b[49m\u001b[38;5;241;43m=\u001b[39;49m\u001b[43mtimeout_obj\u001b[49m\u001b[43m,\u001b[49m\n\u001b[1;32m    792\u001b[0m \u001b[43m    \u001b[49m\u001b[43mbody\u001b[49m\u001b[38;5;241;43m=\u001b[39;49m\u001b[43mbody\u001b[49m\u001b[43m,\u001b[49m\n\u001b[1;32m    793\u001b[0m \u001b[43m    \u001b[49m\u001b[43mheaders\u001b[49m\u001b[38;5;241;43m=\u001b[39;49m\u001b[43mheaders\u001b[49m\u001b[43m,\u001b[49m\n\u001b[1;32m    794\u001b[0m \u001b[43m    \u001b[49m\u001b[43mchunked\u001b[49m\u001b[38;5;241;43m=\u001b[39;49m\u001b[43mchunked\u001b[49m\u001b[43m,\u001b[49m\n\u001b[1;32m    795\u001b[0m \u001b[43m    \u001b[49m\u001b[43mretries\u001b[49m\u001b[38;5;241;43m=\u001b[39;49m\u001b[43mretries\u001b[49m\u001b[43m,\u001b[49m\n\u001b[1;32m    796\u001b[0m \u001b[43m    \u001b[49m\u001b[43mresponse_conn\u001b[49m\u001b[38;5;241;43m=\u001b[39;49m\u001b[43mresponse_conn\u001b[49m\u001b[43m,\u001b[49m\n\u001b[1;32m    797\u001b[0m \u001b[43m    \u001b[49m\u001b[43mpreload_content\u001b[49m\u001b[38;5;241;43m=\u001b[39;49m\u001b[43mpreload_content\u001b[49m\u001b[43m,\u001b[49m\n\u001b[1;32m    798\u001b[0m \u001b[43m    \u001b[49m\u001b[43mdecode_content\u001b[49m\u001b[38;5;241;43m=\u001b[39;49m\u001b[43mdecode_content\u001b[49m\u001b[43m,\u001b[49m\n\u001b[1;32m    799\u001b[0m \u001b[43m    \u001b[49m\u001b[38;5;241;43m*\u001b[39;49m\u001b[38;5;241;43m*\u001b[39;49m\u001b[43mresponse_kw\u001b[49m\u001b[43m,\u001b[49m\n\u001b[1;32m    800\u001b[0m \u001b[43m\u001b[49m\u001b[43m)\u001b[49m\n\u001b[1;32m    802\u001b[0m \u001b[38;5;66;03m# Everything went great!\u001b[39;00m\n\u001b[1;32m    803\u001b[0m clean_exit \u001b[38;5;241m=\u001b[39m \u001b[38;5;28;01mTrue\u001b[39;00m\n",
      "File \u001b[0;32m~/PycharmProjects/du_backend/.venv/lib/python3.9/site-packages/urllib3/connectionpool.py:534\u001b[0m, in \u001b[0;36mHTTPConnectionPool._make_request\u001b[0;34m(self, conn, method, url, body, headers, retries, timeout, chunked, response_conn, preload_content, decode_content, enforce_content_length)\u001b[0m\n\u001b[1;32m    532\u001b[0m \u001b[38;5;66;03m# Receive the response from the server\u001b[39;00m\n\u001b[1;32m    533\u001b[0m \u001b[38;5;28;01mtry\u001b[39;00m:\n\u001b[0;32m--> 534\u001b[0m     response \u001b[38;5;241m=\u001b[39m \u001b[43mconn\u001b[49m\u001b[38;5;241;43m.\u001b[39;49m\u001b[43mgetresponse\u001b[49m\u001b[43m(\u001b[49m\u001b[43m)\u001b[49m\n\u001b[1;32m    535\u001b[0m \u001b[38;5;28;01mexcept\u001b[39;00m (BaseSSLError, \u001b[38;5;167;01mOSError\u001b[39;00m) \u001b[38;5;28;01mas\u001b[39;00m e:\n\u001b[1;32m    536\u001b[0m     \u001b[38;5;28mself\u001b[39m\u001b[38;5;241m.\u001b[39m_raise_timeout(err\u001b[38;5;241m=\u001b[39me, url\u001b[38;5;241m=\u001b[39murl, timeout_value\u001b[38;5;241m=\u001b[39mread_timeout)\n",
      "File \u001b[0;32m~/PycharmProjects/du_backend/.venv/lib/python3.9/site-packages/urllib3/connection.py:565\u001b[0m, in \u001b[0;36mHTTPConnection.getresponse\u001b[0;34m(self)\u001b[0m\n\u001b[1;32m    562\u001b[0m _shutdown \u001b[38;5;241m=\u001b[39m \u001b[38;5;28mgetattr\u001b[39m(\u001b[38;5;28mself\u001b[39m\u001b[38;5;241m.\u001b[39msock, \u001b[38;5;124m\"\u001b[39m\u001b[38;5;124mshutdown\u001b[39m\u001b[38;5;124m\"\u001b[39m, \u001b[38;5;28;01mNone\u001b[39;00m)\n\u001b[1;32m    564\u001b[0m \u001b[38;5;66;03m# Get the response from http.client.HTTPConnection\u001b[39;00m\n\u001b[0;32m--> 565\u001b[0m httplib_response \u001b[38;5;241m=\u001b[39m \u001b[38;5;28;43msuper\u001b[39;49m\u001b[43m(\u001b[49m\u001b[43m)\u001b[49m\u001b[38;5;241;43m.\u001b[39;49m\u001b[43mgetresponse\u001b[49m\u001b[43m(\u001b[49m\u001b[43m)\u001b[49m\n\u001b[1;32m    567\u001b[0m \u001b[38;5;28;01mtry\u001b[39;00m:\n\u001b[1;32m    568\u001b[0m     assert_header_parsing(httplib_response\u001b[38;5;241m.\u001b[39mmsg)\n",
      "File \u001b[0;32m/Library/Developer/CommandLineTools/Library/Frameworks/Python3.framework/Versions/3.9/lib/python3.9/http/client.py:1349\u001b[0m, in \u001b[0;36mHTTPConnection.getresponse\u001b[0;34m(self)\u001b[0m\n\u001b[1;32m   1347\u001b[0m \u001b[38;5;28;01mtry\u001b[39;00m:\n\u001b[1;32m   1348\u001b[0m     \u001b[38;5;28;01mtry\u001b[39;00m:\n\u001b[0;32m-> 1349\u001b[0m         \u001b[43mresponse\u001b[49m\u001b[38;5;241;43m.\u001b[39;49m\u001b[43mbegin\u001b[49m\u001b[43m(\u001b[49m\u001b[43m)\u001b[49m\n\u001b[1;32m   1350\u001b[0m     \u001b[38;5;28;01mexcept\u001b[39;00m \u001b[38;5;167;01mConnectionError\u001b[39;00m:\n\u001b[1;32m   1351\u001b[0m         \u001b[38;5;28mself\u001b[39m\u001b[38;5;241m.\u001b[39mclose()\n",
      "File \u001b[0;32m/Library/Developer/CommandLineTools/Library/Frameworks/Python3.framework/Versions/3.9/lib/python3.9/http/client.py:316\u001b[0m, in \u001b[0;36mHTTPResponse.begin\u001b[0;34m(self)\u001b[0m\n\u001b[1;32m    314\u001b[0m \u001b[38;5;66;03m# read until we get a non-100 response\u001b[39;00m\n\u001b[1;32m    315\u001b[0m \u001b[38;5;28;01mwhile\u001b[39;00m \u001b[38;5;28;01mTrue\u001b[39;00m:\n\u001b[0;32m--> 316\u001b[0m     version, status, reason \u001b[38;5;241m=\u001b[39m \u001b[38;5;28;43mself\u001b[39;49m\u001b[38;5;241;43m.\u001b[39;49m\u001b[43m_read_status\u001b[49m\u001b[43m(\u001b[49m\u001b[43m)\u001b[49m\n\u001b[1;32m    317\u001b[0m     \u001b[38;5;28;01mif\u001b[39;00m status \u001b[38;5;241m!=\u001b[39m CONTINUE:\n\u001b[1;32m    318\u001b[0m         \u001b[38;5;28;01mbreak\u001b[39;00m\n",
      "File \u001b[0;32m/Library/Developer/CommandLineTools/Library/Frameworks/Python3.framework/Versions/3.9/lib/python3.9/http/client.py:277\u001b[0m, in \u001b[0;36mHTTPResponse._read_status\u001b[0;34m(self)\u001b[0m\n\u001b[1;32m    276\u001b[0m \u001b[38;5;28;01mdef\u001b[39;00m\u001b[38;5;250m \u001b[39m\u001b[38;5;21m_read_status\u001b[39m(\u001b[38;5;28mself\u001b[39m):\n\u001b[0;32m--> 277\u001b[0m     line \u001b[38;5;241m=\u001b[39m \u001b[38;5;28mstr\u001b[39m(\u001b[38;5;28;43mself\u001b[39;49m\u001b[38;5;241;43m.\u001b[39;49m\u001b[43mfp\u001b[49m\u001b[38;5;241;43m.\u001b[39;49m\u001b[43mreadline\u001b[49m\u001b[43m(\u001b[49m\u001b[43m_MAXLINE\u001b[49m\u001b[43m \u001b[49m\u001b[38;5;241;43m+\u001b[39;49m\u001b[43m \u001b[49m\u001b[38;5;241;43m1\u001b[39;49m\u001b[43m)\u001b[49m, \u001b[38;5;124m\"\u001b[39m\u001b[38;5;124miso-8859-1\u001b[39m\u001b[38;5;124m\"\u001b[39m)\n\u001b[1;32m    278\u001b[0m     \u001b[38;5;28;01mif\u001b[39;00m \u001b[38;5;28mlen\u001b[39m(line) \u001b[38;5;241m>\u001b[39m _MAXLINE:\n\u001b[1;32m    279\u001b[0m         \u001b[38;5;28;01mraise\u001b[39;00m LineTooLong(\u001b[38;5;124m\"\u001b[39m\u001b[38;5;124mstatus line\u001b[39m\u001b[38;5;124m\"\u001b[39m)\n",
      "File \u001b[0;32m/Library/Developer/CommandLineTools/Library/Frameworks/Python3.framework/Versions/3.9/lib/python3.9/socket.py:704\u001b[0m, in \u001b[0;36mSocketIO.readinto\u001b[0;34m(self, b)\u001b[0m\n\u001b[1;32m    702\u001b[0m \u001b[38;5;28;01mwhile\u001b[39;00m \u001b[38;5;28;01mTrue\u001b[39;00m:\n\u001b[1;32m    703\u001b[0m     \u001b[38;5;28;01mtry\u001b[39;00m:\n\u001b[0;32m--> 704\u001b[0m         \u001b[38;5;28;01mreturn\u001b[39;00m \u001b[38;5;28;43mself\u001b[39;49m\u001b[38;5;241;43m.\u001b[39;49m\u001b[43m_sock\u001b[49m\u001b[38;5;241;43m.\u001b[39;49m\u001b[43mrecv_into\u001b[49m\u001b[43m(\u001b[49m\u001b[43mb\u001b[49m\u001b[43m)\u001b[49m\n\u001b[1;32m    705\u001b[0m     \u001b[38;5;28;01mexcept\u001b[39;00m timeout:\n\u001b[1;32m    706\u001b[0m         \u001b[38;5;28mself\u001b[39m\u001b[38;5;241m.\u001b[39m_timeout_occurred \u001b[38;5;241m=\u001b[39m \u001b[38;5;28;01mTrue\u001b[39;00m\n",
      "File \u001b[0;32m/Library/Developer/CommandLineTools/Library/Frameworks/Python3.framework/Versions/3.9/lib/python3.9/ssl.py:1241\u001b[0m, in \u001b[0;36mSSLSocket.recv_into\u001b[0;34m(self, buffer, nbytes, flags)\u001b[0m\n\u001b[1;32m   1237\u001b[0m     \u001b[38;5;28;01mif\u001b[39;00m flags \u001b[38;5;241m!=\u001b[39m \u001b[38;5;241m0\u001b[39m:\n\u001b[1;32m   1238\u001b[0m         \u001b[38;5;28;01mraise\u001b[39;00m \u001b[38;5;167;01mValueError\u001b[39;00m(\n\u001b[1;32m   1239\u001b[0m           \u001b[38;5;124m\"\u001b[39m\u001b[38;5;124mnon-zero flags not allowed in calls to recv_into() on \u001b[39m\u001b[38;5;132;01m%s\u001b[39;00m\u001b[38;5;124m\"\u001b[39m \u001b[38;5;241m%\u001b[39m\n\u001b[1;32m   1240\u001b[0m           \u001b[38;5;28mself\u001b[39m\u001b[38;5;241m.\u001b[39m\u001b[38;5;18m__class__\u001b[39m)\n\u001b[0;32m-> 1241\u001b[0m     \u001b[38;5;28;01mreturn\u001b[39;00m \u001b[38;5;28;43mself\u001b[39;49m\u001b[38;5;241;43m.\u001b[39;49m\u001b[43mread\u001b[49m\u001b[43m(\u001b[49m\u001b[43mnbytes\u001b[49m\u001b[43m,\u001b[49m\u001b[43m \u001b[49m\u001b[43mbuffer\u001b[49m\u001b[43m)\u001b[49m\n\u001b[1;32m   1242\u001b[0m \u001b[38;5;28;01melse\u001b[39;00m:\n\u001b[1;32m   1243\u001b[0m     \u001b[38;5;28;01mreturn\u001b[39;00m \u001b[38;5;28msuper\u001b[39m()\u001b[38;5;241m.\u001b[39mrecv_into(buffer, nbytes, flags)\n",
      "File \u001b[0;32m/Library/Developer/CommandLineTools/Library/Frameworks/Python3.framework/Versions/3.9/lib/python3.9/ssl.py:1099\u001b[0m, in \u001b[0;36mSSLSocket.read\u001b[0;34m(self, len, buffer)\u001b[0m\n\u001b[1;32m   1097\u001b[0m \u001b[38;5;28;01mtry\u001b[39;00m:\n\u001b[1;32m   1098\u001b[0m     \u001b[38;5;28;01mif\u001b[39;00m buffer \u001b[38;5;129;01mis\u001b[39;00m \u001b[38;5;129;01mnot\u001b[39;00m \u001b[38;5;28;01mNone\u001b[39;00m:\n\u001b[0;32m-> 1099\u001b[0m         \u001b[38;5;28;01mreturn\u001b[39;00m \u001b[38;5;28;43mself\u001b[39;49m\u001b[38;5;241;43m.\u001b[39;49m\u001b[43m_sslobj\u001b[49m\u001b[38;5;241;43m.\u001b[39;49m\u001b[43mread\u001b[49m\u001b[43m(\u001b[49m\u001b[38;5;28;43mlen\u001b[39;49m\u001b[43m,\u001b[49m\u001b[43m \u001b[49m\u001b[43mbuffer\u001b[49m\u001b[43m)\u001b[49m\n\u001b[1;32m   1100\u001b[0m     \u001b[38;5;28;01melse\u001b[39;00m:\n\u001b[1;32m   1101\u001b[0m         \u001b[38;5;28;01mreturn\u001b[39;00m \u001b[38;5;28mself\u001b[39m\u001b[38;5;241m.\u001b[39m_sslobj\u001b[38;5;241m.\u001b[39mread(\u001b[38;5;28mlen\u001b[39m)\n",
      "\u001b[0;31mKeyboardInterrupt\u001b[0m: "
     ]
    }
   ],
   "source": [
    "def getAllIr():\n",
    "    path = \"/api/get_all_ir\"\n",
    "    end_point= f\"{base_url}{path}\"\n",
    "    response = requests.get(end_point)\n",
    "    if response.ok:\n",
    "        print(response.json())\n",
    "    else:\n",
    "        print(\"Res Error \", response.json())\n",
    "\n",
    "getAllIr()"
   ]
  },
  {
   "cell_type": "code",
   "execution_count": 25,
   "metadata": {},
   "outputs": [
    {
     "name": "stdout",
     "output_type": "stream",
     "text": [
      "{'ir_id': 'IM8947'}\n"
     ]
    }
   ],
   "source": [
    "def fetchSingleIr():\n",
    "    path = \"/api/ir/IM8947\"\n",
    "    end_point = f\"{base_url}{path}\"\n",
    "    response = requests.get(end_point)\n",
    "    if response.ok:\n",
    "        print(response.json())\n",
    "    else:\n",
    "        print(\"Error \", response.json())\n",
    "\n",
    "fetchSingleIr()"
   ]
  },
  {
   "cell_type": "code",
   "execution_count": 15,
   "metadata": {},
   "outputs": [
    {
     "name": "stdout",
     "output_type": "stream",
     "text": [
      "Errror  {'detail': {'error': 'Unexpected error', 'details': '(psycopg2.errors.UndefinedColumn) column \"ir_access_level\" of relation \"irmodel\" does not exist\\nLINE 1: INSERT INTO irmodel (ir_id, ir_name, ir_email, ir_access_lev...\\n                                                       ^\\n\\n[SQL: INSERT INTO irmodel (ir_id, ir_name, ir_email, ir_access_level, ir_password, status, plan_count, dr_count, info_count, started_date, name_list) VALUES (%(ir_id)s, %(ir_name)s, %(ir_email)s, %(ir_access_level)s, %(ir_password)s, %(status)s, %(plan_count)s, %(dr_count)s, %(info_count)s, %(started_date)s, %(name_list)s)]\\n[parameters: {\\'ir_id\\': \\'IM8128\\', \\'ir_name\\': \\'Snehith S Nair\\', \\'ir_email\\': \\'snehithnair901@gmail.com\\', \\'ir_access_level\\': 5, \\'ir_password\\': \\'$2b$12$W5GrC8GdCeK1wS8VmNPH5.Ipl3lu4D/29OWqWVL1bJx2XD/VUXkM2\\', \\'status\\': True, \\'plan_count\\': 0, \\'dr_count\\': 0, \\'info_count\\': 0, \\'started_date\\': \\'09-08-2025\\', \\'name_list\\': 0}]\\n(Background on this error at: https://sqlalche.me/e/20/f405)'}}\n"
     ]
    }
   ],
   "source": [
    "def resgisterIr():\n",
    "    path = \"/api/register_new_ir\"\n",
    "    end_point = f\"{base_url}{path}\"\n",
    "    data = {\n",
    "        \"ir_id\":\"IM8128\",\n",
    "        \"ir_name\":\"Snehith S Nair\",\n",
    "        \"ir_email\": \"snehithnair901@gmail.com\",\n",
    "        \"ir_password\": \"Robvandam\",\n",
    "        }\n",
    "    response = requests.post(end_point,data=json.dumps(data),headers={\"Content-type\":\"application/json\"}) \n",
    "    if response.ok:\n",
    "        print(\"Success \", response.json())\n",
    "    else:\n",
    "        print(\"Errror \", response.json())\n",
    "\n",
    "resgisterIr()"
   ]
  },
  {
   "cell_type": "code",
   "execution_count": 12,
   "metadata": {},
   "outputs": [
    {
     "name": "stdout",
     "output_type": "stream",
     "text": [
      "Result  {'data': [{'ir_access_level': 1, 'ir_id': 'IM7216', 'status': True, 'dr_count': 0, 'started_date': '20-08-2025', 'ir_email': 'im7216@example.com', 'ir_name': 'Test User IM7216', 'ir_password': '$2b$12$5et2rfeHbZmMh44ORUqwm.yS/qADo.iBqSPmf1dzzbpQDiDPp2xOO', 'plan_count': 0, 'info_count': 0, 'name_list': 0}, {'ir_access_level': 2, 'ir_id': 'IM6599', 'status': True, 'dr_count': 0, 'started_date': '20-08-2025', 'ir_email': 'im6599@example.com', 'ir_name': 'Test User IM6599', 'ir_password': '$2b$12$eeOxCZ9/7lVQqs1mb8JX.uRq.QgSqsjnUZNPoXtp28sphMaHZ86mK', 'plan_count': 0, 'info_count': 0, 'name_list': 0}, {'ir_access_level': 2, 'ir_id': 'IM1579', 'status': True, 'dr_count': 0, 'started_date': '20-08-2025', 'ir_email': 'im1579@example.com', 'ir_name': 'Test User IM1579', 'ir_password': '$2b$12$T/6kY8TkzW4SsIqPzQZnRe6kmfpVlcb.i7cg1ISYOBhFwLfHH.Ple', 'plan_count': 0, 'info_count': 0, 'name_list': 0}, {'ir_access_level': 2, 'ir_id': 'IM9252', 'status': True, 'dr_count': 0, 'started_date': '20-08-2025', 'ir_email': 'im9252@example.com', 'ir_name': 'Test User IM9252', 'ir_password': '$2b$12$O7MRDBUineQjgl/uoIQebOIIG8Rhlo/Ag8ZRv6qGUHY.Z103QiENK', 'plan_count': 0, 'info_count': 0, 'name_list': 0}, {'ir_access_level': 2, 'ir_id': 'IM2004', 'status': True, 'dr_count': 0, 'started_date': '20-08-2025', 'ir_email': 'im2004@example.com', 'ir_name': 'Test User IM2004', 'ir_password': '$2b$12$uB5ZJmqy7dceZDiTATnq6OFklvdC9QFvwZTQMgn8zg.CAMb6XfzN6', 'plan_count': 0, 'info_count': 0, 'name_list': 0}, {'ir_access_level': 2, 'ir_id': 'IM4230', 'status': True, 'dr_count': 0, 'started_date': '20-08-2025', 'ir_email': 'im4230@example.com', 'ir_name': 'Test User IM4230', 'ir_password': '$2b$12$UHWEs.MI9Llkx5uv17mzXurMIuMnU7rWPpP4NbLasH6SYahFhlJNe', 'plan_count': 0, 'info_count': 0, 'name_list': 0}, {'ir_access_level': 3, 'ir_id': 'IM7990', 'status': True, 'dr_count': 0, 'started_date': '20-08-2025', 'ir_email': 'im7990@example.com', 'ir_name': 'Test User IM7990', 'ir_password': '$2b$12$HbejILWBCbFctG0SCBGeO.GNy3IEjjEISSEK5emunY6zbZ00AjygK', 'plan_count': 0, 'info_count': 0, 'name_list': 0}, {'ir_access_level': 3, 'ir_id': 'IM0262', 'status': True, 'dr_count': 0, 'started_date': '20-08-2025', 'ir_email': 'im0262@example.com', 'ir_name': 'Test User IM0262', 'ir_password': '$2b$12$ffDvgURdihirTgqZ46as2OqnnlMkoy3B6SOiKoiTVI8Gta1ksG2ia', 'plan_count': 0, 'info_count': 0, 'name_list': 0}, {'ir_access_level': 3, 'ir_id': 'IM1781', 'status': True, 'dr_count': 0, 'started_date': '20-08-2025', 'ir_email': 'im1781@example.com', 'ir_name': 'Test User IM1781', 'ir_password': '$2b$12$h4EkoO4wXW4m7Ced1YoJDOBZH0B4kvwAFd.2mte/DiA0rf7ZF4uL6', 'plan_count': 0, 'info_count': 0, 'name_list': 0}, {'ir_access_level': 3, 'ir_id': 'IM1332', 'status': True, 'dr_count': 0, 'started_date': '20-08-2025', 'ir_email': 'im1332@example.com', 'ir_name': 'Test User IM1332', 'ir_password': '$2b$12$SHVl19g5lXP0t8YN70YNyeu4kyJeMWwDFzWX1mRqCNFmqPcIXE4m6', 'plan_count': 0, 'info_count': 0, 'name_list': 0}, {'ir_access_level': 3, 'ir_id': 'IM9002', 'status': True, 'dr_count': 0, 'started_date': '20-08-2025', 'ir_email': 'im9002@example.com', 'ir_name': 'Test User IM9002', 'ir_password': '$2b$12$0POFMy4f/9PWCd3oN4B73.3Io06sGyOJyU3HZDXOCS62ap3Fs.jxm', 'plan_count': 0, 'info_count': 0, 'name_list': 0}, {'ir_access_level': 3, 'ir_id': 'IM4546', 'status': True, 'dr_count': 0, 'started_date': '20-08-2025', 'ir_email': 'im4546@example.com', 'ir_name': 'Test User IM4546', 'ir_password': '$2b$12$WxDYbV0dCkhqjH9TVgAfo.aJyqRTTW1HZ8JzwPYnKvQFdeMjMfDVu', 'plan_count': 0, 'info_count': 0, 'name_list': 0}, {'ir_access_level': 3, 'ir_id': 'IM4927', 'status': True, 'dr_count': 0, 'started_date': '20-08-2025', 'ir_email': 'im4927@example.com', 'ir_name': 'Test User IM4927', 'ir_password': '$2b$12$G/pQIYqcgQ9z20/n51oGB.xrSLS.Kk2YWnxr.sKQ4CYjB6K8pbPg6', 'plan_count': 0, 'info_count': 0, 'name_list': 0}, {'ir_access_level': 3, 'ir_id': 'IM6392', 'status': True, 'dr_count': 0, 'started_date': '20-08-2025', 'ir_email': 'im6392@example.com', 'ir_name': 'Test User IM6392', 'ir_password': '$2b$12$UFI5WAqkorI3VIi5IwXfjugMbvlL2v8hi/dIf9mvLACxSsTU0A6a2', 'plan_count': 0, 'info_count': 0, 'name_list': 0}, {'ir_access_level': 4, 'ir_id': 'IM2779', 'status': True, 'dr_count': 0, 'started_date': '20-08-2025', 'ir_email': 'im2779@example.com', 'ir_name': 'Test User IM2779', 'ir_password': '$2b$12$4cp1ujofDVoz8NYR24zT3ehhlnlZ1dS.LR9lXgLnScoZWor14XiNu', 'plan_count': 0, 'info_count': 0, 'name_list': 0}, {'ir_access_level': 4, 'ir_id': 'IM9215', 'status': True, 'dr_count': 0, 'started_date': '20-08-2025', 'ir_email': 'im9215@example.com', 'ir_name': 'Test User IM9215', 'ir_password': '$2b$12$jRF9h.hmhh2WYOVYUHlNh.b2uV5lHhSn49.PEA8kfwIeKifNE.WQq', 'plan_count': 0, 'info_count': 0, 'name_list': 0}, {'ir_access_level': 4, 'ir_id': 'IM8947', 'status': True, 'dr_count': 0, 'started_date': '20-08-2025', 'ir_email': 'im8947@example.com', 'ir_name': 'Test User IM8947', 'ir_password': '$2b$12$P90fdQ3EEtQLK5bUAg464OPRXmZlfVHMnrBk7zP4i0mmMv.6GYgHm', 'plan_count': 0, 'info_count': 0, 'name_list': 0}, {'ir_access_level': 4, 'ir_id': 'IM8361', 'status': True, 'dr_count': 0, 'started_date': '20-08-2025', 'ir_email': 'im8361@example.com', 'ir_name': 'Test User IM8361', 'ir_password': '$2b$12$mMb1KmbfBQpEYTHNvZf3rugiJJnbA3K7mpHbnPfYBSPPIZKQFJL0O', 'plan_count': 0, 'info_count': 0, 'name_list': 0}, {'ir_access_level': 4, 'ir_id': 'IM2499', 'status': True, 'dr_count': 0, 'started_date': '20-08-2025', 'ir_email': 'im2499@example.com', 'ir_name': 'Test User IM2499', 'ir_password': '$2b$12$W6iVq3B2itkgxdGzPZcHS.ooNU.tiXHlGIFpbHegQpWY/CWJjTTTm', 'plan_count': 0, 'info_count': 0, 'name_list': 0}, {'ir_access_level': 4, 'ir_id': 'IM0424', 'status': True, 'dr_count': 0, 'started_date': '20-08-2025', 'ir_email': 'im0424@example.com', 'ir_name': 'Test User IM0424', 'ir_password': '$2b$12$U8kX5Dnz1RGeVB6d3aMkAuXpIKQHhx9tvSj1sh8F8.tEduX8UbfCq', 'plan_count': 0, 'info_count': 0, 'name_list': 0}, {'ir_access_level': 4, 'ir_id': 'IM6678', 'status': True, 'dr_count': 0, 'started_date': '20-08-2025', 'ir_email': 'im6678@example.com', 'ir_name': 'Test User IM6678', 'ir_password': '$2b$12$fzePu5OImSb8AAsK9JvDCOvDFThdcam1s78Y21GsmoR2QRquLbsay', 'plan_count': 0, 'info_count': 0, 'name_list': 0}, {'ir_access_level': 4, 'ir_id': 'IM9375', 'status': True, 'dr_count': 0, 'started_date': '20-08-2025', 'ir_email': 'im9375@example.com', 'ir_name': 'Test User IM9375', 'ir_password': '$2b$12$jEhc5ja5hxZrz26CtLHGA.JYFD0.ZNbkXUYQweF1bf3kYBfFEwPsG', 'plan_count': 0, 'info_count': 0, 'name_list': 0}, {'ir_access_level': 4, 'ir_id': 'IM8657', 'status': True, 'dr_count': 0, 'started_date': '20-08-2025', 'ir_email': 'im8657@example.com', 'ir_name': 'Test User IM8657', 'ir_password': '$2b$12$wAKPYH6Z9vhwpKa75wKCUefINSNKV4iKC5R6jhIwlqH9I6GMxIEQq', 'plan_count': 0, 'info_count': 0, 'name_list': 0}, {'ir_access_level': 4, 'ir_id': 'IM5852', 'status': True, 'dr_count': 0, 'started_date': '20-08-2025', 'ir_email': 'im5852@example.com', 'ir_name': 'Test User IM5852', 'ir_password': '$2b$12$HH7jqukRbEarZK5UkrZfPOU6gpUKoj1DEgQ24lJzu9JVy3/rHx6R.', 'plan_count': 0, 'info_count': 0, 'name_list': 0}, {'ir_access_level': 4, 'ir_id': 'IM1530', 'status': True, 'dr_count': 0, 'started_date': '20-08-2025', 'ir_email': 'im1530@example.com', 'ir_name': 'Test User IM1530', 'ir_password': '$2b$12$MqwIDr004rlkUe00R3FX4OAGB1Y4yvqY8vj7X6gIHNgjbGzxDL9Mi', 'plan_count': 0, 'info_count': 0, 'name_list': 0}], 'count': 25}\n"
     ]
    }
   ],
   "source": [
    "def getAllRegisteredIr():\n",
    "    path = \"/api/irs\"\n",
    "    end_point = f\"{base_url}{path}\"\n",
    "    response = requests.get(end_point)\n",
    "    if response.ok:\n",
    "        print(\"Result \" , response.json())\n",
    "    else:\n",
    "        print(\"Error \", response.json())\n",
    "        \n",
    "getAllRegisteredIr()"
   ]
  },
  {
   "cell_type": "code",
   "execution_count": null,
   "metadata": {},
   "outputs": [],
   "source": [
    "def login():\n",
    "    path =\"/api/login\"\n",
    "    end_point=f\"{base_url}{path}\"\n",
    "    data = {\"ir_id\":\"IM8128\",\"ir_password\":\"Robvandam\"}\n",
    "    data = json.dumps(data)\n",
    "    response = requests.post(end_point,data=data,headers={\"Content-type\":\"application/json\"})\n",
    "    if response.ok:\n",
    "        print(\"S \", response.json())\n",
    "    else:\n",
    "        print(\"Error \", response.json())\n",
    "\n",
    "login()"
   ]
  },
  {
   "cell_type": "code",
   "execution_count": 16,
   "metadata": {},
   "outputs": [
    {
     "name": "stdout",
     "output_type": "stream",
     "text": [
      "Success  {'message': 'Team created', 'team_id': 4, 'team_name': 'Dreamers'}\n"
     ]
    }
   ],
   "source": [
    "def createTeam():\n",
    "    path = \"/api/create_team\"\n",
    "    end_point = f\"{base_url}{path}\"\n",
    "    data = {\"name\":\"Dreamers\"}\n",
    "    data = json.dumps(data)\n",
    "    response = requests.post(end_point,data=data,headers={\"Content-type\":\"application/json\"})\n",
    "    if response.ok:\n",
    "        print(\"Success \", response.json())\n",
    "    else:\n",
    "        print(\"Failure \", response.json())\n",
    "\n",
    "createTeam()"
   ]
  },
  {
   "cell_type": "code",
   "execution_count": null,
   "metadata": {},
   "outputs": [],
   "source": []
  },
  {
   "cell_type": "code",
   "execution_count": null,
   "metadata": {},
   "outputs": [],
   "source": [
    "def assignIrToTeam():\n",
    "    path = \"/api/assign_ir_to_team\"\n",
    "    end_point = f\"{base_url}{path}\"\n",
    "    data = {\"ir_id\":\"IM8128\",\"team_id\":\"2\",\"role\":\"LDC\"}\n",
    "    data = json.dumps(data)\n",
    "    response = requests.post(end_point,data=data,headers={\"Content-type\":\"application/json\"})\n",
    "    if response.ok:\n",
    "        print(\"Success \", response.json())\n",
    "    else:\n",
    "        print(\"Failure \", response.json())\n",
    "\n",
    "assignIrToTeam()\n"
   ]
  },
  {
   "cell_type": "code",
   "execution_count": null,
   "metadata": {},
   "outputs": [],
   "source": [
    "def getLdc():\n",
    "    path = \"/api/ldcs\"\n",
    "    end_point =f\"{base_url}{path}\"\n",
    "    response = requests.get(end_point)\n",
    "    if response.ok:\n",
    "        print(\"Success \", response.json())\n",
    "    else:\n",
    "        print(\"Failure \", response.json())\n",
    "\n",
    "getLdc()"
   ]
  },
  {
   "cell_type": "code",
   "execution_count": null,
   "metadata": {},
   "outputs": [],
   "source": [
    "def getLdcTeamsManaged():\n",
    "    path = \"/api/teams_by_ldc/IM8128\"\n",
    "    end_point = f\"{base_url}{path}\"\n",
    "    response = requests.get(end_point)\n",
    "    if response.ok:\n",
    "        print(\"Success \", response.json())\n",
    "    else:\n",
    "        print(\"Failure \", response.json())\n",
    "\n",
    "getLdcTeamsManaged()"
   ]
  },
  {
   "cell_type": "code",
   "execution_count": null,
   "metadata": {},
   "outputs": [],
   "source": [
    "\n",
    "def reset_database():\n",
    "    url = f\"{base_url}/api/reset_database\"\n",
    "    try:\n",
    "        response = requests.post(url, timeout=20)\n",
    "        if response.ok:\n",
    "            print(\"✅ Database reset successfully!\")\n",
    "        else:\n",
    "            print(f\"❌ Reset failed → {response.status_code} | {response.text}\")\n",
    "    except requests.exceptions.RequestException as e:\n",
    "        print(f\"🚫 Error while resetting database: {e}\")"
   ]
  },
  {
   "cell_type": "code",
   "execution_count": 26,
   "metadata": {},
   "outputs": [
    {
     "name": "stdout",
     "output_type": "stream",
     "text": [
      "⚠️ Failed to fetch IR IM7216 → 404: {\"detail\":\"Not Found\"}\n",
      "⚠️ Failed to fetch IR IM6599 → 404: {\"detail\":\"Not Found\"}\n",
      "⚠️ Failed to fetch IR IM1579 → 404: {\"detail\":\"Not Found\"}\n",
      "⚠️ Failed to fetch IR IM9252 → 404: {\"detail\":\"Not Found\"}\n",
      "⚠️ Failed to fetch IR IM2004 → 404: {\"detail\":\"Not Found\"}\n",
      "⚠️ Failed to fetch IR IM4230 → 404: {\"detail\":\"Not Found\"}\n",
      "⚠️ Failed to fetch IR IM7990 → 404: {\"detail\":\"Not Found\"}\n",
      "⚠️ Failed to fetch IR IM0262 → 404: {\"detail\":\"Not Found\"}\n",
      "⚠️ Failed to fetch IR IM1781 → 404: {\"detail\":\"Not Found\"}\n",
      "⚠️ Failed to fetch IR IM1332 → 404: {\"detail\":\"Not Found\"}\n",
      "⚠️ Failed to fetch IR IM9002 → 404: {\"detail\":\"Not Found\"}\n",
      "⚠️ Failed to fetch IR IM4546 → 404: {\"detail\":\"Not Found\"}\n",
      "⚠️ Failed to fetch IR IM4927 → 404: {\"detail\":\"Not Found\"}\n",
      "⚠️ Failed to fetch IR IM6392 → 404: {\"detail\":\"Not Found\"}\n",
      "⚠️ Failed to fetch IR IM2779 → 404: {\"detail\":\"Not Found\"}\n",
      "⚠️ Failed to fetch IR IM9215 → 404: {\"detail\":\"Not Found\"}\n",
      "⚠️ Failed to fetch IR IM8947 → 404: {\"detail\":\"Not Found\"}\n",
      "⚠️ Failed to fetch IR IM8361 → 404: {\"detail\":\"Not Found\"}\n",
      "⚠️ Failed to fetch IR IM2499 → 404: {\"detail\":\"Not Found\"}\n",
      "⚠️ Failed to fetch IR IM0424 → 404: {\"detail\":\"Not Found\"}\n",
      "⚠️ Failed to fetch IR IM6678 → 404: {\"detail\":\"Not Found\"}\n",
      "⚠️ Failed to fetch IR IM9375 → 404: {\"detail\":\"Not Found\"}\n",
      "⚠️ Failed to fetch IR IM8657 → 404: {\"detail\":\"Not Found\"}\n",
      "⚠️ Failed to fetch IR IM5852 → 404: {\"detail\":\"Not Found\"}\n",
      "⚠️ Failed to fetch IR IM1530 → 404: {\"detail\":\"Not Found\"}\n"
     ]
    }
   ],
   "source": [
    "import requests\n",
    "import json\n",
    "import time\n",
    "\n",
    "\n",
    "\n",
    "ir_ids = [\n",
    "    \"IM7216\", \"IM6599\", \"IM1579\", \"IM9252\", \"IM2004\", \"IM4230\", \"IM7990\", \"IM0262\",\n",
    "    \"IM1781\", \"IM1332\", \"IM9002\", \"IM4546\", \"IM4927\", \"IM6392\", \"IM2779\", \"IM9215\",\n",
    "    \"IM8947\", \"IM8361\", \"IM2499\", \"IM0424\", \"IM6678\", \"IM9375\", \"IM8657\", \"IM5852\", \"IM1530\"\n",
    "]\n",
    "\n",
    "# Four available teams\n",
    "teams = [\"1\", \"2\", \"3\", \"4\"]\n",
    "\n",
    "# Track how many LDCs per team\n",
    "ldc_count_per_team = {team: 0 for team in teams}\n",
    "\n",
    "def fetch_ir_details(ir_id):\n",
    "    \"\"\"Fetch single IR details using the /ir/{fetch_ir_id} API\"\"\"\n",
    "    url = f\"{base_url}/ir/{ir_id}\"\n",
    "    try:\n",
    "        response = requests.get(url)\n",
    "        if response.status_code == 200:\n",
    "            return response.json()\n",
    "        else:\n",
    "            print(f\"⚠️ Failed to fetch IR {ir_id} → {response.status_code}: {response.text}\")\n",
    "            return None\n",
    "    except Exception as e:\n",
    "        print(f\"❌ Error fetching IR {ir_id}: {e}\")\n",
    "        return None\n",
    "\n",
    "def assign_ir_to_team(ir_id, team_id, role):\n",
    "    \"\"\"Assign IR to a specific team\"\"\"\n",
    "    url = f\"{base_url}/api/assign_ir_to_team\"\n",
    "    data = {\n",
    "        \"ir_id\": ir_id,\n",
    "        \"team_id\": team_id,\n",
    "        \"role\": role\n",
    "    }\n",
    "    try:\n",
    "        response = requests.post(url, data=json.dumps(data), headers={\"Content-type\": \"application/json\"})\n",
    "        if response.ok:\n",
    "            print(f\"✅ Assigned {ir_id} to Team {team_id} as {role} →\", response.json())\n",
    "        else:\n",
    "            print(f\"❌ Failed to assign {ir_id} → {response.status_code}: {response.text}\")\n",
    "    except Exception as e:\n",
    "        print(f\"❌ Error assigning {ir_id}: {e}\")\n",
    "\n",
    "def bulk_assign_irs():\n",
    "    team_index = 0  # For round-robin distribution\n",
    "\n",
    "    for ir_id in ir_ids:\n",
    "        # Fetch IR details\n",
    "        ir_details = fetch_ir_details(ir_id)\n",
    "        if not ir_details:\n",
    "            continue  # Skip if IR not found or error occurred\n",
    "\n",
    "        ir_access_level = ir_details.get(\"ir_access_level\", 5)\n",
    "\n",
    "        # Skip Admins (access_level=1)\n",
    "        if ir_access_level == 1:\n",
    "            print(f\"⏭️ Skipping {ir_id} → Admin (access_level=1)\")\n",
    "            continue\n",
    "\n",
    "        # Get the team to assign IR\n",
    "        assigned = False\n",
    "        attempts = 0\n",
    "\n",
    "        # Try to find a valid team\n",
    "        while attempts < len(teams):\n",
    "            team_id = teams[team_index]\n",
    "\n",
    "            if ir_access_level == 2:  # For LDCs\n",
    "                if ldc_count_per_team[team_id] < 2:\n",
    "                    assign_ir_to_team(ir_id, team_id, \"LDC\")\n",
    "                    ldc_count_per_team[team_id] += 1\n",
    "                    assigned = True\n",
    "                    break\n",
    "                else:\n",
    "                    # Move to the next team\n",
    "                    team_index = (team_index + 1) % len(teams)\n",
    "                    attempts += 1\n",
    "            else:\n",
    "                # For all other IRs, assign as IR regardless of team LDC count\n",
    "                assign_ir_to_team(ir_id, team_id, \"IR\")\n",
    "                assigned = True\n",
    "                break\n",
    "\n",
    "        # If we couldn't assign because all teams are full for LDCs\n",
    "        if not assigned:\n",
    "            if ir_access_level == 2:\n",
    "                print(f\"⚠️ Skipping {ir_id} → All 4 teams already have 2 LDCs each\")\n",
    "            else:\n",
    "                print(f\"⚠️ Skipping {ir_id} → Could not assign\")\n",
    "\n",
    "        # Move to the next team for the next IR\n",
    "        team_index = (team_index + 1) % len(teams)\n",
    "\n",
    "        # Delay to avoid hammering the server\n",
    "        time.sleep(0.3)\n",
    "\n",
    "\n",
    "bulk_assign_irs()\n"
   ]
  }
 ],
 "metadata": {
  "kernelspec": {
   "display_name": ".venv",
   "language": "python",
   "name": "python3"
  },
  "language_info": {
   "codemirror_mode": {
    "name": "ipython",
    "version": 3
   },
   "file_extension": ".py",
   "mimetype": "text/x-python",
   "name": "python",
   "nbconvert_exporter": "python",
   "pygments_lexer": "ipython3",
   "version": "3.9.6"
  }
 },
 "nbformat": 4,
 "nbformat_minor": 2
}
