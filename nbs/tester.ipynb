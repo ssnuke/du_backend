{
 "cells": [
  {
   "cell_type": "code",
   "execution_count": 28,
   "metadata": {},
   "outputs": [],
   "source": [
    "import requests,json\n",
    "base_url = \"http://localhost:8002\""
   ]
  },
  {
   "cell_type": "code",
   "execution_count": null,
   "metadata": {},
   "outputs": [
    {
     "name": "stdout",
     "output_type": "stream",
     "text": [
      "<bound method Response.json of <Response [404]>>\n",
      "<bound method Response.json of <Response [404]>>\n"
     ]
    }
   ],
   "source": [
    "\n",
    "def getIRId():\n",
    "    path = \"/api/1\"\n",
    "    end_point= f\"{base_url}{path}\"\n",
    "    response = requests.get(end_point)\n",
    "    if response.ok:\n",
    "        print(response.json())\n",
    "    else:\n",
    "        print(response.json)\n",
    "\n",
    "getIRId()\n",
    "\n",
    "def getAllIds():\n",
    "    path = \"/api/\"\n",
    "    end_point= f\"{base_url}{path}\"\n",
    "    response = requests.get(end_point)\n",
    "    if response.ok:\n",
    "        print(response.json())\n",
    "    else:\n",
    "        print(response.json)\n",
    "\n",
    "getAllIds()\n"
   ]
  },
  {
   "cell_type": "code",
   "execution_count": 29,
   "metadata": {},
   "outputs": [
    {
     "name": "stdout",
     "output_type": "stream",
     "text": [
      "{'ir_id': 'IM8128'}\n"
     ]
    }
   ],
   "source": [
    "def createIr():\n",
    "    path = \"/api/add_ir_id\"\n",
    "    end_point = f\"{base_url}{path}\"\n",
    "    data = {\"ir_id\":\"IM8128\"}\n",
    "    data = json.dumps(data)\n",
    "    response = requests.post(end_point, data=data, headers={\"Content-type\":\"application/json\"})\n",
    "    if response.ok:\n",
    "        print(response.json())\n",
    "    else:\n",
    "        print(response.json())\n",
    "\n",
    "createIr()"
   ]
  },
  {
   "cell_type": "code",
   "execution_count": 30,
   "metadata": {},
   "outputs": [
    {
     "name": "stdout",
     "output_type": "stream",
     "text": [
      "[{'ir_id': 'IM8128'}]\n"
     ]
    }
   ],
   "source": [
    "def getAllIr():\n",
    "    path = \"/api/get_all_ir\"\n",
    "    end_point= f\"{base_url}{path}\"\n",
    "    response = requests.get(end_point)\n",
    "    if response.ok:\n",
    "        print(response.json())\n",
    "    else:\n",
    "        print(\"Res Error \", response.json())\n",
    "\n",
    "getAllIr()"
   ]
  },
  {
   "cell_type": "code",
   "execution_count": 31,
   "metadata": {},
   "outputs": [
    {
     "name": "stdout",
     "output_type": "stream",
     "text": [
      "{'ir_id': 'IM8128'}\n"
     ]
    }
   ],
   "source": [
    "def fetchSingleIr():\n",
    "    path = \"/api/ir/IM8128\"\n",
    "    end_point = f\"{base_url}{path}\"\n",
    "    response = requests.get(end_point)\n",
    "    if response.ok:\n",
    "        print(response.json())\n",
    "    else:\n",
    "        print(\"Error \", response.json())\n",
    "\n",
    "fetchSingleIr()"
   ]
  },
  {
   "cell_type": "code",
   "execution_count": 32,
   "metadata": {},
   "outputs": [
    {
     "name": "stdout",
     "output_type": "stream",
     "text": [
      "Success  {'message': 'IR registered successfully', 'ir_id': 'IM8128'}\n"
     ]
    }
   ],
   "source": [
    "def resgisterIr():\n",
    "    path = \"/api/register_new_ir\"\n",
    "    end_point = f\"{base_url}{path}\"\n",
    "    data = {\n",
    "        \"ir_id\":\"IM8128\",\n",
    "        \"ir_name\":\"Snehith S Nair\",\n",
    "        \"ir_email\": \"snehithnair901@gmail.com\",\n",
    "        \"ir_password\": \"Robvandam\",\n",
    "        }\n",
    "    response = requests.post(end_point,data=json.dumps(data),headers={\"Content-type\":\"application/json\"}) \n",
    "    if response.ok:\n",
    "        print(\"Success \", response.json())\n",
    "    else:\n",
    "        print(\"Errror \", response.json())\n",
    "\n",
    "resgisterIr()"
   ]
  },
  {
   "cell_type": "code",
   "execution_count": 33,
   "metadata": {},
   "outputs": [
    {
     "name": "stdout",
     "output_type": "stream",
     "text": [
      "Result  [{'ir_id': 'IM8128', 'ir_password': '$2b$12$qytHqCOffP5l0xoGKxWud.eh9d9JTcokuZd6EfBSIyzaWeNs58FRC', 'plan_count': 0, 'info_count': 0, 'name_list': 0, 'ir_name': 'Snehith S Nair', 'ir_email': 'snehithnair901@gmail.com', 'status': True, 'dr_count': 0, 'started_date': '31-05-2025'}]\n"
     ]
    }
   ],
   "source": [
    "def getAllRegisteredIr():\n",
    "    path = \"/api/irs\"\n",
    "    end_point = f\"{base_url}{path}\"\n",
    "    response = requests.get(end_point)\n",
    "    if response.ok:\n",
    "        print(\"Result \" , response.json())\n",
    "    else:\n",
    "        print(\"Error \", response.json())\n",
    "        \n",
    "getAllRegisteredIr()"
   ]
  },
  {
   "cell_type": "code",
   "execution_count": 34,
   "metadata": {},
   "outputs": [
    {
     "name": "stdout",
     "output_type": "stream",
     "text": [
      "S  {'message': 'Login Successful', 'ir': {'ir_id': 'IM8128', 'plan_count': 0, 'info_count': 0, 'name_list': 0, 'ir_name': 'Snehith S Nair', 'ir_email': 'snehithnair901@gmail.com', 'status': True, 'dr_count': 0, 'started_date': '31-05-2025'}}\n"
     ]
    }
   ],
   "source": [
    "def login():\n",
    "    path =\"/api/login\"\n",
    "    end_point=f\"{base_url}{path}\"\n",
    "    data = {\"ir_id\":\"IM8128\",\"ir_password\":\"Robvandam\"}\n",
    "    data = json.dumps(data)\n",
    "    response = requests.post(end_point,data=data,headers={\"Content-type\":\"application/json\"})\n",
    "    if response.ok:\n",
    "        print(\"S \", response.json())\n",
    "    else:\n",
    "        print(\"Error \", response.json())\n",
    "\n",
    "login()"
   ]
  },
  {
   "cell_type": "code",
   "execution_count": 44,
   "metadata": {},
   "outputs": [
    {
     "name": "stdout",
     "output_type": "stream",
     "text": [
      "Success  {'message': 'Team created', 'team_id': 2, 'team_name': 'Wolfpacks'}\n"
     ]
    }
   ],
   "source": [
    "def createTeam():\n",
    "    path = \"/api/create_team\"\n",
    "    end_point = f\"{base_url}{path}\"\n",
    "    data = {\"name\":\"Wolfpacks\"}\n",
    "    data = json.dumps(data)\n",
    "    response = requests.post(end_point,data=data,headers={\"Content-type\":\"application/json\"})\n",
    "    if response.ok:\n",
    "        print(\"Success \", response.json())\n",
    "    else:\n",
    "        print(\"Failure \", response.json())\n",
    "\n",
    "createTeam()"
   ]
  },
  {
   "cell_type": "code",
   "execution_count": 65,
   "metadata": {},
   "outputs": [
    {
     "name": "stdout",
     "output_type": "stream",
     "text": [
      "Failure  {'detail': \"IR 'IM8128' is already assigned to team 2\"}\n"
     ]
    }
   ],
   "source": [
    "def assignIrToTeam():\n",
    "    path = \"/api/assign_ir_to_team\"\n",
    "    end_point = f\"{base_url}{path}\"\n",
    "    data = {\"ir_id\":\"IM8128\",\"team_id\":\"2\",\"role\":\"LDC\"}\n",
    "    data = json.dumps(data)\n",
    "    response = requests.post(end_point,data=data,headers={\"Content-type\":\"application/json\"})\n",
    "    if response.ok:\n",
    "        print(\"Success \", response.json())\n",
    "    else:\n",
    "        print(\"Failure \", response.json())\n",
    "\n",
    "assignIrToTeam()\n"
   ]
  },
  {
   "cell_type": "code",
   "execution_count": 55,
   "metadata": {},
   "outputs": [
    {
     "name": "stdout",
     "output_type": "stream",
     "text": [
      "Success  [{'ir_id': 'IM8128', 'ir_name': 'Snehith S Nair', 'id': 'IM8128'}]\n"
     ]
    }
   ],
   "source": [
    "def getLdc():\n",
    "    path = \"/api/ldcs\"\n",
    "    end_point =f\"{base_url}{path}\"\n",
    "    response = requests.get(end_point)\n",
    "    if response.ok:\n",
    "        print(\"Success \", response.json())\n",
    "    else:\n",
    "        print(\"Failure \", response.json())\n",
    "\n",
    "getLdc()"
   ]
  },
  {
   "cell_type": "code",
   "execution_count": 63,
   "metadata": {},
   "outputs": [
    {
     "name": "stdout",
     "output_type": "stream",
     "text": [
      "Success  [{'name': 'Relentless', 'id': 1}, {'name': 'Wolfpacks', 'id': 2}, {'name': 'Wolfpacks', 'id': 2}]\n"
     ]
    }
   ],
   "source": [
    "def getLdcTeamsManaged():\n",
    "    path = \"/api/teams_by_ldc/IM8128\"\n",
    "    end_point = f\"{base_url}{path}\"\n",
    "    response = requests.get(end_point)\n",
    "    if response.ok:\n",
    "        print(\"Success \", response.json())\n",
    "    else:\n",
    "        print(\"Failure \", response.json())\n",
    "\n",
    "getLdcTeamsManaged()"
   ]
  }
 ],
 "metadata": {
  "kernelspec": {
   "display_name": "env",
   "language": "python",
   "name": "python3"
  },
  "language_info": {
   "codemirror_mode": {
    "name": "ipython",
    "version": 3
   },
   "file_extension": ".py",
   "mimetype": "text/x-python",
   "name": "python",
   "nbconvert_exporter": "python",
   "pygments_lexer": "ipython3",
   "version": "3.13.0"
  }
 },
 "nbformat": 4,
 "nbformat_minor": 2
}
