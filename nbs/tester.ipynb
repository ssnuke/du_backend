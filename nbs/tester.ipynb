{
 "cells": [
  {
   "cell_type": "code",
   "execution_count": 2,
   "metadata": {},
   "outputs": [
    {
     "name": "stderr",
     "output_type": "stream",
     "text": [
      "/Users/snehith/Library/Python/3.9/lib/python/site-packages/urllib3/__init__.py:35: NotOpenSSLWarning: urllib3 v2 only supports OpenSSL 1.1.1+, currently the 'ssl' module is compiled with 'LibreSSL 2.8.3'. See: https://github.com/urllib3/urllib3/issues/3020\n",
      "  warnings.warn(\n"
     ]
    }
   ],
   "source": [
    "import requests,json\n",
    "#base_url = \"http://localhost:8002\"\n",
    "base_url = \"https://du-backend-t437.onrender.com/\""
   ]
  },
  {
   "cell_type": "code",
   "execution_count": 12,
   "metadata": {},
   "outputs": [
    {
     "name": "stdout",
     "output_type": "stream",
     "text": [
      "<bound method Response.json of <Response [405]>>\n",
      "<bound method Response.json of <Response [404]>>\n"
     ]
    }
   ],
   "source": [
    "\n",
    "def getIRId():\n",
    "    path = \"/api/1\"\n",
    "    end_point= f\"{base_url}{path}\"\n",
    "    response = requests.get(end_point)\n",
    "    if response.ok:\n",
    "        print(response.json())\n",
    "    else:\n",
    "        print(response.json)\n",
    "\n",
    "getIRId()\n",
    "\n",
    "def getAllIds():\n",
    "    path = \"/api/\"\n",
    "    end_point= f\"{base_url}{path}\"\n",
    "    response = requests.get(end_point)\n",
    "    if response.ok:\n",
    "        print(response.json())\n",
    "    else:\n",
    "        print(response.json)\n",
    "\n",
    "getAllIds()\n"
   ]
  },
  {
   "cell_type": "code",
   "execution_count": 10,
   "metadata": {},
   "outputs": [
    {
     "name": "stdout",
     "output_type": "stream",
     "text": [
      "HTTP error occurred: {\"detail\":{\"error\":\"Unexpected error\",\"details\":\"(psycopg2.errors.UniqueViolation) duplicate key value violates unique constraint \\\"iridmodel_pkey\\\"\\nDETAIL:  Key (ir_id)=(IM8128) already exists.\\n\\n[SQL: INSERT INTO iridmodel (ir_id) VALUES (%(ir_id)s)]\\n[parameters: {'ir_id': 'IM8128'}]\\n(Background on this error at: https://sqlalche.me/e/20/gkpj)\"}}\n"
     ]
    }
   ],
   "source": [
    "import requests\n",
    "import json\n",
    "\n",
    "def createIr():  # Make sure this is defined\n",
    "    path = \"/api/add_ir_id\"\n",
    "    end_point = f\"{base_url}{path}\"\n",
    "    payload = {\"ir_id\": \"IM8128\"}\n",
    "\n",
    "    try:\n",
    "        response = requests.post(end_point, json=payload, timeout=10)\n",
    "        response.raise_for_status()\n",
    "        print(response.json())\n",
    "    except requests.exceptions.Timeout:\n",
    "        print(\"Request timed out.\")\n",
    "    except requests.exceptions.ConnectionError:\n",
    "        print(\"Failed to connect to the server.\")\n",
    "    except requests.exceptions.HTTPError as err:\n",
    "        print(f\"HTTP error occurred: {err.response.text}\")\n",
    "    except Exception as e:\n",
    "        print(f\"An error occurred: {e}\")\n",
    "\n",
    "createIr()\n"
   ]
  },
  {
   "cell_type": "code",
   "execution_count": 4,
   "metadata": {},
   "outputs": [
    {
     "name": "stdout",
     "output_type": "stream",
     "text": [
      "[{'ir_id': 'IM7216'}, {'ir_id': 'IM6599'}, {'ir_id': 'IM1579'}, {'ir_id': 'IM9252'}, {'ir_id': 'IM2004'}, {'ir_id': 'IM4230'}, {'ir_id': 'IM7990'}, {'ir_id': 'IM0262'}, {'ir_id': 'IM1781'}, {'ir_id': 'IM1332'}, {'ir_id': 'IM9002'}, {'ir_id': 'IM4546'}, {'ir_id': 'IM4927'}, {'ir_id': 'IM6392'}, {'ir_id': 'IM2779'}, {'ir_id': 'IM9215'}, {'ir_id': 'IM8947'}, {'ir_id': 'IM8361'}, {'ir_id': 'IM2499'}, {'ir_id': 'IM0424'}, {'ir_id': 'IM6678'}, {'ir_id': 'IM9375'}, {'ir_id': 'IM8657'}, {'ir_id': 'IM5852'}, {'ir_id': 'IM1530'}, {'ir_id': 'IM8128'}, {'ir_id': 'IM9902'}, {'ir_id': 'IM9912'}, {'ir_id': 'IR3456'}, {'ir_id': 'IR2890'}, {'ir_id': 'IR2190'}, {'ir_id': 'IR2290'}, {'ir_id': 'IR2378'}]\n"
     ]
    }
   ],
   "source": [
    "def getAllIr():\n",
    "    path = \"/api/get_all_ir\"\n",
    "    end_point= f\"{base_url}{path}\"\n",
    "    response = requests.get(end_point)\n",
    "    if response.ok:\n",
    "        print(response.json())\n",
    "    else:\n",
    "        print(\"Res Error \", response.json())\n",
    "\n",
    "getAllIr()"
   ]
  },
  {
   "cell_type": "code",
   "execution_count": null,
   "metadata": {},
   "outputs": [],
   "source": [
    "def fetchSingleIr():\n",
    "    path = \"/api/ir/IM6599\"\n",
    "    end_point = f\"{base_url}{path}\"\n",
    "    response = requests.get(end_point)\n",
    "    if response.ok:\n",
    "        print(response.json())\n",
    "    else:\n",
    "        print(\"Error \", response.json())\n",
    "\n",
    "fetchSingleIr()"
   ]
  },
  {
   "cell_type": "code",
   "execution_count": null,
   "metadata": {},
   "outputs": [],
   "source": [
    "def resgisterIr():\n",
    "    path = \"/api/register_new_ir\"\n",
    "    end_point = f\"{base_url}{path}\"\n",
    "    data = {\n",
    "        \"ir_id\":\"IM8128\",\n",
    "        \"ir_name\":\"Snehith S Nair\",\n",
    "        \"ir_email\": \"snehithnair901@gmail.com\",\n",
    "        \"ir_password\": \"Robvandam\",\n",
    "        }\n",
    "    response = requests.post(end_point,data=json.dumps(data),headers={\"Content-type\":\"application/json\"}) \n",
    "    if response.ok:\n",
    "        print(\"Success \", response.json())\n",
    "    else:\n",
    "        print(\"Errror \", response.json())\n",
    "\n",
    "resgisterIr()"
   ]
  },
  {
   "cell_type": "code",
   "execution_count": null,
   "metadata": {},
   "outputs": [],
   "source": [
    "def getAllRegisteredIr():\n",
    "    path = \"/api/irs\"\n",
    "    end_point = f\"{base_url}{path}\"\n",
    "    response = requests.get(end_point)\n",
    "    if response.ok:\n",
    "        print(\"Result \" , response.json())\n",
    "    else:\n",
    "        print(\"Error \", response.json())\n",
    "        \n",
    "getAllRegisteredIr()"
   ]
  },
  {
   "cell_type": "code",
   "execution_count": null,
   "metadata": {},
   "outputs": [],
   "source": [
    "def login():\n",
    "    path =\"/api/login\"\n",
    "    end_point=f\"{base_url}{path}\"\n",
    "    data = {\"ir_id\":\"IM8128\",\"ir_password\":\"Robvandam\"}\n",
    "    data = json.dumps(data)\n",
    "    response = requests.post(end_point,data=data,headers={\"Content-type\":\"application/json\"})\n",
    "    if response.ok:\n",
    "        print(\"S \", response.json())\n",
    "    else:\n",
    "        print(\"Error \", response.json())\n",
    "\n",
    "login()"
   ]
  },
  {
   "cell_type": "code",
   "execution_count": null,
   "metadata": {},
   "outputs": [],
   "source": [
    "def createTeam():\n",
    "    path = \"/api/create_team\"\n",
    "    end_point = f\"{base_url}{path}\"\n",
    "    data = {\"name\":\"Dreamers\"}\n",
    "    data = json.dumps(data)\n",
    "    response = requests.post(end_point,data=data,headers={\"Content-type\":\"application/json\"})\n",
    "    if response.ok:\n",
    "        print(\"Success \", response.json())\n",
    "    else:\n",
    "        print(\"Failure \", response.json())\n",
    "\n",
    "createTeam()"
   ]
  },
  {
   "cell_type": "code",
   "execution_count": null,
   "metadata": {},
   "outputs": [],
   "source": [
    "def assignIrToTeam():\n",
    "    path = \"/api/assign_ir_to_team\"\n",
    "    end_point = f\"{base_url}{path}\"\n",
    "    data = {\"ir_id\":\"IM8128\",\"team_id\":\"2\",\"role\":\"LDC\"}\n",
    "    data = json.dumps(data)\n",
    "    response = requests.post(end_point,data=data,headers={\"Content-type\":\"application/json\"})\n",
    "    if response.ok:\n",
    "        print(\"Success \", response.json())\n",
    "    else:\n",
    "        print(\"Failure \", response.json())\n",
    "\n",
    "assignIrToTeam()\n"
   ]
  },
  {
   "cell_type": "code",
   "execution_count": null,
   "metadata": {},
   "outputs": [],
   "source": [
    "def getLdc():\n",
    "    path = \"/api/ldcs\"\n",
    "    end_point =f\"{base_url}{path}\"\n",
    "    response = requests.get(end_point)\n",
    "    if response.ok:\n",
    "        print(\"Success \", response.json())\n",
    "    else:\n",
    "        print(\"Failure \", response.json())\n",
    "\n",
    "getLdc()"
   ]
  },
  {
   "cell_type": "code",
   "execution_count": null,
   "metadata": {},
   "outputs": [],
   "source": [
    "def getLdcTeamsManaged():\n",
    "    path = \"/api/teams_by_ldc/IM8128\"\n",
    "    end_point = f\"{base_url}{path}\"\n",
    "    response = requests.get(end_point)\n",
    "    if response.ok:\n",
    "        print(\"Success \", response.json())\n",
    "    else:\n",
    "        print(\"Failure \", response.json())\n",
    "\n",
    "getLdcTeamsManaged()"
   ]
  },
  {
   "cell_type": "code",
   "execution_count": null,
   "metadata": {},
   "outputs": [],
   "source": [
    "\n",
    "def reset_database():\n",
    "    url = f\"{base_url}/api/reset_database\"\n",
    "    try:\n",
    "        response = requests.post(url, timeout=20)\n",
    "        if response.ok:\n",
    "            print(\"✅ Database reset successfully!\")\n",
    "        else:\n",
    "            print(f\"❌ Reset failed → {response.status_code} | {response.text}\")\n",
    "    except requests.exceptions.RequestException as e:\n",
    "        print(f\"🚫 Error while resetting database: {e}\")"
   ]
  },
  {
   "cell_type": "code",
   "execution_count": null,
   "metadata": {},
   "outputs": [],
   "source": [
    "import requests\n",
    "import json\n",
    "import time\n",
    "\n",
    "\n",
    "\n",
    "ir_ids = [\n",
    "    \"IM7216\", \"IM6599\", \"IM1579\", \"IM9252\", \"IM2004\", \"IM4230\", \"IM7990\", \"IM0262\",\n",
    "    \"IM1781\", \"IM1332\", \"IM9002\", \"IM4546\", \"IM4927\", \"IM6392\", \"IM2779\", \"IM9215\",\n",
    "    \"IM8947\", \"IM8361\", \"IM2499\", \"IM0424\", \"IM6678\", \"IM9375\", \"IM8657\", \"IM5852\", \"IM1530\"\n",
    "]\n",
    "\n",
    "# Four available teams\n",
    "teams = [\"1\", \"2\", \"3\", \"4\"]\n",
    "\n",
    "# Track how many LDCs per team\n",
    "ldc_count_per_team = {team: 0 for team in teams}\n",
    "\n",
    "def fetch_ir_details(ir_id):\n",
    "    \"\"\"Fetch single IR details using the /ir/{fetch_ir_id} API\"\"\"\n",
    "    url = f\"{base_url}/ir/{ir_id}\"\n",
    "    try:\n",
    "        response = requests.get(url)\n",
    "        if response.status_code == 200:\n",
    "            return response.json()\n",
    "        else:\n",
    "            print(f\"⚠️ Failed to fetch IR {ir_id} → {response.status_code}: {response.text}\")\n",
    "            return None\n",
    "    except Exception as e:\n",
    "        print(f\"❌ Error fetching IR {ir_id}: {e}\")\n",
    "        return None\n",
    "\n",
    "def assign_ir_to_team(ir_id, team_id, role):\n",
    "    \"\"\"Assign IR to a specific team\"\"\"\n",
    "    url = f\"{base_url}/api/assign_ir_to_team\"\n",
    "    data = {\n",
    "        \"ir_id\": ir_id,\n",
    "        \"team_id\": team_id,\n",
    "        \"role\": role\n",
    "    }\n",
    "    try:\n",
    "        response = requests.post(url, data=json.dumps(data), headers={\"Content-type\": \"application/json\"})\n",
    "        if response.ok:\n",
    "            print(f\"✅ Assigned {ir_id} to Team {team_id} as {role} →\", response.json())\n",
    "        else:\n",
    "            print(f\"❌ Failed to assign {ir_id} → {response.status_code}: {response.text}\")\n",
    "    except Exception as e:\n",
    "        print(f\"❌ Error assigning {ir_id}: {e}\")\n",
    "\n",
    "def bulk_assign_irs():\n",
    "    team_index = 0  # For round-robin distribution\n",
    "\n",
    "    for ir_id in ir_ids:\n",
    "        # Fetch IR details\n",
    "        ir_details = fetch_ir_details(ir_id)\n",
    "        if not ir_details:\n",
    "            continue  # Skip if IR not found or error occurred\n",
    "\n",
    "        ir_access_level = ir_details.get(\"ir_access_level\", 5)\n",
    "\n",
    "        # Skip Admins (access_level=1)\n",
    "        if ir_access_level == 1:\n",
    "            print(f\"⏭️ Skipping {ir_id} → Admin (access_level=1)\")\n",
    "            continue\n",
    "\n",
    "        # Get the team to assign IR\n",
    "        assigned = False\n",
    "        attempts = 0\n",
    "\n",
    "        # Try to find a valid team\n",
    "        while attempts < len(teams):\n",
    "            team_id = teams[team_index]\n",
    "\n",
    "            if ir_access_level == 2:  # For LDCs\n",
    "                if ldc_count_per_team[team_id] < 2:\n",
    "                    assign_ir_to_team(ir_id, team_id, \"LDC\")\n",
    "                    ldc_count_per_team[team_id] += 1\n",
    "                    assigned = True\n",
    "                    break\n",
    "                else:\n",
    "                    # Move to the next team\n",
    "                    team_index = (team_index + 1) % len(teams)\n",
    "                    attempts += 1\n",
    "            else:\n",
    "                # For all other IRs, assign as IR regardless of team LDC count\n",
    "                assign_ir_to_team(ir_id, team_id, \"IR\")\n",
    "                assigned = True\n",
    "                break\n",
    "\n",
    "        # If we couldn't assign because all teams are full for LDCs\n",
    "        if not assigned:\n",
    "            if ir_access_level == 2:\n",
    "                print(f\"⚠️ Skipping {ir_id} → All 4 teams already have 2 LDCs each\")\n",
    "            else:\n",
    "                print(f\"⚠️ Skipping {ir_id} → Could not assign\")\n",
    "\n",
    "        # Move to the next team for the next IR\n",
    "        team_index = (team_index + 1) % len(teams)\n",
    "\n",
    "        # Delay to avoid hammering the server\n",
    "        time.sleep(0.3)\n",
    "\n",
    "\n",
    "bulk_assign_irs()\n"
   ]
  },
  {
   "cell_type": "code",
   "execution_count": 5,
   "metadata": {},
   "outputs": [
    {
     "name": "stdout",
     "output_type": "stream",
     "text": [
      "HTTP error occurred: 404 Client Error: Not Found for url: https://du-backend-t437.onrender.com//set_targets - {'detail': 'Not Found'}\n"
     ]
    }
   ],
   "source": [
    "def set_targets(\n",
    "    base_url,\n",
    "    acting_ir_id,\n",
    "    ir_id=None,\n",
    "    weekly_info_target=None,\n",
    "    weekly_plan_target=None,\n",
    "    weekly_uv_target=None,\n",
    "    team_id=None,\n",
    "    team_weekly_info_target=None,\n",
    "    team_weekly_plan_target=None\n",
    "):\n",
    "    url = f\"{base_url}/set_targets\"\n",
    "    payload = {\n",
    "        \"acting_ir_id\": acting_ir_id,\n",
    "        \"ir_id\": ir_id,\n",
    "        \"weekly_info_target\": weekly_info_target,\n",
    "        \"weekly_plan_target\": weekly_plan_target,\n",
    "        \"weekly_uv_target\": weekly_uv_target,\n",
    "        \"team_id\": team_id,\n",
    "        \"team_weekly_info_target\": team_weekly_info_target,\n",
    "        \"team_weekly_plan_target\": team_weekly_plan_target\n",
    "    }\n",
    "    # Remove keys with None values\n",
    "    payload = {k: v for k, v in payload.items() if v is not None}\n",
    "    headers = {\"Content-Type\": \"application/json\"}\n",
    "\n",
    "    try:\n",
    "        response = requests.put(url, json=payload, headers=headers, timeout=10)\n",
    "        response.raise_for_status()\n",
    "        print(\"Success:\", response.json())\n",
    "        return response.json()\n",
    "    except requests.exceptions.HTTPError as http_err:\n",
    "        try:\n",
    "            print(f\"HTTP error occurred: {http_err} - {response.json()}\")\n",
    "        except Exception:\n",
    "            print(f\"HTTP error occurred: {http_err} - {response.text}\")\n",
    "    except requests.exceptions.ConnectionError as conn_err:\n",
    "        print(f\"Connection error occurred: {conn_err}\")\n",
    "    except requests.exceptions.Timeout as timeout_err:\n",
    "        print(f\"Timeout error occurred: {timeout_err}\")\n",
    "    except requests.exceptions.RequestException as req_err:\n",
    "        print(f\"An error occurred: {req_err}\")\n",
    "\n",
    "set_targets(\n",
    "    base_url,\n",
    "    acting_ir_id=\"IM6599\",\n",
    "    team_id=3,\n",
    "    team_weekly_info_target=30,\n",
    "    team_weekly_plan_target=15\n",
    ")"
   ]
  },
  {
   "cell_type": "code",
   "execution_count": null,
   "metadata": {},
   "outputs": [],
   "source": []
  }
 ],
 "metadata": {
  "kernelspec": {
   "display_name": "Python 3",
   "language": "python",
   "name": "python3"
  },
  "language_info": {
   "codemirror_mode": {
    "name": "ipython",
    "version": 3
   },
   "file_extension": ".py",
   "mimetype": "text/x-python",
   "name": "python",
   "nbconvert_exporter": "python",
   "pygments_lexer": "ipython3",
   "version": "3.9.6"
  }
 },
 "nbformat": 4,
 "nbformat_minor": 2
}
