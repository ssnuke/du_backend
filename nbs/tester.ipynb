{
 "cells": [
  {
   "cell_type": "code",
   "execution_count": 14,
   "metadata": {},
   "outputs": [],
   "source": [
    "import requests,json\n",
    "#base_url = \"http://localhost:8002\"\n",
    "base_url = \"https://du-backend-t437.onrender.com/\""
   ]
  },
  {
   "cell_type": "code",
   "execution_count": 12,
   "metadata": {},
   "outputs": [
    {
     "name": "stdout",
     "output_type": "stream",
     "text": [
      "<bound method Response.json of <Response [405]>>\n",
      "<bound method Response.json of <Response [404]>>\n"
     ]
    }
   ],
   "source": [
    "\n",
    "def getIRId():\n",
    "    path = \"/api/1\"\n",
    "    end_point= f\"{base_url}{path}\"\n",
    "    response = requests.get(end_point)\n",
    "    if response.ok:\n",
    "        print(response.json())\n",
    "    else:\n",
    "        print(response.json)\n",
    "\n",
    "getIRId()\n",
    "\n",
    "def getAllIds():\n",
    "    path = \"/api/\"\n",
    "    end_point= f\"{base_url}{path}\"\n",
    "    response = requests.get(end_point)\n",
    "    if response.ok:\n",
    "        print(response.json())\n",
    "    else:\n",
    "        print(response.json)\n",
    "\n",
    "getAllIds()\n"
   ]
  },
  {
   "cell_type": "code",
   "execution_count": 9,
   "metadata": {},
   "outputs": [
    {
     "name": "stdout",
     "output_type": "stream",
     "text": [
      "{'ir_id': 'IM7216'}\n",
      "{'ir_id': 'IM6599'}\n",
      "{'ir_id': 'IM1579'}\n",
      "{'ir_id': 'IM9252'}\n",
      "{'ir_id': 'IM2004'}\n",
      "{'ir_id': 'IM4230'}\n",
      "{'ir_id': 'IM7990'}\n",
      "{'ir_id': 'IM0262'}\n",
      "{'ir_id': 'IM1781'}\n",
      "{'ir_id': 'IM1332'}\n",
      "{'ir_id': 'IM9002'}\n",
      "{'ir_id': 'IM4546'}\n",
      "{'ir_id': 'IM4927'}\n",
      "{'ir_id': 'IM6392'}\n",
      "{'ir_id': 'IM2779'}\n",
      "{'ir_id': 'IM9215'}\n",
      "{'ir_id': 'IM8947'}\n",
      "{'ir_id': 'IM8361'}\n",
      "{'ir_id': 'IM2499'}\n",
      "{'ir_id': 'IM0424'}\n",
      "{'ir_id': 'IM6678'}\n",
      "{'ir_id': 'IM9375'}\n",
      "{'ir_id': 'IM8657'}\n",
      "{'ir_id': 'IM5852'}\n",
      "{'ir_id': 'IM1530'}\n",
      "HTTP error occurred: {\"detail\":{\"error\":\"Unexpected error\",\"details\":\"(psycopg2.errors.UniqueViolation) duplicate key value violates unique constraint \\\"iridmodel_pkey\\\"\\nDETAIL:  Key (ir_id)=(IM8128) already exists.\\n\\n[SQL: INSERT INTO iridmodel (ir_id) VALUES (%(ir_id)s)]\\n[parameters: {'ir_id': 'IM8128'}]\\n(Background on this error at: https://sqlalche.me/e/20/gkpj)\"}}\n"
     ]
    }
   ],
   "source": [
    "import requests\n",
    "import json\n",
    "\n",
    "ir_ids = [\n",
    "    \"IM7216\", \"IM6599\", \"IM1579\", \"IM9252\", \"IM2004\", \"IM4230\", \"IM7990\", \"IM0262\",\n",
    "    \"IM1781\", \"IM1332\", \"IM9002\", \"IM4546\", \"IM4927\", \"IM6392\", \"IM2779\", \"IM9215\",\n",
    "    \"IM8947\", \"IM8361\", \"IM2499\", \"IM0424\", \"IM6678\", \"IM9375\", \"IM8657\", \"IM5852\", \"IM1530\",\"IM8128\"\n",
    "]\n",
    "\n",
    "\n",
    "for ir in ir_ids:\n",
    "    path = \"/api/add_ir_id\"\n",
    "    end_point = f\"{base_url}{path}\"\n",
    "    payload = {\"ir_id\": ir}\n",
    "\n",
    "    try:\n",
    "        response = requests.post(end_point, json=payload, timeout=10)\n",
    "        response.raise_for_status()\n",
    "        print(response.json())\n",
    "    except requests.exceptions.Timeout:\n",
    "        print(\"Request timed out.\")\n",
    "    except requests.exceptions.ConnectionError:\n",
    "        print(\"Failed to connect to the server.\")\n",
    "    except requests.exceptions.HTTPError as err:\n",
    "        print(f\"HTTP error occurred: {err.response.text}\")\n",
    "    except Exception as e:\n",
    "        print(f\"An error occurred: {e}\")\n",
    "\n"
   ]
  },
  {
   "cell_type": "code",
   "execution_count": 24,
   "metadata": {},
   "outputs": [
    {
     "name": "stdout",
     "output_type": "stream",
     "text": [
      "[{'ir_id': 'IM8128'}, {'ir_id': 'IM7216'}, {'ir_id': 'IM6599'}, {'ir_id': 'IM1579'}, {'ir_id': 'IM9252'}, {'ir_id': 'IM2004'}, {'ir_id': 'IM4230'}, {'ir_id': 'IM7990'}, {'ir_id': 'IM0262'}, {'ir_id': 'IM1781'}, {'ir_id': 'IM1332'}, {'ir_id': 'IM9002'}, {'ir_id': 'IM4546'}, {'ir_id': 'IM4927'}, {'ir_id': 'IM6392'}, {'ir_id': 'IM2779'}, {'ir_id': 'IM9215'}, {'ir_id': 'IM8947'}, {'ir_id': 'IM8361'}, {'ir_id': 'IM2499'}, {'ir_id': 'IM0424'}, {'ir_id': 'IM6678'}, {'ir_id': 'IM9375'}, {'ir_id': 'IM8657'}, {'ir_id': 'IM5852'}, {'ir_id': 'IM1530'}]\n"
     ]
    }
   ],
   "source": [
    "def getAllIr():\n",
    "    path = \"/api/get_all_ir\"\n",
    "    end_point= f\"{base_url}{path}\"\n",
    "    response = requests.get(end_point)\n",
    "    if response.ok:\n",
    "        print(response.json())\n",
    "    else:\n",
    "        print(\"Res Error \", response.json())\n",
    "\n",
    "getAllIr()"
   ]
  },
  {
   "cell_type": "code",
   "execution_count": 16,
   "metadata": {},
   "outputs": [
    {
     "name": "stdout",
     "output_type": "stream",
     "text": [
      "Error  {'detail': 'IR ID Not Found!'}\n"
     ]
    }
   ],
   "source": [
    "def fetchSingleIr():\n",
    "    path = \"/api/ir/IM6599\"\n",
    "    end_point = f\"{base_url}{path}\"\n",
    "    response = requests.get(end_point)\n",
    "    if response.ok:\n",
    "        print(response.json())\n",
    "    else:\n",
    "        print(\"Error \", response.json())\n",
    "\n",
    "fetchSingleIr()"
   ]
  },
  {
   "cell_type": "code",
   "execution_count": null,
   "metadata": {},
   "outputs": [],
   "source": [
    "def resgisterIr(ir):\n",
    "    path = \"/api/register_new_ir\"\n",
    "    end_point = f\"{base_url}{path}\"\n",
    "    data = {\n",
    "        \"ir_id\":ir,\n",
    "        \"ir_name\":\"Snehith S Nair\",\n",
    "        \"ir_email\": \"snehithnair901@gmail.com\",\n",
    "        \"ir_password\": \"live2code\",\n",
    "        }\n",
    "    response = requests.post(end_point,data=json.dumps(data),headers={\"Content-type\":\"application/json\"}) \n",
    "    if response.ok:\n",
    "        print(\"Success \", response.json())\n",
    "    else:\n",
    "        print(\"Errror \", response.json())\n",
    "\n",
    "ir_ids = [\n",
    "    \"IM7216\", \"IM6599\", \"IM1579\", \"IM9252\", \"IM2004\", \"IM4230\", \"IM7990\", \"IM0262\",\n",
    "    \"IM1781\", \"IM1332\", \"IM9002\", \"IM4546\", \"IM4927\", \"IM6392\", \"IM2779\", \"IM9215\",\n",
    "    \"IM8947\", \"IM8361\", \"IM2499\", \"IM0424\", \"IM6678\", \"IM9375\", \"IM8657\", \"IM5852\", \"IM1530\",\"IM8128\"\n",
    "]\n",
    "\n",
    "for ir in ir_ids:\n",
    "    try:\n",
    "        print(f\"Registering IR ID: {ir}\")\n",
    "        resgisterIr(ir)\n",
    "    except Exception as e:\n",
    "        print(f\"An error occurred: {e}\")\n",
    "\n",
    "resgisterIr()"
   ]
  },
  {
   "cell_type": "code",
   "execution_count": 25,
   "metadata": {},
   "outputs": [
    {
     "name": "stdout",
     "output_type": "stream",
     "text": [
      "Result  {'data': [], 'count': 0}\n"
     ]
    }
   ],
   "source": [
    "def getAllRegisteredIr():\n",
    "    path = \"/api/irs\"\n",
    "    end_point = f\"{base_url}{path}\"\n",
    "    response = requests.get(end_point)\n",
    "    if response.ok:\n",
    "        print(\"Result \" , response.json())\n",
    "    else:\n",
    "        print(\"Error \", response.json())\n",
    "        \n",
    "getAllRegisteredIr()"
   ]
  },
  {
   "cell_type": "code",
   "execution_count": 18,
   "metadata": {},
   "outputs": [
    {
     "name": "stdout",
     "output_type": "stream",
     "text": [
      "Error  {'detail': '404: IR ID Not Found!'}\n"
     ]
    }
   ],
   "source": [
    "def login():\n",
    "    path =\"/api/login\"\n",
    "    end_point=f\"{base_url}{path}\"\n",
    "    data = {\"ir_id\":\"IM8128\",\"ir_password\":\"Robvandam\"}\n",
    "    data = json.dumps(data)\n",
    "    response = requests.post(end_point,data=data,headers={\"Content-type\":\"application/json\"})\n",
    "    if response.ok:\n",
    "        print(\"S \", response.json())\n",
    "    else:\n",
    "        print(\"Error \", response.json())\n",
    "\n",
    "login()"
   ]
  },
  {
   "cell_type": "code",
   "execution_count": 21,
   "metadata": {},
   "outputs": [
    {
     "name": "stdout",
     "output_type": "stream",
     "text": [
      "Success  {'message': 'Team created', 'team_id': 3, 'team_name': 'Wolfpacks'}\n"
     ]
    }
   ],
   "source": [
    "def createTeam():\n",
    "    path = \"/api/create_team\"\n",
    "    end_point = f\"{base_url}{path}\"\n",
    "    data = {\"name\":\"Wolfpacks\"}\n",
    "    data = json.dumps(data)\n",
    "    response = requests.post(end_point,data=data,headers={\"Content-type\":\"application/json\"})\n",
    "    if response.ok:\n",
    "        print(\"Success \", response.json())\n",
    "    else:\n",
    "        print(\"Failure \", response.json())\n",
    "\n",
    "createTeam()"
   ]
  },
  {
   "cell_type": "code",
   "execution_count": null,
   "metadata": {},
   "outputs": [],
   "source": [
    "def assignIrToTeam():\n",
    "    path = \"/api/assign_ir_to_team\"\n",
    "    end_point = f\"{base_url}{path}\"\n",
    "    data = {\"ir_id\":\"IM8128\",\"team_id\":\"2\",\"role\":\"LDC\"}\n",
    "    data = json.dumps(data)\n",
    "    response = requests.post(end_point,data=data,headers={\"Content-type\":\"application/json\"})\n",
    "    if response.ok:\n",
    "        print(\"Success \", response.json())\n",
    "    else:\n",
    "        print(\"Failure \", response.json())\n",
    "\n",
    "assignIrToTeam()\n"
   ]
  },
  {
   "cell_type": "code",
   "execution_count": 22,
   "metadata": {},
   "outputs": [
    {
     "name": "stdout",
     "output_type": "stream",
     "text": [
      "Success  []\n"
     ]
    }
   ],
   "source": [
    "def getLdc():\n",
    "    path = \"/api/ldcs\"\n",
    "    end_point =f\"{base_url}{path}\"\n",
    "    response = requests.get(end_point)\n",
    "    if response.ok:\n",
    "        print(\"Success \", response.json())\n",
    "    else:\n",
    "        print(\"Failure \", response.json())\n",
    "\n",
    "getLdc()"
   ]
  },
  {
   "cell_type": "code",
   "execution_count": 17,
   "metadata": {},
   "outputs": [
    {
     "name": "stdout",
     "output_type": "stream",
     "text": [
      "Success  []\n"
     ]
    }
   ],
   "source": [
    "def getLdcTeamsManaged():\n",
    "    path = \"/api/teams_by_ldc/IM8128\"\n",
    "    end_point = f\"{base_url}{path}\"\n",
    "    response = requests.get(end_point)\n",
    "    if response.ok:\n",
    "        print(\"Success \", response.json())\n",
    "    else:\n",
    "        print(\"Failure \", response.json())\n",
    "\n",
    "getLdcTeamsManaged()"
   ]
  },
  {
   "cell_type": "code",
   "execution_count": 23,
   "metadata": {},
   "outputs": [
    {
     "name": "stdout",
     "output_type": "stream",
     "text": [
      "⚠️ Failed to fetch IR IM7216 → 404: {\"detail\":\"Not Found\"}\n",
      "⚠️ Failed to fetch IR IM6599 → 404: {\"detail\":\"Not Found\"}\n",
      "⚠️ Failed to fetch IR IM1579 → 404: {\"detail\":\"Not Found\"}\n",
      "⚠️ Failed to fetch IR IM9252 → 404: {\"detail\":\"Not Found\"}\n",
      "⚠️ Failed to fetch IR IM2004 → 404: {\"detail\":\"Not Found\"}\n",
      "⚠️ Failed to fetch IR IM4230 → 404: {\"detail\":\"Not Found\"}\n",
      "⚠️ Failed to fetch IR IM7990 → 404: {\"detail\":\"Not Found\"}\n",
      "⚠️ Failed to fetch IR IM0262 → 404: {\"detail\":\"Not Found\"}\n",
      "⚠️ Failed to fetch IR IM1781 → 404: {\"detail\":\"Not Found\"}\n",
      "⚠️ Failed to fetch IR IM1332 → 404: {\"detail\":\"Not Found\"}\n",
      "⚠️ Failed to fetch IR IM9002 → 404: {\"detail\":\"Not Found\"}\n",
      "⚠️ Failed to fetch IR IM4546 → 404: {\"detail\":\"Not Found\"}\n",
      "⚠️ Failed to fetch IR IM4927 → 404: {\"detail\":\"Not Found\"}\n",
      "⚠️ Failed to fetch IR IM6392 → 404: {\"detail\":\"Not Found\"}\n",
      "⚠️ Failed to fetch IR IM2779 → 404: {\"detail\":\"Not Found\"}\n",
      "⚠️ Failed to fetch IR IM9215 → 404: {\"detail\":\"Not Found\"}\n",
      "⚠️ Failed to fetch IR IM8947 → 404: {\"detail\":\"Not Found\"}\n",
      "⚠️ Failed to fetch IR IM8361 → 404: {\"detail\":\"Not Found\"}\n",
      "⚠️ Failed to fetch IR IM2499 → 404: {\"detail\":\"Not Found\"}\n",
      "⚠️ Failed to fetch IR IM0424 → 404: {\"detail\":\"Not Found\"}\n",
      "⚠️ Failed to fetch IR IM6678 → 404: {\"detail\":\"Not Found\"}\n",
      "⚠️ Failed to fetch IR IM9375 → 404: {\"detail\":\"Not Found\"}\n",
      "⚠️ Failed to fetch IR IM8657 → 404: {\"detail\":\"Not Found\"}\n",
      "⚠️ Failed to fetch IR IM5852 → 404: {\"detail\":\"Not Found\"}\n",
      "⚠️ Failed to fetch IR IM1530 → 404: {\"detail\":\"Not Found\"}\n"
     ]
    }
   ],
   "source": [
    "import requests\n",
    "import json\n",
    "import time\n",
    "\n",
    "\n",
    "\n",
    "ir_ids = [\n",
    "    \"IM7216\", \"IM6599\", \"IM1579\", \"IM9252\", \"IM2004\", \"IM4230\", \"IM7990\", \"IM0262\",\n",
    "    \"IM1781\", \"IM1332\", \"IM9002\", \"IM4546\", \"IM4927\", \"IM6392\", \"IM2779\", \"IM9215\",\n",
    "    \"IM8947\", \"IM8361\", \"IM2499\", \"IM0424\", \"IM6678\", \"IM9375\", \"IM8657\", \"IM5852\", \"IM1530\"\n",
    "]\n",
    "\n",
    "# Four available teams\n",
    "teams = [\"1\", \"2\", \"3\", \"4\"]\n",
    "\n",
    "# Track how many LDCs per team\n",
    "ldc_count_per_team = {team: 0 for team in teams}\n",
    "\n",
    "def fetch_ir_details(ir_id):\n",
    "    \"\"\"Fetch single IR details using the /ir/{fetch_ir_id} API\"\"\"\n",
    "    url = f\"{base_url}/ir/{ir_id}\"\n",
    "    try:\n",
    "        response = requests.get(url)\n",
    "        if response.status_code == 200:\n",
    "            return response.json()\n",
    "        else:\n",
    "            print(f\"⚠️ Failed to fetch IR {ir_id} → {response.status_code}: {response.text}\")\n",
    "            return None\n",
    "    except Exception as e:\n",
    "        print(f\"❌ Error fetching IR {ir_id}: {e}\")\n",
    "        return None\n",
    "\n",
    "def assign_ir_to_team(ir_id, team_id, role):\n",
    "    \"\"\"Assign IR to a specific team\"\"\"\n",
    "    url = f\"{base_url}/api/assign_ir_to_team\"\n",
    "    data = {\n",
    "        \"ir_id\": ir_id,\n",
    "        \"team_id\": team_id,\n",
    "        \"role\": role\n",
    "    }\n",
    "    try:\n",
    "        response = requests.post(url, data=json.dumps(data), headers={\"Content-type\": \"application/json\"})\n",
    "        if response.ok:\n",
    "            print(f\"✅ Assigned {ir_id} to Team {team_id} as {role} →\", response.json())\n",
    "        else:\n",
    "            print(f\"❌ Failed to assign {ir_id} → {response.status_code}: {response.text}\")\n",
    "    except Exception as e:\n",
    "        print(f\"❌ Error assigning {ir_id}: {e}\")\n",
    "\n",
    "def bulk_assign_irs():\n",
    "    team_index = 0  # For round-robin distribution\n",
    "\n",
    "    for ir_id in ir_ids:\n",
    "        # Fetch IR details\n",
    "        ir_details = fetch_ir_details(ir_id)\n",
    "        if not ir_details:\n",
    "            continue  # Skip if IR not found or error occurred\n",
    "\n",
    "        ir_access_level = ir_details.get(\"ir_access_level\", 5)\n",
    "\n",
    "        # Skip Admins (access_level=1)\n",
    "        if ir_access_level == 1:\n",
    "            print(f\"⏭️ Skipping {ir_id} → Admin (access_level=1)\")\n",
    "            continue\n",
    "\n",
    "        # Get the team to assign IR\n",
    "        assigned = False\n",
    "        attempts = 0\n",
    "\n",
    "        # Try to find a valid team\n",
    "        while attempts < len(teams):\n",
    "            team_id = teams[team_index]\n",
    "\n",
    "            if ir_access_level == 2:  # For LDCs\n",
    "                if ldc_count_per_team[team_id] < 2:\n",
    "                    assign_ir_to_team(ir_id, team_id, \"LDC\")\n",
    "                    ldc_count_per_team[team_id] += 1\n",
    "                    assigned = True\n",
    "                    break\n",
    "                else:\n",
    "                    # Move to the next team\n",
    "                    team_index = (team_index + 1) % len(teams)\n",
    "                    attempts += 1\n",
    "            else:\n",
    "                # For all other IRs, assign as IR regardless of team LDC count\n",
    "                assign_ir_to_team(ir_id, team_id, \"IR\")\n",
    "                assigned = True\n",
    "                break\n",
    "\n",
    "        # If we couldn't assign because all teams are full for LDCs\n",
    "        if not assigned:\n",
    "            if ir_access_level == 2:\n",
    "                print(f\"⚠️ Skipping {ir_id} → All 4 teams already have 2 LDCs each\")\n",
    "            else:\n",
    "                print(f\"⚠️ Skipping {ir_id} → Could not assign\")\n",
    "\n",
    "        # Move to the next team for the next IR\n",
    "        team_index = (team_index + 1) % len(teams)\n",
    "\n",
    "        # Delay to avoid hammering the server\n",
    "        time.sleep(0.3)\n",
    "\n",
    "\n",
    "bulk_assign_irs()\n"
   ]
  },
  {
   "cell_type": "code",
   "execution_count": 19,
   "metadata": {},
   "outputs": [
    {
     "name": "stdout",
     "output_type": "stream",
     "text": [
      "HTTP error occurred: 404 Client Error: Not Found for url: https://du-backend-t437.onrender.com//api/set_targets - {'detail': 'IR ID Not Found!'}\n"
     ]
    }
   ],
   "source": [
    "def set_targets(\n",
    "    base_url,\n",
    "    acting_ir_id,\n",
    "    ir_id=None,\n",
    "    weekly_info_target=None,\n",
    "    weekly_plan_target=None,\n",
    "    weekly_uv_target=None,\n",
    "    team_id=None,\n",
    "    team_weekly_info_target=None,\n",
    "    team_weekly_plan_target=None\n",
    "):\n",
    "    path = \"/api/set_targets\"\n",
    "    url = f\"{base_url}{path}\"\n",
    "    payload = {\n",
    "        \"acting_ir_id\": acting_ir_id,\n",
    "        \"ir_id\": ir_id,\n",
    "        \"weekly_info_target\": weekly_info_target,\n",
    "        \"weekly_plan_target\": weekly_plan_target,\n",
    "        \"weekly_uv_target\": weekly_uv_target,\n",
    "        \"team_id\": team_id,\n",
    "        \"team_weekly_info_target\": team_weekly_info_target,\n",
    "        \"team_weekly_plan_target\": team_weekly_plan_target\n",
    "    }\n",
    "    # Remove keys with None values\n",
    "    payload = {k: v for k, v in payload.items() if v is not None}\n",
    "    headers = {\"Content-Type\": \"application/json\"}\n",
    "\n",
    "    try:\n",
    "        response = requests.put(url, json=payload, headers=headers, timeout=10)\n",
    "        response.raise_for_status()\n",
    "        print(\"Success:\", response.json())\n",
    "        return response.json()\n",
    "    except requests.exceptions.HTTPError as http_err:\n",
    "        try:\n",
    "            print(f\"HTTP error occurred: {http_err} - {response.json()}\")\n",
    "        except Exception:\n",
    "            print(f\"HTTP error occurred: {http_err} - {response.text}\")\n",
    "    except requests.exceptions.ConnectionError as conn_err:\n",
    "        print(f\"Connection error occurred: {conn_err}\")\n",
    "    except requests.exceptions.Timeout as timeout_err:\n",
    "        print(f\"Timeout error occurred: {timeout_err}\")\n",
    "    except requests.exceptions.RequestException as req_err:\n",
    "        print(f\"An error occurred: {req_err}\")\n",
    "\n",
    "# Example call\n",
    "set_targets(\n",
    "    base_url,\n",
    "    acting_ir_id=\"IM9252\",\n",
    "    team_id=3,\n",
    "    team_weekly_info_target=30,\n",
    "    team_weekly_plan_target=15\n",
    ")"
   ]
  },
  {
   "cell_type": "code",
   "execution_count": null,
   "metadata": {},
   "outputs": [],
   "source": []
  }
 ],
 "metadata": {
  "kernelspec": {
   "display_name": "Python 3",
   "language": "python",
   "name": "python3"
  },
  "language_info": {
   "codemirror_mode": {
    "name": "ipython",
    "version": 3
   },
   "file_extension": ".py",
   "mimetype": "text/x-python",
   "name": "python",
   "nbconvert_exporter": "python",
   "pygments_lexer": "ipython3",
   "version": "3.9.6"
  }
 },
 "nbformat": 4,
 "nbformat_minor": 2
}
