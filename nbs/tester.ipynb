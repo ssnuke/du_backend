{
 "cells": [
  {
   "cell_type": "code",
   "execution_count": 5,
   "metadata": {},
   "outputs": [],
   "source": [
    "import requests,json\n",
    "#base_url = \"http://localhost:8002\"\n",
    "base_url = \"https://du-backend-t437.onrender.com/\""
   ]
  },
  {
   "cell_type": "code",
   "execution_count": null,
   "metadata": {},
   "outputs": [],
   "source": [
    "\n",
    "def getIRId():\n",
    "    path = \"/api/1\"\n",
    "    end_point= f\"{base_url}{path}\"\n",
    "    response = requests.get(end_point)\n",
    "    if response.ok:\n",
    "        print(response.json())\n",
    "    else:\n",
    "        print(response.json)\n",
    "\n",
    "getIRId()\n",
    "\n",
    "def getAllIds():\n",
    "    path = \"/api/\"\n",
    "    end_point= f\"{base_url}{path}\"\n",
    "    response = requests.get(end_point)\n",
    "    if response.ok:\n",
    "        print(response.json())\n",
    "    else:\n",
    "        print(response.json)\n",
    "\n",
    "getAllIds()\n"
   ]
  },
  {
   "cell_type": "code",
   "execution_count": null,
   "metadata": {},
   "outputs": [],
   "source": [
    "import requests\n",
    "import json\n",
    "\n",
    "def createIr():  # Make sure this is defined\n",
    "    path = \"/api/add_ir_id\"\n",
    "    end_point = f\"{base_url}{path}\"\n",
    "    payload = {\"ir_id\": \"IM8128\"}\n",
    "\n",
    "    try:\n",
    "        response = requests.post(end_point, json=payload, timeout=10)\n",
    "        response.raise_for_status()\n",
    "        print(response.json())\n",
    "    except requests.exceptions.Timeout:\n",
    "        print(\"Request timed out.\")\n",
    "    except requests.exceptions.ConnectionError:\n",
    "        print(\"Failed to connect to the server.\")\n",
    "    except requests.exceptions.HTTPError as err:\n",
    "        print(f\"HTTP error occurred: {err.response.text}\")\n",
    "    except Exception as e:\n",
    "        print(f\"An error occurred: {e}\")\n",
    "\n",
    "createIr()\n"
   ]
  },
  {
   "cell_type": "code",
   "execution_count": 7,
   "metadata": {},
   "outputs": [
    {
     "name": "stdout",
     "output_type": "stream",
     "text": [
      "[{'ir_id': 'IM8128'}, {'ir_id': 'IM0001'}, {'ir_id': 'IM0009'}, {'ir_id': 'IM0003'}, {'ir_id': 'IM7216'}, {'ir_id': 'IM6599'}, {'ir_id': 'IM1579'}, {'ir_id': 'IM9252'}, {'ir_id': 'IM2004'}, {'ir_id': 'IM4230'}, {'ir_id': 'IM7990'}, {'ir_id': 'IM0262'}, {'ir_id': 'IM1781'}, {'ir_id': 'IM1332'}, {'ir_id': 'IM9002'}, {'ir_id': 'IM4546'}, {'ir_id': 'IM4927'}, {'ir_id': 'IM6392'}, {'ir_id': 'IM2779'}, {'ir_id': 'IM9215'}, {'ir_id': 'IM8947'}, {'ir_id': 'IM8361'}, {'ir_id': 'IM2499'}, {'ir_id': 'IM0424'}, {'ir_id': 'IM6678'}, {'ir_id': 'IM9375'}, {'ir_id': 'IM8657'}, {'ir_id': 'IM5852'}, {'ir_id': 'IM1530'}]\n"
     ]
    }
   ],
   "source": [
    "def getAllIr():\n",
    "    path = \"/api/get_all_ir\"\n",
    "    end_point= f\"{base_url}{path}\"\n",
    "    response = requests.get(end_point)\n",
    "    if response.ok:\n",
    "        print(response.json())\n",
    "    else:\n",
    "        print(\"Res Error \", response.json())\n",
    "\n",
    "getAllIr()"
   ]
  },
  {
   "cell_type": "code",
   "execution_count": null,
   "metadata": {},
   "outputs": [],
   "source": [
    "def fetchSingleIr():\n",
    "    path = \"/api/ir/IM8128\"\n",
    "    end_point = f\"{base_url}{path}\"\n",
    "    response = requests.get(end_point)\n",
    "    if response.ok:\n",
    "        print(response.json())\n",
    "    else:\n",
    "        print(\"Error \", response.json())\n",
    "\n",
    "fetchSingleIr()"
   ]
  },
  {
   "cell_type": "code",
   "execution_count": 9,
   "metadata": {},
   "outputs": [
    {
     "name": "stdout",
     "output_type": "stream",
     "text": [
      "Errror  {'detail': {'error': 'Unexpected error', 'details': '(psycopg2.errors.UndefinedColumn) column \"ir_access_level\" of relation \"irmodel\" does not exist\\nLINE 1: INSERT INTO irmodel (ir_id, ir_name, ir_email, ir_access_lev...\\n                                                       ^\\n\\n[SQL: INSERT INTO irmodel (ir_id, ir_name, ir_email, ir_access_level, ir_password, status, plan_count, dr_count, info_count, started_date, name_list) VALUES (%(ir_id)s, %(ir_name)s, %(ir_email)s, %(ir_access_level)s, %(ir_password)s, %(status)s, %(plan_count)s, %(dr_count)s, %(info_count)s, %(started_date)s, %(name_list)s)]\\n[parameters: {\\'ir_id\\': \\'IM8128\\', \\'ir_name\\': \\'Snehith S Nair\\', \\'ir_email\\': \\'snehithnair901@gmail.com\\', \\'ir_access_level\\': 5, \\'ir_password\\': \\'$2b$12$3SILwfI917X7bhzQdgbSJO0b5Aib9oF9eFnumDGxvP.W5fvgmaBIO\\', \\'status\\': True, \\'plan_count\\': 0, \\'dr_count\\': 0, \\'info_count\\': 0, \\'started_date\\': \\'09-08-2025\\', \\'name_list\\': 0}]\\n(Background on this error at: https://sqlalche.me/e/20/f405)'}}\n"
     ]
    }
   ],
   "source": [
    "def resgisterIr():\n",
    "    path = \"/api/register_new_ir\"\n",
    "    end_point = f\"{base_url}{path}\"\n",
    "    data = {\n",
    "        \"ir_id\":\"IM8128\",\n",
    "        \"ir_name\":\"Snehith S Nair\",\n",
    "        \"ir_email\": \"snehithnair901@gmail.com\",\n",
    "        \"ir_password\": \"Robvandam\",\n",
    "        }\n",
    "    response = requests.post(end_point,data=json.dumps(data),headers={\"Content-type\":\"application/json\"}) \n",
    "    if response.ok:\n",
    "        print(\"Success \", response.json())\n",
    "    else:\n",
    "        print(\"Errror \", response.json())\n",
    "\n",
    "resgisterIr()"
   ]
  },
  {
   "cell_type": "code",
   "execution_count": 10,
   "metadata": {},
   "outputs": [
    {
     "name": "stdout",
     "output_type": "stream",
     "text": [
      "Error  {'detail': {'Error': '(psycopg2.errors.UndefinedColumn) column irmodel.ir_access_level does not exist\\nLINE 1: ...irmodel.ir_id, irmodel.ir_name, irmodel.ir_email, irmodel.ir...\\n                                                             ^\\n\\n[SQL: SELECT irmodel.ir_id, irmodel.ir_name, irmodel.ir_email, irmodel.ir_access_level, irmodel.ir_password, irmodel.status, irmodel.plan_count, irmodel.dr_count, irmodel.info_count, irmodel.started_date, irmodel.name_list \\nFROM irmodel]\\n(Background on this error at: https://sqlalche.me/e/20/f405)'}}\n"
     ]
    }
   ],
   "source": [
    "def getAllRegisteredIr():\n",
    "    path = \"/api/irs\"\n",
    "    end_point = f\"{base_url}{path}\"\n",
    "    response = requests.get(end_point)\n",
    "    if response.ok:\n",
    "        print(\"Result \" , response.json())\n",
    "    else:\n",
    "        print(\"Error \", response.json())\n",
    "        \n",
    "getAllRegisteredIr()"
   ]
  },
  {
   "cell_type": "code",
   "execution_count": null,
   "metadata": {},
   "outputs": [],
   "source": [
    "def login():\n",
    "    path =\"/api/login\"\n",
    "    end_point=f\"{base_url}{path}\"\n",
    "    data = {\"ir_id\":\"IM8128\",\"ir_password\":\"Robvandam\"}\n",
    "    data = json.dumps(data)\n",
    "    response = requests.post(end_point,data=data,headers={\"Content-type\":\"application/json\"})\n",
    "    if response.ok:\n",
    "        print(\"S \", response.json())\n",
    "    else:\n",
    "        print(\"Error \", response.json())\n",
    "\n",
    "login()"
   ]
  },
  {
   "cell_type": "code",
   "execution_count": null,
   "metadata": {},
   "outputs": [],
   "source": [
    "def createTeam():\n",
    "    path = \"/api/create_team\"\n",
    "    end_point = f\"{base_url}{path}\"\n",
    "    data = {\"name\":\"Wolfpacks\"}\n",
    "    data = json.dumps(data)\n",
    "    response = requests.post(end_point,data=data,headers={\"Content-type\":\"application/json\"})\n",
    "    if response.ok:\n",
    "        print(\"Success \", response.json())\n",
    "    else:\n",
    "        print(\"Failure \", response.json())\n",
    "\n",
    "createTeam()"
   ]
  },
  {
   "cell_type": "code",
   "execution_count": null,
   "metadata": {},
   "outputs": [],
   "source": [
    "def assignIrToTeam():\n",
    "    path = \"/api/assign_ir_to_team\"\n",
    "    end_point = f\"{base_url}{path}\"\n",
    "    data = {\"ir_id\":\"IM8128\",\"team_id\":\"2\",\"role\":\"LDC\"}\n",
    "    data = json.dumps(data)\n",
    "    response = requests.post(end_point,data=data,headers={\"Content-type\":\"application/json\"})\n",
    "    if response.ok:\n",
    "        print(\"Success \", response.json())\n",
    "    else:\n",
    "        print(\"Failure \", response.json())\n",
    "\n",
    "assignIrToTeam()\n"
   ]
  },
  {
   "cell_type": "code",
   "execution_count": null,
   "metadata": {},
   "outputs": [],
   "source": [
    "def getLdc():\n",
    "    path = \"/api/ldcs\"\n",
    "    end_point =f\"{base_url}{path}\"\n",
    "    response = requests.get(end_point)\n",
    "    if response.ok:\n",
    "        print(\"Success \", response.json())\n",
    "    else:\n",
    "        print(\"Failure \", response.json())\n",
    "\n",
    "getLdc()"
   ]
  },
  {
   "cell_type": "code",
   "execution_count": null,
   "metadata": {},
   "outputs": [],
   "source": [
    "def getLdcTeamsManaged():\n",
    "    path = \"/api/teams_by_ldc/IM8128\"\n",
    "    end_point = f\"{base_url}{path}\"\n",
    "    response = requests.get(end_point)\n",
    "    if response.ok:\n",
    "        print(\"Success \", response.json())\n",
    "    else:\n",
    "        print(\"Failure \", response.json())\n",
    "\n",
    "getLdcTeamsManaged()"
   ]
  }
 ],
 "metadata": {
  "kernelspec": {
   "display_name": ".venv",
   "language": "python",
   "name": "python3"
  },
  "language_info": {
   "codemirror_mode": {
    "name": "ipython",
    "version": 3
   },
   "file_extension": ".py",
   "mimetype": "text/x-python",
   "name": "python",
   "nbconvert_exporter": "python",
   "pygments_lexer": "ipython3",
   "version": "3.9.6"
  }
 },
 "nbformat": 4,
 "nbformat_minor": 2
}
